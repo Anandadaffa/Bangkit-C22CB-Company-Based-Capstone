{
  "cells": [
    {
      "cell_type": "markdown",
      "metadata": {
        "id": "view-in-github",
        "colab_type": "text"
      },
      "source": [
        "<a href=\"https://colab.research.google.com/github/Pororocode/Bangkit-C22CB-Company-Based-Capstone/blob/main/ML/bert_squad-id_transfer_learn.ipynb\" target=\"_parent\"><img src=\"https://colab.research.google.com/assets/colab-badge.svg\" alt=\"Open In Colab\"/></a>"
      ]
    },
    {
      "cell_type": "code",
      "source": [
        "from google.colab import drive\n",
        "drive.mount('/content/drive')"
      ],
      "metadata": {
        "colab": {
          "base_uri": "https://localhost:8080/"
        },
        "id": "NFx2VDyvtYwA",
        "outputId": "d5298664-11d2-459a-d689-f47abbd57e0b"
      },
      "execution_count": null,
      "outputs": [
        {
          "output_type": "stream",
          "name": "stdout",
          "text": [
            "Mounted at /content/drive\n"
          ]
        }
      ]
    },
    {
      "cell_type": "code",
      "source": [
        "gpu_info = !nvidia-smi\n",
        "gpu_info = '\\n'.join(gpu_info)\n",
        "if gpu_info.find('failed') >= 0:\n",
        "  print('Not connected to a GPU')\n",
        "else:\n",
        "  print(gpu_info)"
      ],
      "metadata": {
        "colab": {
          "base_uri": "https://localhost:8080/"
        },
        "id": "I7GUy06jtift",
        "outputId": "5645a150-fd15-4f7d-c813-1cb72990a175"
      },
      "execution_count": null,
      "outputs": [
        {
          "output_type": "stream",
          "name": "stdout",
          "text": [
            "Thu Jun  2 03:40:40 2022       \n",
            "+-----------------------------------------------------------------------------+\n",
            "| NVIDIA-SMI 460.32.03    Driver Version: 460.32.03    CUDA Version: 11.2     |\n",
            "|-------------------------------+----------------------+----------------------+\n",
            "| GPU  Name        Persistence-M| Bus-Id        Disp.A | Volatile Uncorr. ECC |\n",
            "| Fan  Temp  Perf  Pwr:Usage/Cap|         Memory-Usage | GPU-Util  Compute M. |\n",
            "|                               |                      |               MIG M. |\n",
            "|===============================+======================+======================|\n",
            "|   0  Tesla P100-PCIE...  Off  | 00000000:00:04.0 Off |                    0 |\n",
            "| N/A   36C    P0    35W / 250W |   3169MiB / 16280MiB |      0%      Default |\n",
            "|                               |                      |                  N/A |\n",
            "+-------------------------------+----------------------+----------------------+\n",
            "                                                                               \n",
            "+-----------------------------------------------------------------------------+\n",
            "| Processes:                                                                  |\n",
            "|  GPU   GI   CI        PID   Type   Process name                  GPU Memory |\n",
            "|        ID   ID                                                   Usage      |\n",
            "|=============================================================================|\n",
            "+-----------------------------------------------------------------------------+\n"
          ]
        }
      ]
    },
    {
      "cell_type": "markdown",
      "metadata": {
        "id": "I5ihyVxErLuc"
      },
      "source": [
        "[![Open In Colab](https://colab.research.google.com/assets/colab-badge.svg)](https://colab.research.google.com/github/dhupee/Bangkit-C22CB-Company-Based-Capstone/blob/30b0995970f29114749cff04deef444de6832993/ML/distilbert_transfer_learn.ipynb)"
      ]
    },
    {
      "cell_type": "code",
      "execution_count": null,
      "metadata": {
        "id": "2KtgNaitrLuh",
        "outputId": "45b6020a-64be-437a-ee0e-dee7e87a2820",
        "colab": {
          "base_uri": "https://localhost:8080/"
        }
      },
      "outputs": [
        {
          "output_type": "stream",
          "name": "stdout",
          "text": [
            "3.7.13 (default, Apr 24 2022, 01:04:09) \n",
            "[GCC 7.5.0]\n"
          ]
        }
      ],
      "source": [
        "# check python version\n",
        "import sys\n",
        "print(sys.version)"
      ]
    },
    {
      "cell_type": "code",
      "execution_count": null,
      "metadata": {
        "id": "QMBXDCnirLuj"
      },
      "outputs": [],
      "source": [
        "# notebook settings\n",
        "\n",
        "COLAB_MODE = False # set to True if running in Google Colab\n",
        "ENABLE_JSON2CSV = False # set to True if you want to convert json dataset to csv, DOESNT NEEDED ANYMORE"
      ]
    },
    {
      "cell_type": "code",
      "execution_count": null,
      "metadata": {
        "id": "qLD9WdYBrLuk"
      },
      "outputs": [],
      "source": [
        "# if COLAB_MODE is True, then work around the repository\n",
        "if COLAB_MODE:\n",
        "    import os\n",
        "    branch_name = 'dhupee-dev'\n",
        "    cloned_repo_name = 'remote-clone'\n",
        "    target_repo_dir = '/content/remote-clone/ML'\n",
        "    repo_link = 'https://github.com/dhupee/Bangkit-C22CB-Company-Based-Capstone.git'\n",
        "    # if current directory is not the cloned repo, clone it\n",
        "    if not os.path.exists(target_repo_dir):\n",
        "        !git clone --single-branch --branch $branch_name $repo_link $cloned_repo_name\n",
        "        print('Repo successfully cloned!')\n",
        "        %cd $target_repo_dir\n",
        "        %pwd\n",
        "    else:\n",
        "        print('Repo already cloned')"
      ]
    },
    {
      "cell_type": "code",
      "execution_count": null,
      "metadata": {
        "colab": {
          "base_uri": "https://localhost:8080/"
        },
        "id": "NpazRUMhrLul",
        "outputId": "25cbbbf2-9736-4f11-a17a-92cd59a7b18e"
      },
      "outputs": [
        {
          "output_type": "stream",
          "name": "stdout",
          "text": [
            "transformers and tensorflow are installed\n"
          ]
        }
      ],
      "source": [
        "# check if transformers and tensorflow are installed, if not install them\n",
        "# use transformers version 4.18.0 and tensorflow version 2.8.0\n",
        "try:\n",
        "    import transformers\n",
        "    import tensorflow as tf\n",
        "    print(\"transformers and tensorflow are installed\")\n",
        "except:\n",
        "    print(\"transformers and tensorflow are not installed\")\n",
        "    print(\"installing transformers and tensorflow\")\n",
        "    # install transformers 4.18.0 and tensorflow 2.8.0\n",
        "    %pip install transformers==4.18.0\n",
        "    %pip install tensorflow==2.8.1\n",
        "    # import transformers and tensorflow again\n",
        "    import transformers\n",
        "    import tensorflow as tf"
      ]
    },
    {
      "cell_type": "code",
      "execution_count": null,
      "metadata": {
        "colab": {
          "base_uri": "https://localhost:8080/"
        },
        "id": "ijh2BW8TrLul",
        "outputId": "efa63e99-dec0-40d3-8467-440e45afcef8"
      },
      "outputs": [
        {
          "output_type": "stream",
          "name": "stderr",
          "text": [
            "Some layers from the model checkpoint at cahya/bert-base-indonesian-522M were not used when initializing TFBertModel: ['mlm___cls']\n",
            "- This IS expected if you are initializing TFBertModel from the checkpoint of a model trained on another task or with another architecture (e.g. initializing a BertForSequenceClassification model from a BertForPreTraining model).\n",
            "- This IS NOT expected if you are initializing TFBertModel from the checkpoint of a model that you expect to be exactly identical (initializing a BertForSequenceClassification model from a BertForSequenceClassification model).\n",
            "All the layers of TFBertModel were initialized from the model checkpoint at cahya/bert-base-indonesian-522M.\n",
            "If your task is similar to the task the model of the checkpoint was trained on, you can already use TFBertModel for predictions without further training.\n"
          ]
        }
      ],
      "source": [
        "# loading base model\n",
        "\n",
        "model_name = \"cahya/bert-base-indonesian-522M\"\n",
        "batch_size = 16\n",
        "\n",
        "from transformers import AutoTokenizer, TFAutoModel # make sure use tensorflow model\n",
        "tokenizer = AutoTokenizer.from_pretrained(model_name)\n",
        "model = TFAutoModel.from_pretrained(model_name) # if not specified, it will use torch model"
      ]
    },
    {
      "cell_type": "code",
      "execution_count": null,
      "metadata": {
        "colab": {
          "base_uri": "https://localhost:8080/"
        },
        "id": "Z3ymht7hrLum",
        "outputId": "111edffb-b167-445a-dc54-e9cc12fbb30d"
      },
      "outputs": [
        {
          "output_type": "stream",
          "name": "stdout",
          "text": [
            "Model: \"tf_bert_model_7\"\n",
            "_________________________________________________________________\n",
            " Layer (type)                Output Shape              Param #   \n",
            "=================================================================\n",
            " bert (TFBertMainLayer)      multiple                  110617344 \n",
            "                                                                 \n",
            "=================================================================\n",
            "Total params: 110,617,344\n",
            "Trainable params: 110,617,344\n",
            "Non-trainable params: 0\n",
            "_________________________________________________________________\n"
          ]
        }
      ],
      "source": [
        "model.summary()"
      ]
    },
    {
      "cell_type": "code",
      "execution_count": null,
      "metadata": {
        "colab": {
          "base_uri": "https://localhost:8080/"
        },
        "id": "0GJ2zL_nrLun",
        "outputId": "a31dd295-d8e9-4aff-937a-543815e8fac9"
      },
      "outputs": [
        {
          "output_type": "execute_result",
          "data": {
            "text/plain": [
              "{'input_ids': [3, 1769, 8343, 6186, 32, 1], 'token_type_ids': [0, 0, 0, 0, 0, 0], 'attention_mask': [1, 1, 1, 1, 1, 1]}"
            ]
          },
          "metadata": {},
          "execution_count": 275
        }
      ],
      "source": [
        "# test tokenizer\n",
        "tokenizer(\"Nama kamu siapa?\")"
      ]
    },
    {
      "cell_type": "code",
      "execution_count": null,
      "metadata": {
        "colab": {
          "base_uri": "https://localhost:8080/"
        },
        "id": "ijXGeVbvrLun",
        "outputId": "8f253768-552e-4760-bb41-0f6db1769dbf"
      },
      "outputs": [
        {
          "output_type": "execute_result",
          "data": {
            "text/plain": [
              "{'input_ids': [3, 3245, 5366, 2464, 6014, 11186, 1], 'token_type_ids': [0, 0, 0, 0, 0, 0, 0], 'attention_mask': [1, 1, 1, 1, 1, 1, 1]}"
            ]
          },
          "metadata": {},
          "execution_count": 276
        }
      ],
      "source": [
        "tokenizer(\"saya suka makan nasi goreng\")"
      ]
    },
    {
      "cell_type": "code",
      "execution_count": null,
      "metadata": {
        "colab": {
          "base_uri": "https://localhost:8080/"
        },
        "id": "XWtczmeerLuo",
        "outputId": "979b8715-9c6c-4d70-eac5-67807a9b6606"
      },
      "outputs": [
        {
          "output_type": "execute_result",
          "data": {
            "text/plain": [
              "[{'score': 0.08403640985488892,\n",
              "  'sequence': 'mainan saya berada di jalan',\n",
              "  'token': 2186,\n",
              "  'token_str': 'berada'},\n",
              " {'score': 0.07038332521915436,\n",
              "  'sequence': 'mainan saya ada di jalan',\n",
              "  'token': 1821,\n",
              "  'token_str': 'ada'},\n",
              " {'score': 0.04035765677690506,\n",
              "  'sequence': 'mainan saya sendiri di jalan',\n",
              "  'token': 1998,\n",
              "  'token_str': 'sendiri'},\n",
              " {'score': 0.02904832921922207,\n",
              "  'sequence': 'mainan saya lahir di jalan',\n",
              "  'token': 2444,\n",
              "  'token_str': 'lahir'},\n",
              " {'score': 0.028137262910604477,\n",
              "  'sequence': 'mainan saya berdiri di jalan',\n",
              "  'token': 3812,\n",
              "  'token_str': 'berdiri'}]"
            ]
          },
          "metadata": {},
          "execution_count": 277
        }
      ],
      "source": [
        "# see how base model works\n",
        "unmasker = transformers.pipeline('fill-mask', model = model_name)\n",
        "unmasker(\"mainan saya [MASK] di jalan\")"
      ]
    },
    {
      "cell_type": "code",
      "execution_count": null,
      "metadata": {
        "id": "u-yiwxQ6rLuo"
      },
      "outputs": [],
      "source": [
        "#this for converting the file to huggingface format\n",
        "#I suggest you to do it seperately\n",
        "\n",
        "def convert_huggingface(dataset_path):\n",
        "    import json\n",
        "    with open(dataset_path, encoding=\"utf8\") as f:\n",
        "        content = json.load(f)\n",
        "\n",
        "    hf_data = []\n",
        "    for data in content[\"data\"]:\n",
        "        title = data[\"title\"]\n",
        "        for paragraph in data[\"paragraphs\"]:\n",
        "            context = paragraph[\"context\"]\n",
        "            for qa in paragraph[\"qas\"]:\n",
        "                fill = {\n",
        "                    \"id\": qa[\"id\"],\n",
        "                    \"title\": title,\n",
        "                    \"context\": context,\n",
        "                    \"question\": qa[\"question\"],\n",
        "                    \"answers\": {\"answer_start\": [], \"text\": []}\n",
        "                }\n",
        "                if qa[\"is_impossible\"]:\n",
        "                    answers = qa[\"plausible_answers\"]\n",
        "                else:\n",
        "                    answers = qa[\"answers\"]\n",
        "                for answer in answers:\n",
        "                    fill[\"answers\"][\"answer_start\"].append(answer[\"answer_start\"])\n",
        "                    fill[\"answers\"][\"text\"].append(answer[\"text\"])\n",
        "\n",
        "                hf_data.append(fill)\n",
        "    # Add \"_hf\" before .json extension\n",
        "    hf_dataset_path = dataset_path.replace(\".json\", \"_hf.json\")\n",
        "    with open(hf_dataset_path, \"w\") as f:\n",
        "        json.dump({\"data\": hf_data}, f)\n",
        "\n",
        "    return hf_data"
      ]
    },
    {
      "cell_type": "code",
      "execution_count": null,
      "metadata": {
        "id": "QQ32FQt5rLup"
      },
      "outputs": [],
      "source": [
        "# load dataset json file\n",
        "import json\n",
        "\n",
        "#colab pro + drive\n",
        "train_json_dir = \"/content/drive/MyDrive/Translated/hf_train-v2.0_indo.json\"\n",
        "valid_json_dir = \"/content/drive/MyDrive/Translated/hf_dev-v2.0_indo.json\"\n",
        "tester_json_dir  = \"/content/drive/MyDrive/Translated/tester_indo.json\"\n",
        "\n",
        "dataset_dirs = [train_json_dir, valid_json_dir, tester_json_dir]\n",
        "# dataset_dirs = [tester_json_dir]"
      ]
    },
    {
      "cell_type": "code",
      "execution_count": null,
      "metadata": {
        "colab": {
          "base_uri": "https://localhost:8080/",
          "height": 105,
          "referenced_widgets": [
            "4bfd5cd9587a4de98e0557a565964d16",
            "d3e772e6801e489da53c82a1f8d4aeb3",
            "3cf2065e4e094226abdc7dbb7803c5f0",
            "2a58a75be85447fab5ada44baf662119",
            "b57806275ca04c51b92edb5109ea957d",
            "670bcb4577da4c7f8b052fa5fcc0779c",
            "13d2762f4f134e959d35b1f167955bd9",
            "3585c4222a03495aaa3a78634ea82892",
            "c8c1580031a849f2ba1b2389cd459646",
            "c5db5bee5c5a4fe38d586e53789ef251",
            "475910d3342c4069b15fbf6df9d12f70"
          ]
        },
        "id": "TEUfTPaHrLup",
        "outputId": "1e87d1ec-a4ca-408a-f89a-dc8e141cdf45"
      },
      "outputs": [
        {
          "output_type": "stream",
          "name": "stderr",
          "text": [
            "Using custom data configuration default-2599678fccd9e0e7\n",
            "Reusing dataset json (/root/.cache/huggingface/datasets/json/default-2599678fccd9e0e7/0.0.0/ac0ca5f5289a6cf108e706efcf040422dbbfa8e658dee6a819f20d76bb84d26b)\n"
          ]
        },
        {
          "output_type": "display_data",
          "data": {
            "text/plain": [
              "  0%|          | 0/2 [00:00<?, ?it/s]"
            ],
            "application/vnd.jupyter.widget-view+json": {
              "version_major": 2,
              "version_minor": 0,
              "model_id": "4bfd5cd9587a4de98e0557a565964d16"
            }
          },
          "metadata": {}
        }
      ],
      "source": [
        "# importing dataset\n",
        "\n",
        "try:\n",
        "    from datasets import load_dataset\n",
        "except:\n",
        "    print(\"datasets module not found\")\n",
        "    print(\"installing dataset module\")\n",
        "    %pip install datasets\n",
        "    from datasets import load_dataset\n",
        "\n",
        "datasets = load_dataset(\n",
        "    'json',\n",
        "    data_files={'train': train_json_dir, 'validation': valid_json_dir},\n",
        "    field='data'\n",
        "    )"
      ]
    },
    {
      "cell_type": "code",
      "execution_count": null,
      "metadata": {
        "colab": {
          "base_uri": "https://localhost:8080/"
        },
        "id": "u-eKrZeSrLuq",
        "outputId": "6666f7e4-0c9a-4ca3-e2d8-cb49a12f3dfb"
      },
      "outputs": [
        {
          "output_type": "execute_result",
          "data": {
            "text/plain": [
              "{'answers': {'answer_start': [304], 'text': ['akhir 1990-an']},\n",
              " 'context': 'Beyoncé Giselle Knowles-Carter (/ biːˈjɒnseɪ / bee-YON-say) (lahir 4 September 1981) adalah seorang penyanyi, penulis lagu, produser rekaman dan aktris Amerika. Dilahirkan dan dibesarkan di Houston, Texas, ia tampil di berbagai kompetisi menyanyi dan menari sebagai seorang anak, dan mulai terkenal pada akhir 1990-an sebagai penyanyi utama dari grup wanita R&B Destiny\\'s Child. Dikelola oleh ayahnya, Mathew Knowles, grup ini menjadi salah satu grup wanita terlaris di dunia sepanjang masa. Jeda mereka melihat perilisan album debut Beyoncé, Dangerously in Love (2003), yang menjadikannya sebagai artis solo di seluruh dunia, meraih lima Grammy Awards dan menampilkan single nomor satu Billboard Hot 100 \"Crazy in Love\" dan \"Baby Boy\" .',\n",
              " 'id': '56bf6b0f3aeaaa14008c9602',\n",
              " 'question': 'Pada dekade berapa Beyonce menjadi terkenal?',\n",
              " 'title': 'Beyoncé'}"
            ]
          },
          "metadata": {},
          "execution_count": 280
        }
      ],
      "source": [
        "# sample of dataset randomly\n",
        "import random\n",
        "datasets[\"train\"][4]"
      ]
    },
    {
      "cell_type": "code",
      "execution_count": null,
      "metadata": {
        "colab": {
          "base_uri": "https://localhost:8080/"
        },
        "id": "2QiiQ4o4rLur",
        "outputId": "c9705eb9-10dd-4540-afa0-5ca1d83b871a"
      },
      "outputs": [
        {
          "output_type": "execute_result",
          "data": {
            "text/plain": [
              "{'answers': {'answer_start': [671, 649, 671, 671],\n",
              "  'text': ['abad ke-10',\n",
              "   'paruh pertama abad ke-10',\n",
              "   'tanggal 10',\n",
              "   'tanggal 10']},\n",
              " 'context': 'Bangsa Norman (Norman: Nourmands; Prancis: Normandia; Latin: Normanni) adalah orang-orang yang pada abad ke-10 dan ke-11 memberi nama kepada Normandia, sebuah wilayah di Prancis. Mereka adalah keturunan dari perampok dan bajak laut Norse (\"Norman\" berasal dari \"Norseman\") dan bajak laut dari Denmark, Islandia dan Norwegia yang, di bawah pemimpin mereka Rollo, setuju untuk bersumpah setia kepada Raja Charles III dari Francia Barat. Melalui generasi asimilasi dan pencampuran dengan penduduk asli Franka dan Romawi-Gaul, keturunan mereka secara bertahap akan bergabung dengan budaya berbasis Carolingian di Francia Barat. Identitas budaya dan etnis yang berbeda dari Normandia awalnya muncul pada paruh pertama abad ke-10, dan terus berkembang selama abad-abad berikutnya.',\n",
              " 'id': '56ddde6b9a695914005b962c',\n",
              " 'question': 'Abad berapa orang Normandia pertama kali mendapatkan identitas mereka yang terpisah?',\n",
              " 'title': 'orang Normandia'}"
            ]
          },
          "metadata": {},
          "execution_count": 281
        }
      ],
      "source": [
        "# sample of dataset randomly\n",
        "import random\n",
        "datasets[\"validation\"][4]"
      ]
    },
    {
      "cell_type": "code",
      "execution_count": null,
      "metadata": {
        "id": "herUKmXurLur"
      },
      "outputs": [],
      "source": [
        "from datasets import ClassLabel, Sequence\n",
        "import random\n",
        "import pandas as pd\n",
        "from IPython.display import display, HTML\n",
        "\n",
        "\n",
        "def show_random_elements(dataset, num_examples=10):\n",
        "    '''display random elements from dataset\n",
        "\n",
        "    Args:\n",
        "        dataset (Dataset): dataset to show\n",
        "        num_examples (int, optional): number of examples to show. Defaults to 10.\n",
        "    '''\n",
        "    assert num_examples <= len(\n",
        "        dataset\n",
        "    ), \"Can't pick more elements than there are in the dataset.\"\n",
        "    picks = []\n",
        "    for _ in range(num_examples):\n",
        "        pick = random.randint(0, len(dataset) - 1)\n",
        "        while pick in picks:\n",
        "            pick = random.randint(0, len(dataset) - 1)\n",
        "        picks.append(pick)\n",
        "\n",
        "    df = pd.DataFrame(dataset[picks])\n",
        "    for column, typ in dataset.features.items():\n",
        "        if isinstance(typ, ClassLabel):\n",
        "            df[column] = df[column].transform(lambda i: typ.names[i])\n",
        "        elif isinstance(typ, Sequence) and isinstance(typ.feature, ClassLabel):\n",
        "            df[column] = df[column].transform(\n",
        "                lambda x: [typ.feature.names[i] for i in x]\n",
        "            )\n",
        "    display(HTML(df.to_html()))"
      ]
    },
    {
      "cell_type": "code",
      "execution_count": null,
      "metadata": {
        "colab": {
          "base_uri": "https://localhost:8080/",
          "height": 1000
        },
        "id": "-YlQHwjprLur",
        "outputId": "022dd1ff-3a7a-4b7f-c09d-b4653e29a92d"
      },
      "outputs": [
        {
          "output_type": "display_data",
          "data": {
            "text/plain": [
              "<IPython.core.display.HTML object>"
            ],
            "text/html": [
              "<table border=\"1\" class=\"dataframe\">\n",
              "  <thead>\n",
              "    <tr style=\"text-align: right;\">\n",
              "      <th></th>\n",
              "      <th>id</th>\n",
              "      <th>title</th>\n",
              "      <th>context</th>\n",
              "      <th>question</th>\n",
              "      <th>answers</th>\n",
              "    </tr>\n",
              "  </thead>\n",
              "  <tbody>\n",
              "    <tr>\n",
              "      <th>0</th>\n",
              "      <td>5a45a2c619a820001a1edacc</td>\n",
              "      <td>Nonprofit_organization</td>\n",
              "      <td>Pekerjaan sektor publik dan swasta, sebagian besar, mampu menawarkan lebih banyak untuk karyawan mereka daripada kebanyakan lembaga nonprofit sepanjang sejarah. Baik dalam bentuk upah yang lebih tinggi, paket manfaat yang lebih komprehensif, atau pekerjaan yang tidak terlalu membosankan, sektor publik dan swasta telah menikmati keuntungan dalam menarik karyawan daripada NPO. Secara tradisional, NPO telah menarik individu yang digerakkan oleh misi yang ingin membantu tujuan pilihan mereka. Yang memperparah masalah adalah bahwa beberapa NPO tidak beroperasi dengan cara yang mirip dengan kebanyakan bisnis, atau hanya secara musiman. Hal ini menyebabkan banyak karyawan muda dan terdorong untuk melepaskan NPO demi pekerjaan yang lebih stabil. Namun saat ini, organisasi Nonprofit mengadopsi metode yang digunakan oleh pesaing mereka dan menemukan cara baru untuk mempertahankan karyawan mereka dan menarik tenaga kerja terbaik dari yang baru dibentuk.</td>\n",
              "      <td>Jenis karyawan apa yang menarik sektor swasta?</td>\n",
              "      <td>{'answer_start': [416], 'text': ['individu yang digerakkan oleh misi yang ingin membantu tujuan pilihan mereka']}</td>\n",
              "    </tr>\n",
              "    <tr>\n",
              "      <th>1</th>\n",
              "      <td>5a7b534b21c2de001afe9ebc</td>\n",
              "      <td>Economy_of_Greece</td>\n",
              "      <td>Dalam beberapa tahun terakhir sejumlah organisasi terkait pariwisata terkenal telah menempatkan tujuan Yunani di bagian atas daftar mereka. Pada tahun 2009 Lonely Planet memberi peringkat Thessaloniki, kota terbesar kedua di negara itu, \"Kota Pesta Terbaik\" terbaik kelima di dunia, di samping kota-kota seperti Montreal dan Dubai, sementara pada tahun 2011 pulau Santorini terpilih sebagai pulau terbaik di dunia oleh Travel + Kenyamanan. Pulau tetangga Mykonos menduduki peringkat ke-5 pulau terbaik Eropa. Thessaloniki adalah Ibukota Pemuda Eropa pada tahun 2014.</td>\n",
              "      <td>Berapa banyak organisasi terkait pariwisata yang menempatkan tujuan Yunani di urutan terbawah?</td>\n",
              "      <td>{'answer_start': [125], 'text': ['daftar mereka']}</td>\n",
              "    </tr>\n",
              "    <tr>\n",
              "      <th>2</th>\n",
              "      <td>5a69098b8476ee001a58a9fc</td>\n",
              "      <td>IBM</td>\n",
              "      <td>IBM mengumumkan akan meluncurkan perangkat lunak barunya, yang disebut \"Penawaran Klien Terbuka\" yang akan berjalan di Linux, Microsoft Windows dan Apple Mac OS X. Perusahaan tersebut menyatakan bahwa produk barunya memungkinkan perusahaan untuk menawarkan karyawan pilihan untuk menggunakan perangkat lunak yang sama pada Windows dan alternatifnya. Ini berarti bahwa \"Penawaran Klien Terbuka\" adalah untuk memotong biaya pengelolaan apakah akan menggunakan Linux atau Apple dibandingkan dengan Windows. Tidak ada keharusan bagi perusahaan untuk membayar Microsoft atas lisensinya untuk sistem operasi karena sistem operasi tidak akan lagi bergantung pada perangkat lunak yang berbasis Windows. Salah satu alternatif untuk format dokumen kantor Microsoft adalah perangkat lunak Open Document Format, yang pengembangannya didukung oleh IBM. Ini akan digunakan untuk beberapa tugas seperti: pengolah kata, presentasi, bersama dengan kolaborasi dengan Lotus Notes, alat olahpesan cepat dan blog serta pesaing Internet Explorer - browser web Mozilla Firefox. IBM berencana untuk menginstal Open Client pada 5% PC desktopnya. Penawaran Linux telah tersedia sebagai produk Klien IBM untuk Pekerjaan Cerdas pada platform Ubuntu dan Red Hat Enterprise Linux.</td>\n",
              "      <td>Apa alternatif untuk menggunakan format dokumen Linux?</td>\n",
              "      <td>{'answer_start': [762], 'text': ['perangkat lunak Open Document Format,']}</td>\n",
              "    </tr>\n",
              "    <tr>\n",
              "      <th>3</th>\n",
              "      <td>5ad157aa645df0001a2d1800</td>\n",
              "      <td>Mary_(mother_of_Jesus)</td>\n",
              "      <td>Devosi pada lukisan artistik Maria berbeda-beda di antara tradisi Kristen. Ada tradisi panjang seni Maria Katolik Roma dan tidak ada gambar yang menembus seni Katolik seperti halnya gambar Madonna dan Child. Ikon Perawan Theotokos bersama Kristus tidak diragukan lagi adalah ikon yang paling dihormati di Gereja Ortodoks. Baik Katolik Roma maupun Kristen Ortodoks menghormati gambar dan ikon Maria, mengingat Konsili Nicea Kedua pada tahun 787 mengizinkan pemujaan mereka dengan pemahaman bahwa mereka yang menghormati gambar itu menghormati realitas orang yang diwakilinya, dan Sinode Konstantinopel 842 mengkonfirmasikan hal yang sama. Namun, menurut kesalehan dan praktik tradisional Ortodoks, orang percaya harus berdoa di depan dan hanya menghormati ikon datar, dua dimensi, dan bukan patung tiga dimensi.</td>\n",
              "      <td>Siapa orang percaya yang berdoa dan memuja patung tiga dimensi?</td>\n",
              "      <td>{'answer_start': [106], 'text': ['Katolik Roma']}</td>\n",
              "    </tr>\n",
              "    <tr>\n",
              "      <th>4</th>\n",
              "      <td>5a3baf813ff257001ab84461</td>\n",
              "      <td>Heian_period</td>\n",
              "      <td>Periode Heian (平安 時代, Heian jidai?) Adalah divisi terakhir dari sejarah klasik Jepang, berlangsung dari 794 hingga 1185. Periode ini dinamai berdasarkan ibu kota Heian-kyō, atau Kyōto modern. Ini adalah periode dalam sejarah Jepang ketika Buddhisme, Taoisme, dan pengaruh Tiongkok lainnya sedang mencapai puncaknya. Periode Heian juga dianggap sebagai puncak istana kekaisaran Jepang dan terkenal karena seninya, terutama puisi dan sastra. Meskipun Rumah Kekaisaran Jepang memiliki kekuasaan di permukaan, kekuatan sebenarnya ada di tangan klan Fujiwara, keluarga aristokrat yang kuat yang pernah menikah dengan keluarga kekaisaran. Banyak kaisar sebenarnya memiliki ibu dari keluarga Fujiwara. Heian (平安?) Berarti \"damai\" dalam bahasa Jepang.</td>\n",
              "      <td>Pengaruh Cina apa yang memudar di periode Heian?</td>\n",
              "      <td>{'answer_start': [239], 'text': ['Buddhisme, Taoisme']}</td>\n",
              "    </tr>\n",
              "    <tr>\n",
              "      <th>5</th>\n",
              "      <td>5ad2b2c0d7d075001a429f87</td>\n",
              "      <td>Multiracial_American</td>\n",
              "      <td>Orang Amerika dengan keturunan Afrika Sub-Sahara karena alasan sejarah: perbudakan, partus sequitur ventrem, hukum seperdelapan, aturan satu tetes undang-undang abad ke-20, sering diklasifikasikan sebagai orang kulit hitam (secara historis) atau Afrika-Amerika, bahkan jika mereka memilikinya keturunan penting Amerika Eropa atau Pribumi Amerika. Karena perbudakan menjadi kasta rasial, mereka yang diperbudak dan orang lain dari keturunan Afrika mana pun diklasifikasikan dengan apa yang disebut \"hipodesen\" menurut kelompok etnis berstatus lebih rendah. Banyak keturunan dan penampilan mayoritas Eropa \"menikah putih\" dan berasimilasi ke dalam masyarakat kulit putih karena keuntungan sosial dan ekonominya, seperti generasi keluarga yang diidentifikasi sebagai Melungeons, sekarang secara umum diklasifikasikan sebagai kulit putih tetapi secara genetik menunjukkan keturunan Afrika sub-Sahara dan Eropa .</td>\n",
              "      <td>Apa yang diklasifikasikan oleh orang-orang keturunan Eropa?</td>\n",
              "      <td>{'answer_start': [848], 'text': ['genetik']}</td>\n",
              "    </tr>\n",
              "    <tr>\n",
              "      <th>6</th>\n",
              "      <td>5725e47289a1e219009ac053</td>\n",
              "      <td>Montevideo</td>\n",
              "      <td>Christian Brothers of Ireland Stella Maris College adalah sekolah Katolik swasta, pendidikan bersama, nirlaba yang terletak di lingkungan perumahan tenggara yang kaya di Carrasco. Didirikan pada tahun 1955, sekolah ini dianggap sebagai salah satu sekolah menengah terbaik di negeri ini, yang memadukan kurikulum yang ketat dengan kegiatan ekstrakurikuler yang kuat. Kepala sekolah sekolah, profesor sejarah Juan Pedro Toni, adalah anggota Dewan Gubernur Stella Maris dan sekolah tersebut adalah anggota Organisasi Baccalaureate Internasional (IBO). Daftar panjang mantan muridnya yang terkemuka termasuk ekonom, insinyur, arsitek, pengacara, politisi, dan bahkan juara F1. Sekolah juga memainkan peran penting dalam perkembangan persatuan rugby di Uruguay, dengan pembentukan Old Christians Club, klub alumni sekolah.</td>\n",
              "      <td>Kapan Christian Brothers of Ireland Stella Maris College didirikan?</td>\n",
              "      <td>{'answer_start': [201], 'text': ['1955']}</td>\n",
              "    </tr>\n",
              "    <tr>\n",
              "      <th>7</th>\n",
              "      <td>5acfc16877cf76001a685ce0</td>\n",
              "      <td>Umayyad_Caliphate</td>\n",
              "      <td>Buku-buku yang ditulis kemudian pada periode Abbasiyah di Iran lebih anti Umayyah. Iran adalah Sunni pada saat itu. Ada banyak perasaan anti Arab di Iran setelah jatuhnya kekaisaran Persia. Perasaan anti Arab ini juga mempengaruhi buku-buku sejarah Islam. Al-Tabri juga ditulis di Iran selama periode itu. Al-Tabri adalah koleksi yang sangat besar termasuk semua teks yang dapat dia temukan, dari semua sumber. Itu adalah koleksi yang melestarikan segalanya untuk generasi mendatang untuk dikodifikasi dan untuk generasi mendatang untuk menilai apakah itu benar atau salah.</td>\n",
              "      <td>Seperti apa kitab-kitab yang ditulis pada awal periode Abbasiyah?</td>\n",
              "      <td>{'answer_start': [69], 'text': ['anti Umayyah']}</td>\n",
              "    </tr>\n",
              "    <tr>\n",
              "      <th>8</th>\n",
              "      <td>572ac830be1ee31400cb822f</td>\n",
              "      <td>Philadelphia</td>\n",
              "      <td>Philadelphia juga merupakan hub utama untuk Greyhound Lines, yang mengoperasikan layanan 24 jam ke titik-titik di sebelah timur Sungai Mississippi. Sebagian besar layanan Greyhound di Philadelphia beroperasi ke / dari Terminal Greyhound Philadelphia, yang terletak di 1001 Filbert Street di Center City Philadelphia. Pada tahun 2006, Terminal Greyhound Philadelphia adalah terminal Greyhound tersibuk kedua di Amerika Serikat, setelah Terminal Bus Otoritas Pelabuhan di New York. Selain Greyhound, enam operator bus lainnya menyediakan layanan ke terminal Center City Greyhound: Bieber Tourways, Capitol Trailways, Martz Trailways, Peter Pan Bus Lines, Susquehanna Trailways, dan divisi bus untuk New Jersey Transit. Layanan lainnya termasuk Megabus dan Bolt Bus.</td>\n",
              "      <td>Jalur bus apa yang menggunakan kota sebagai penghubung?</td>\n",
              "      <td>{'answer_start': [171], 'text': ['Greyhound di']}</td>\n",
              "    </tr>\n",
              "    <tr>\n",
              "      <th>9</th>\n",
              "      <td>5726e331f1498d1400e8eec9</td>\n",
              "      <td>Myanmar</td>\n",
              "      <td>Pada Oktober 2012 jumlah konflik yang sedang berlangsung di Myanmar termasuk konflik Kachin, antara Tentara Kemerdekaan Pro-Kristen Kachin dan pemerintah; perang saudara antara Muslim Rohingya, dan kelompok pemerintah dan non-pemerintah di Negara Bagian Rakhine; dan konflik antara kelompok minoritas Shan, Lahu dan Karen, dan pemerintah di bagian timur negara itu. Selain itu, al-Qaeda mengisyaratkan niat untuk terlibat di Myanmar. Dalam sebuah video yang dirilis 3 September 2014 yang terutama ditujukan ke India, pemimpin kelompok militan Ayman al-Zawahiri mengatakan al-Qaeda tidak melupakan Muslim Myanmar dan bahwa kelompok itu melakukan \"apa yang mereka bisa untuk menyelamatkan Anda\". Sebagai tanggapan, militer meningkatkan tingkat kewaspadaannya, sementara Asosiasi Muslim Burma mengeluarkan pernyataan yang mengatakan Muslim tidak akan mentolerir ancaman apa pun terhadap tanah air mereka.</td>\n",
              "      <td>Apakah al-Qaeda percaya bahwa Muslim di Burma dalam bahaya?</td>\n",
              "      <td>{'answer_start': [543], 'text': ['Ayman al-Zawahiri mengatakan al-Qaeda tidak melupakan Muslim Myanmar dan bahwa kelompok itu melakukan \"apa yang mereka bisa untuk menyelamatkan Anda\".']}</td>\n",
              "    </tr>\n",
              "  </tbody>\n",
              "</table>"
            ]
          },
          "metadata": {}
        }
      ],
      "source": [
        "show_random_elements(datasets[\"train\"]) # brace yourself, this is gonna be a long list"
      ]
    },
    {
      "cell_type": "code",
      "execution_count": null,
      "metadata": {
        "id": "raR7fau-rLus"
      },
      "outputs": [],
      "source": [
        "'''\n",
        "    This function is for converting SQuAD json file to pandas dataframe, iteratively\n",
        "\n",
        "    I dont want run this locally, better use colab\n",
        "\n",
        "    doesn't needed anymore, use load_dataset instead\n",
        "'''\n",
        "\n",
        "if ENABLE_JSON2CSV:\n",
        "    import utils\n",
        "    for dir in dataset_dirs:\n",
        "        with open(dir, encoding=\"utf-8\") as json_file:\n",
        "            file = json.load(json_file)\n",
        "            dict_file = file\n",
        "            data = dict_file['data']\n",
        "\n",
        "        df = utils.json_to_df(data)\n",
        "        df.to_csv(dir.replace(\".json\", \".csv\"), index = False)"
      ]
    },
    {
      "cell_type": "code",
      "execution_count": null,
      "metadata": {
        "id": "exMlyBrIrLus"
      },
      "outputs": [],
      "source": [
        "assert isinstance(tokenizer, transformers.PreTrainedTokenizerFast) # make sure tokenizer is pre-trained"
      ]
    },
    {
      "cell_type": "markdown",
      "metadata": {
        "id": "DOtf9ZLFrLus"
      },
      "source": [
        "---"
      ]
    },
    {
      "cell_type": "code",
      "execution_count": null,
      "metadata": {
        "id": "UDGKYdC-rLus"
      },
      "outputs": [],
      "source": [
        "max_length = 384  # The maximum length of a feature (question and context)\n",
        "doc_stride = 128  # The allowed overlap between two part of the context when splitting is performed."
      ]
    },
    {
      "cell_type": "code",
      "execution_count": null,
      "metadata": {
        "id": "FiWi3eInrLut"
      },
      "outputs": [],
      "source": [
        "# check if there's dataset feature\n",
        "# longer than max_length\n",
        "for i, example in enumerate(datasets[\"train\"]):\n",
        "    if len(tokenizer(example[\"question\"], example[\"context\"])[\"input_ids\"]) > 384:\n",
        "        break\n",
        "example = datasets[\"train\"][i]"
      ]
    },
    {
      "cell_type": "code",
      "execution_count": null,
      "metadata": {
        "colab": {
          "base_uri": "https://localhost:8080/"
        },
        "id": "qerFAPnirLut",
        "outputId": "fd8912a2-b798-49d0-cd36-626a85973076"
      },
      "outputs": [
        {
          "output_type": "execute_result",
          "data": {
            "text/plain": [
              "402"
            ]
          },
          "metadata": {},
          "execution_count": 287
        }
      ],
      "source": [
        "# check if there's dataset feature longer than max_length\n",
        "len(tokenizer(example[\"question\"], example[\"context\"])[\"input_ids\"])"
      ]
    },
    {
      "cell_type": "code",
      "execution_count": null,
      "metadata": {
        "colab": {
          "base_uri": "https://localhost:8080/"
        },
        "id": "tt9xuvI4rLut",
        "outputId": "e38ac34d-8ddb-4ee3-e377-596eaf7f8360"
      },
      "outputs": [
        {
          "output_type": "execute_result",
          "data": {
            "text/plain": [
              "384"
            ]
          },
          "metadata": {},
          "execution_count": 288
        }
      ],
      "source": [
        "# check truncate dataset length\n",
        "len(\n",
        "    tokenizer(\n",
        "        example[\"question\"],\n",
        "        example[\"context\"],\n",
        "        max_length=max_length,\n",
        "        truncation=\"only_second\",\n",
        "    )[\"input_ids\"]\n",
        ")"
      ]
    },
    {
      "cell_type": "code",
      "execution_count": null,
      "metadata": {
        "id": "nwfgwlCirLut"
      },
      "outputs": [],
      "source": [
        "tokenized_example = tokenizer(\n",
        "    example[\"question\"],\n",
        "    example[\"context\"],\n",
        "    max_length=max_length,\n",
        "    truncation=\"only_second\",\n",
        "    return_overflowing_tokens=True,\n",
        "    stride=doc_stride,\n",
        ")"
      ]
    },
    {
      "cell_type": "code",
      "execution_count": null,
      "metadata": {
        "colab": {
          "base_uri": "https://localhost:8080/"
        },
        "id": "cYuxYTzprLuu",
        "outputId": "160ed93b-1921-478a-e84c-342b26aedf46"
      },
      "outputs": [
        {
          "output_type": "execute_result",
          "data": {
            "text/plain": [
              "[384, 156]"
            ]
          },
          "metadata": {},
          "execution_count": 290
        }
      ],
      "source": [
        "[len(x) for x in tokenized_example[\"input_ids\"]]"
      ]
    },
    {
      "cell_type": "code",
      "execution_count": null,
      "metadata": {
        "colab": {
          "base_uri": "https://localhost:8080/"
        },
        "id": "M-DZU18rrLuu",
        "outputId": "f5e40b37-cb0f-4957-80ee-f7f7ae8fc5f7"
      },
      "outputs": [
        {
          "output_type": "stream",
          "name": "stdout",
          "text": [
            "[CLS] beyonce menikah pada 2008 dengan siapa? [SEP] pada 4 april 2008, beyonce menikahi jay z. dia secara terbuka mengungkapkan pernikahan mereka dalam montase video di pesta mendengarkan untuk album studio ketiganya, i am... sasha fierce, di sony club manhattan pada 22 oktober 2008. i am... sasha fierce dirilis pada 18 november 2008 di amerika serikat. album ini secara resmi memperkenalkan alter ego beyonce sasha fierce, yang dibuat selama pembuatan singel tahun 2003 \" crazy in love \", terjual 482. 000 kopi di minggu pertama, memulai debutnya di atas billboard 200, dan memberikan beyonce album nomor satu ketiganya berturut - turut di kami. album ini menampilkan lagu nomor satu \" single ladies ( put a ring on it ) \" dan lagu lima teratas \" if i were a boy \" dan \" halo \". mencapai pencapaian menjadi single hot 100 terlama dalam karirnya, kesuksesan \" halo \" di as membantu beyonce mencapai lebih dari sepuluh single teratas dalam daftar daripada wanita lain selama tahun 2000 - an. ini juga termasuk \" mimpi manis \" yang sukses, dan single \" diva \", \" ego \", \" gadis patah hati \" dan \" telepon video \". video musik untuk \" single ladies \" telah diparodikan dan ditiru di seluruh dunia, memicu \" kegilaan tari besar pertama \" di era internet menurut toronto star. video ini telah memenangkan beberapa penghargaan, termasuk video terbaik di penghargaan musik eropa mtv 2009, penghargaan mobo skotlandia 2009, dan penghargaan bet 2009. pada mtv video music awards 2009, video tersebut dinominasikan untuk sembilan penghargaan, akhirnya memenangkan tiga penghargaan termasuk video of the year. kegagalannya untuk memenangkan kategori video wanita terbaik, yang jatuh ke lagu \" you belong with me \" dari penyanyi country amerika taylor swift, menyebabkan kanye west menyela upacara dan beyonce mengimprovisasi presentasi ulang penghargaan swift selama pidato penerimaannya sendiri. pada bulan maret 2009, beyonce memulai i am... world tour, [SEP]\n",
            "[CLS] beyonce menikah pada 2008 dengan siapa? [SEP]an tari besar pertama \" di era internet menurut toronto star. video ini telah memenangkan beberapa penghargaan, termasuk video terbaik di penghargaan musik eropa mtv 2009, penghargaan mobo skotlandia 2009, dan penghargaan bet 2009. pada mtv video music awards 2009, video tersebut dinominasikan untuk sembilan penghargaan, akhirnya memenangkan tiga penghargaan termasuk video of the year. kegagalannya untuk memenangkan kategori video wanita terbaik, yang jatuh ke lagu \" you belong with me \" dari penyanyi country amerika taylor swift, menyebabkan kanye west menyela upacara dan beyonce mengimprovisasi presentasi ulang penghargaan swift selama pidato penerimaannya sendiri. pada bulan maret 2009, beyonce memulai i am... world tour, tur konser dunia keduanya, yang terdiri dari 108 pertunjukan, meraup $ 119, 5 juta. [SEP]\n"
          ]
        }
      ],
      "source": [
        "for x in tokenized_example[\"input_ids\"][:2]:\n",
        "    print(tokenizer.decode(x))"
      ]
    },
    {
      "cell_type": "code",
      "execution_count": null,
      "metadata": {
        "colab": {
          "base_uri": "https://localhost:8080/"
        },
        "id": "QXJOqOO4rLuu",
        "outputId": "01c054f1-550c-4421-bdc4-5bbb11c8762b"
      },
      "outputs": [
        {
          "output_type": "stream",
          "name": "stdout",
          "text": [
            "[(0, 0), (0, 7), (8, 15), (16, 20), (21, 25), (26, 32), (33, 38), (38, 39), (0, 0), (0, 4), (5, 6), (7, 12), (13, 17), (17, 18), (19, 26), (27, 35), (36, 39), (40, 41), (41, 42), (43, 46), (47, 53), (54, 61), (62, 75), (76, 86), (87, 93), (94, 99), (100, 104), (104, 107), (108, 113), (114, 116), (117, 122), (123, 135), (136, 141), (142, 147), (148, 154), (155, 164), (164, 165), (166, 167), (168, 170), (171, 172), (172, 173), (173, 174), (175, 178), (178, 180), (181, 183), (183, 186), (186, 187), (187, 188), (189, 191), (192, 196), (197, 201), (202, 211), (212, 216), (217, 219), (220, 227), (228, 232), (232, 233), (234, 235), (236, 238), (239, 240), (240, 241), (241, 242), (243, 246), (246, 248), (249, 251), (251, 254), (254, 255), (256, 263), (264, 268), (269, 271), (272, 280), (281, 285), (286, 288), (289, 296), (297, 304), (304, 305), (306, 311), (312, 315), (316, 322), (323, 328), (329, 343), (344, 349), (350, 353), (354, 361), (362, 365), (365, 367), (368, 370), (370, 373), (373, 374), (374, 375), (376, 380), (381, 387), (388, 394), (395, 404), (405, 411), (412, 417), (418, 422), (423, 424), (424, 429), (430, 432)]\n"
          ]
        }
      ],
      "source": [
        "tokenized_example = tokenizer(\n",
        "    example[\"question\"],\n",
        "    example[\"context\"],\n",
        "    max_length=max_length,\n",
        "    truncation=\"only_second\",\n",
        "    return_overflowing_tokens=True,\n",
        "    return_offsets_mapping=True,\n",
        "    stride=doc_stride,\n",
        ")\n",
        "print(tokenized_example[\"offset_mapping\"][0][:100])"
      ]
    },
    {
      "cell_type": "code",
      "execution_count": null,
      "metadata": {
        "colab": {
          "base_uri": "https://localhost:8080/"
        },
        "id": "3JJh1Q9grLuu",
        "outputId": "a185ac7b-6bdc-4939-f5be-65c4b0188766"
      },
      "outputs": [
        {
          "output_type": "stream",
          "name": "stdout",
          "text": [
            "[None, 0, 0, 0, 0, 0, 0, 0, None, 1, 1, 1, 1, 1, 1, 1, 1, 1, 1, 1, 1, 1, 1, 1, 1, 1, 1, 1, 1, 1, 1, 1, 1, 1, 1, 1, 1, 1, 1, 1, 1, 1, 1, 1, 1, 1, 1, 1, 1, 1, 1, 1, 1, 1, 1, 1, 1, 1, 1, 1, 1, 1, 1, 1, 1, 1, 1, 1, 1, 1, 1, 1, 1, 1, 1, 1, 1, 1, 1, 1, 1, 1, 1, 1, 1, 1, 1, 1, 1, 1, 1, 1, 1, 1, 1, 1, 1, 1, 1, 1, 1, 1, 1, 1, 1, 1, 1, 1, 1, 1, 1, 1, 1, 1, 1, 1, 1, 1, 1, 1, 1, 1, 1, 1, 1, 1, 1, 1, 1, 1, 1, 1, 1, 1, 1, 1, 1, 1, 1, 1, 1, 1, 1, 1, 1, 1, 1, 1, 1, 1, 1, 1, 1, 1, 1, 1, 1, 1, 1, 1, 1, 1, 1, 1, 1, 1, 1, 1, 1, 1, 1, 1, 1, 1, 1, 1, 1, 1, 1, 1, 1, 1, 1, 1, 1, 1, 1, 1, 1, 1, 1, 1, 1, 1, 1, 1, 1, 1, 1, 1, 1, 1, 1, 1, 1, 1, 1, 1, 1, 1, 1, 1, 1, 1, 1, 1, 1, 1, 1, 1, 1, 1, 1, 1, 1, 1, 1, 1, 1, 1, 1, 1, 1, 1, 1, 1, 1, 1, 1, 1, 1, 1, 1, 1, 1, 1, 1, 1, 1, 1, 1, 1, 1, 1, 1, 1, 1, 1, 1, 1, 1, 1, 1, 1, 1, 1, 1, 1, 1, 1, 1, 1, 1, 1, 1, 1, 1, 1, 1, 1, 1, 1, 1, 1, 1, 1, 1, 1, 1, 1, 1, 1, 1, 1, 1, 1, 1, 1, 1, 1, 1, 1, 1, 1, 1, 1, 1, 1, 1, 1, 1, 1, 1, 1, 1, 1, 1, 1, 1, 1, 1, 1, 1, 1, 1, 1, 1, 1, 1, 1, 1, 1, 1, 1, 1, 1, 1, 1, 1, 1, 1, 1, 1, 1, 1, 1, 1, 1, 1, 1, 1, 1, 1, 1, 1, 1, 1, 1, 1, 1, 1, 1, 1, 1, 1, 1, 1, 1, 1, 1, 1, 1, 1, 1, 1, 1, 1, 1, 1, 1, 1, 1, 1, None]\n"
          ]
        }
      ],
      "source": [
        "sequence_ids = tokenized_example.sequence_ids()\n",
        "print(sequence_ids)"
      ]
    },
    {
      "cell_type": "code",
      "execution_count": null,
      "metadata": {
        "colab": {
          "base_uri": "https://localhost:8080/"
        },
        "id": "YYnrp5hbrLuu",
        "outputId": "37967407-54ab-4eab-d412-21fca5b50410"
      },
      "outputs": [
        {
          "output_type": "stream",
          "name": "stderr",
          "text": [
            "All model checkpoint layers were used when initializing TFBertForQuestionAnswering.\n",
            "\n",
            "Some layers of TFBertForQuestionAnswering were not initialized from the model checkpoint at cahya/bert-base-indonesian-522M and are newly initialized: ['qa_outputs']\n",
            "You should probably TRAIN this model on a down-stream task to be able to use it for predictions and inference.\n"
          ]
        }
      ],
      "source": [
        "from transformers import TFAutoModelForQuestionAnswering\n",
        "\n",
        "model = TFAutoModelForQuestionAnswering.from_pretrained(model_name)"
      ]
    },
    {
      "cell_type": "code",
      "execution_count": null,
      "metadata": {
        "colab": {
          "base_uri": "https://localhost:8080/"
        },
        "id": "TVH1BU3ErLuv",
        "outputId": "7ed4ca9f-4045-448c-ace0-7ee73522ac49"
      },
      "outputs": [
        {
          "output_type": "stream",
          "name": "stdout",
          "text": [
            "16 17\n"
          ]
        }
      ],
      "source": [
        "answers = example[\"answers\"]\n",
        "start_char = answers[\"answer_start\"][0]\n",
        "end_char = start_char + len(answers[\"text\"][0])\n",
        "\n",
        "# Start token index of the current span in the text.\n",
        "token_start_index = 0\n",
        "while sequence_ids[token_start_index] != 1:\n",
        "    token_start_index += 1\n",
        "\n",
        "# End token index of the current span in the text.\n",
        "token_end_index = len(tokenized_example[\"input_ids\"][0]) - 1\n",
        "while sequence_ids[token_end_index] != 1:\n",
        "    token_end_index -= 1\n",
        "\n",
        "# Detect if the answer is out of the span (in which case this feature is labeled with the CLS index).\n",
        "offsets = tokenized_example[\"offset_mapping\"][0]\n",
        "if (\n",
        "    offsets[token_start_index][0] <= start_char\n",
        "    and offsets[token_end_index][1] >= end_char\n",
        "):\n",
        "    # Move the token_start_index and token_end_index to the two ends of the answer.\n",
        "    # Note: we could go after the last offset if the answer is the last word (edge case).\n",
        "    while (\n",
        "        token_start_index < len(offsets) and offsets[token_start_index][0] <= start_char\n",
        "    ):\n",
        "        token_start_index += 1\n",
        "    start_position = token_start_index - 1\n",
        "    while offsets[token_end_index][1] >= end_char:\n",
        "        token_end_index -= 1\n",
        "    end_position = token_end_index + 1\n",
        "    print(start_position, end_position)\n",
        "else:\n",
        "    print(\"The answer is not in this feature.\")"
      ]
    },
    {
      "cell_type": "code",
      "execution_count": null,
      "metadata": {
        "colab": {
          "base_uri": "https://localhost:8080/"
        },
        "id": "KvzA4Z3prLuv",
        "outputId": "9d60cd6f-6dad-42b9-8378-50c1cc18bdff"
      },
      "outputs": [
        {
          "output_type": "stream",
          "name": "stdout",
          "text": [
            "jay z\n",
            "Jay Z\n"
          ]
        }
      ],
      "source": [
        "print(\n",
        "    tokenizer.decode(\n",
        "        tokenized_example[\"input_ids\"][0][start_position : end_position + 1]\n",
        "    )\n",
        ")\n",
        "print(answers[\"text\"][0])"
      ]
    },
    {
      "cell_type": "code",
      "execution_count": null,
      "metadata": {
        "id": "XAqZAfWOrLuv"
      },
      "outputs": [],
      "source": [
        "pad_on_right = tokenizer.padding_side == \"right\""
      ]
    },
    {
      "cell_type": "code",
      "execution_count": null,
      "metadata": {
        "id": "Es_fkmgXrLuv"
      },
      "outputs": [],
      "source": [
        "def prepare_train_features(examples):\n",
        "    # Tokenize our examples with truncation and padding, but keep the overflows using a stride. This results\n",
        "    # in one example possible giving several features when a context is long, each of those features having a\n",
        "    # context that overlaps a bit the context of the previous feature.\n",
        "    tokenized_examples = tokenizer(\n",
        "        examples[\"question\" if pad_on_right else \"context\"],\n",
        "        examples[\"context\" if pad_on_right else \"question\"],\n",
        "        truncation=\"only_second\" if pad_on_right else \"only_first\",\n",
        "        max_length=max_length,\n",
        "        stride=doc_stride,\n",
        "        return_overflowing_tokens=True,\n",
        "        return_offsets_mapping=True,\n",
        "        padding=\"max_length\",\n",
        "    )\n",
        "\n",
        "    # Since one example might give us several features if it has a long context, we need a map from a feature to\n",
        "    # its corresponding example. This key gives us just that.\n",
        "    sample_mapping = tokenized_examples.pop(\"overflow_to_sample_mapping\")\n",
        "    # The offset mappings will give us a map from token to character position in the original context. This will\n",
        "    # help us compute the start_positions and end_positions.\n",
        "    offset_mapping = tokenized_examples.pop(\"offset_mapping\")\n",
        "\n",
        "    # Let's label those examples!\n",
        "    tokenized_examples[\"start_positions\"] = []\n",
        "    tokenized_examples[\"end_positions\"] = []\n",
        "\n",
        "    for i, offsets in enumerate(offset_mapping):\n",
        "        # We will label impossible answers with the index of the CLS token.\n",
        "        input_ids = tokenized_examples[\"input_ids\"][i]\n",
        "        cls_index = input_ids.index(tokenizer.cls_token_id)\n",
        "\n",
        "        # Grab the sequence corresponding to that example (to know what is the context and what is the question).\n",
        "        sequence_ids = tokenized_examples.sequence_ids(i)\n",
        "\n",
        "        # One example can give several spans, this is the index of the example containing this span of text.\n",
        "        sample_index = sample_mapping[i]\n",
        "        answers = examples[\"answers\"][sample_index]\n",
        "        # If no answers are given, set the cls_index as answer.\n",
        "        if len(answers[\"answer_start\"]) == 0:\n",
        "            tokenized_examples[\"start_positions\"].append(cls_index)\n",
        "            tokenized_examples[\"end_positions\"].append(cls_index)\n",
        "        else:\n",
        "            # Start/end character index of the answer in the text.\n",
        "            start_char = answers[\"answer_start\"][0]\n",
        "            end_char = start_char + len(answers[\"text\"][0])\n",
        "\n",
        "            # Start token index of the current span in the text.\n",
        "            token_start_index = 0\n",
        "            while sequence_ids[token_start_index] != (1 if pad_on_right else 0):\n",
        "                token_start_index += 1\n",
        "\n",
        "            # End token index of the current span in the text.\n",
        "            token_end_index = len(input_ids) - 1\n",
        "            while sequence_ids[token_end_index] != (1 if pad_on_right else 0):\n",
        "                token_end_index -= 1\n",
        "\n",
        "            # Detect if the answer is out of the span (in which case this feature is labeled with the CLS index).\n",
        "            if not (\n",
        "                offsets[token_start_index][0] <= start_char\n",
        "                and offsets[token_end_index][1] >= end_char\n",
        "            ):\n",
        "                tokenized_examples[\"start_positions\"].append(cls_index)\n",
        "                tokenized_examples[\"end_positions\"].append(cls_index)\n",
        "            else:\n",
        "                # Otherwise move the token_start_index and token_end_index to the two ends of the answer.\n",
        "                # Note: we could go after the last offset if the answer is the last word (edge case).\n",
        "                while (\n",
        "                    token_start_index < len(offsets)\n",
        "                    and offsets[token_start_index][0] <= start_char\n",
        "                ):\n",
        "                    token_start_index += 1\n",
        "                tokenized_examples[\"start_positions\"].append(token_start_index - 1)\n",
        "                while offsets[token_end_index][1] >= end_char:\n",
        "                    token_end_index -= 1\n",
        "                tokenized_examples[\"end_positions\"].append(token_end_index + 1)\n",
        "\n",
        "    return tokenized_examples"
      ]
    },
    {
      "cell_type": "code",
      "execution_count": null,
      "metadata": {
        "id": "YFgnRJ2XrLuw"
      },
      "outputs": [],
      "source": [
        "features = prepare_train_features(datasets[\"train\"][:5])"
      ]
    },
    {
      "cell_type": "code",
      "execution_count": null,
      "metadata": {
        "colab": {
          "base_uri": "https://localhost:8080/",
          "height": 81,
          "referenced_widgets": [
            "c981eefd241e4b63a16827a101a50e47",
            "c991c47be9c646828d4ba8d122d33ac3",
            "b070b4bf498b42e7a977cfe6711398c7",
            "9e0d5362b91e4e2791f6db8ee869747e",
            "c6959cd9ad4b4e6ea9f954f955f8dafa",
            "4a066471223d466688e07779aee29c2e",
            "f35dcbf4eba5487594ee01fda89dd5dd",
            "96a436ed46f44de6b6902bb043516e75",
            "e303cb9810c64c378caf14526dd353a1",
            "02da8b52d00a4186b3a8ed896f1ea58d",
            "096417f0c90546bd93e154e9ffbe9d8c",
            "223dca5588654ab2afba04cc221d55a4",
            "254c4202fac44abda38d788d40e8a701",
            "d47cf3fb811a480c911288d17c210fa3",
            "fec0a135041a4c9b915eac54941754bb",
            "bd27827d574346869a87eb865f68e660",
            "98f73d84cbd54b80beb1b23b44cd0795",
            "4cd46b3bfa3d447b86dc91e0a0eac7c3",
            "0a1b2cd21afa4e95818f7e144cf8476f",
            "9afe4d7a743e42aeaeaff11ee02d486d",
            "3ceab55ddd9b483bafd8a3af05625247",
            "3d67ad2a841e4a039c90b4b2a1177d23"
          ]
        },
        "id": "f5T7C0znrLuw",
        "outputId": "897d47e6-7104-4960-e794-8b24587ccba2"
      },
      "outputs": [
        {
          "output_type": "display_data",
          "data": {
            "text/plain": [
              "  0%|          | 0/115 [00:00<?, ?ba/s]"
            ],
            "application/vnd.jupyter.widget-view+json": {
              "version_major": 2,
              "version_minor": 0,
              "model_id": "c981eefd241e4b63a16827a101a50e47"
            }
          },
          "metadata": {}
        },
        {
          "output_type": "display_data",
          "data": {
            "text/plain": [
              "  0%|          | 0/12 [00:00<?, ?ba/s]"
            ],
            "application/vnd.jupyter.widget-view+json": {
              "version_major": 2,
              "version_minor": 0,
              "model_id": "223dca5588654ab2afba04cc221d55a4"
            }
          },
          "metadata": {}
        }
      ],
      "source": [
        "tokenized_datasets = datasets.map(\n",
        "    prepare_train_features, batched=True, remove_columns=datasets[\"train\"].column_names\n",
        ")"
      ]
    },
    {
      "cell_type": "code",
      "execution_count": null,
      "metadata": {
        "colab": {
          "base_uri": "https://localhost:8080/"
        },
        "id": "7L9GXhNarLuw",
        "outputId": "f0e2b4ef-5e6e-4fd9-dd4a-680f4b1eb18b"
      },
      "outputs": [
        {
          "output_type": "stream",
          "name": "stderr",
          "text": [
            "All model checkpoint layers were used when initializing TFBertForQuestionAnswering.\n",
            "\n",
            "Some layers of TFBertForQuestionAnswering were not initialized from the model checkpoint at cahya/bert-base-indonesian-522M and are newly initialized: ['qa_outputs']\n",
            "You should probably TRAIN this model on a down-stream task to be able to use it for predictions and inference.\n"
          ]
        }
      ],
      "source": [
        "from transformers import TFAutoModelForQuestionAnswering\n",
        "\n",
        "model = TFAutoModelForQuestionAnswering.from_pretrained(model_name)"
      ]
    },
    {
      "cell_type": "code",
      "execution_count": null,
      "metadata": {
        "id": "LtTJc3TFrLuw"
      },
      "outputs": [],
      "source": [
        "push_to_hub_model_id = \"chatbot-trvlk-finetuned-squad\"\n",
        "learning_rate = 2e-5\n",
        "num_train_epochs = 2\n",
        "weight_decay = 0.01"
      ]
    },
    {
      "cell_type": "code",
      "execution_count": null,
      "metadata": {
        "id": "OEfpjdTarLux"
      },
      "outputs": [],
      "source": [
        "from transformers import DefaultDataCollator\n",
        "\n",
        "data_collator = DefaultDataCollator(return_tensors=\"tf\")"
      ]
    },
    {
      "cell_type": "code",
      "execution_count": null,
      "metadata": {
        "id": "4Ul_SMlerLux"
      },
      "outputs": [],
      "source": [
        "train_set = tokenized_datasets[\"train\"].to_tf_dataset(\n",
        "    columns=[\"attention_mask\", \"input_ids\", \"start_positions\", \"end_positions\"],\n",
        "    shuffle=True,\n",
        "    batch_size=batch_size,\n",
        "    collate_fn=data_collator,\n",
        ")\n",
        "validation_set = tokenized_datasets[\"validation\"].to_tf_dataset(\n",
        "    columns=[\"attention_mask\", \"input_ids\", \"start_positions\", \"end_positions\"],\n",
        "    shuffle=False,\n",
        "    batch_size=batch_size,\n",
        "    collate_fn=data_collator,\n",
        ")"
      ]
    },
    {
      "cell_type": "code",
      "execution_count": null,
      "metadata": {
        "id": "8fdbb9OVrLux"
      },
      "outputs": [],
      "source": [
        "from transformers import create_optimizer\n",
        "\n",
        "total_train_steps = (len(tokenized_datasets[\"train\"]) // batch_size) * num_train_epochs\n",
        "\n",
        "optimizer, schedule = create_optimizer(\n",
        "    init_lr=learning_rate, num_warmup_steps=0, num_train_steps=total_train_steps\n",
        ")"
      ]
    },
    {
      "cell_type": "code",
      "execution_count": null,
      "metadata": {
        "colab": {
          "base_uri": "https://localhost:8080/"
        },
        "id": "MnYVhN-OrLux",
        "outputId": "28632d61-4ba2-44b0-c4e4-e8204e9ae3a4"
      },
      "outputs": [
        {
          "output_type": "stream",
          "name": "stderr",
          "text": [
            "No loss specified in compile() - the model's internal loss computation will be used as the loss. Don't panic - this is a common way to train TensorFlow models in Transformers! To disable this behaviour, please pass a loss argument, or explicitly pass `loss=None` if you do not want your model to compute a loss.\n"
          ]
        }
      ],
      "source": [
        "import tensorflow as tf\n",
        "\n",
        "model.compile(optimizer=optimizer)"
      ]
    },
    {
      "cell_type": "code",
      "source": [
        "from huggingface_hub import notebook_login\n",
        "\n",
        "notebook_login()"
      ],
      "metadata": {
        "id": "xmo1YGOmhj_X",
        "outputId": "845399bf-4e55-4aee-84ca-d4b2caabd82f",
        "colab": {
          "base_uri": "https://localhost:8080/",
          "height": 415,
          "referenced_widgets": [
            "4cb66c318b554739afa2f7745081892a",
            "53c952d7d3af4757b8a6815f09ab2496",
            "75df4674d403487b83cefde2d7921b8b",
            "63558075fa154067976104a99041887c",
            "2b9ac832d0bd4e87b090e0ada154cb29",
            "cbfd283a96754823b7c4f24f2fe80b49",
            "1ba774a5c319414abb79eeb56a38fa61",
            "ece1ffe8d4ac4c2daba92e3a771a98b8",
            "7c4e9fc8e7144bdf803c711e9cd95b71",
            "2af0502cae7a4b5d9d2f2e60ea49a359",
            "bcf0eefad1a34f85aad729e33de9ff7b",
            "e6dff615c21c4e589984498277efe02f",
            "6242b8a1704a437b9d75ec35418a5500",
            "162d2b1d30b14d4bba42c10ac319d9fc",
            "b6659998a91e433bb30e85932f046b6a",
            "d463dafeb54e4fe285596781f8c3115c",
            "f5c3562dbffb443c9bd94d7200342870"
          ]
        }
      },
      "execution_count": null,
      "outputs": [
        {
          "output_type": "stream",
          "name": "stdout",
          "text": [
            "Login successful\n",
            "Your token has been saved to /root/.huggingface/token\n",
            "\u001b[1m\u001b[31mAuthenticated through git-credential store but this isn't the helper defined on your machine.\n",
            "You might have to re-authenticate when pushing to the Hugging Face Hub. Run the following command in your terminal in case you want to set this credential helper as the default\n",
            "\n",
            "git config --global credential.helper store\u001b[0m\n"
          ]
        }
      ]
    },
    {
      "cell_type": "code",
      "source": [
        "!apt install git-lfs\n",
        "!git config --global user.email \"your@mail.com\"\n",
        "!git config --global user.name \"username\""
      ],
      "metadata": {
        "id": "rXAuQ5ImhoO5",
        "outputId": "f5b5848f-3496-47fd-e568-de9d97b51247",
        "colab": {
          "base_uri": "https://localhost:8080/"
        }
      },
      "execution_count": null,
      "outputs": [
        {
          "output_type": "stream",
          "name": "stdout",
          "text": [
            "Reading package lists... Done\n",
            "Building dependency tree       \n",
            "Reading state information... Done\n",
            "git-lfs is already the newest version (2.3.4-1).\n",
            "The following package was automatically installed and is no longer required:\n",
            "  libnvidia-common-460\n",
            "Use 'apt autoremove' to remove it.\n",
            "0 upgraded, 0 newly installed, 0 to remove and 42 not upgraded.\n"
          ]
        }
      ]
    },
    {
      "cell_type": "code",
      "execution_count": null,
      "metadata": {
        "colab": {
          "base_uri": "https://localhost:8080/",
          "height": 369,
          "referenced_widgets": [
            "9f6fb44b255348efbe2c09759189a38c",
            "1b0f7560d262488d8e1112c3b9c26db8",
            "1537c6ba058c452d872541cd0815f9a6",
            "d904a15a81f34e99b532dea0d034e7d6",
            "2570c9d649b84e2c946b0502bae77a84",
            "c7dc984ec9624861b63710bd433efb89",
            "28992d82ada44e988509a3817d8109fd",
            "cdb59b0bafc9434d8ac45f5195358ab3",
            "458d43d713fb446eb9b330e64b2dda2c",
            "ec1986377f174635934dfa50564725e6",
            "3cebd4aec9624ba49301791c1d4de101",
            "4c7ab920aea34fcda7732cd2fa03972d",
            "716f270954f24e5e88bef091915d5d50",
            "608b780faa524420a0091e5b4eae77f6",
            "d5449be7ab184fee9619af0fe288518f",
            "414a481efda543efb8fee2651da94d3e",
            "a283bb19e71b48e2ad02ee8d6843a561",
            "2af465b5c59e48cf84918d5363a85dcd",
            "0d672b7e7127453b83548ba9db8cf913",
            "c08ff1b30aa649199a1525a9ecb3482b",
            "a5de15c750e14ebeb4bca50a7e0d42dc",
            "3ac5643381c641c48556aa119a759c62",
            "c357f5106bc44f8abf43292fdf9b473b",
            "f2eb4c96e5c2489f9a3652a8598410b4",
            "aa9a3ca743614c2586bb5abb21990ae3",
            "d686c21a0bf647a8b7886ffaf8076443",
            "f534b659874c464a8d857e16aadff918",
            "54a86b15c6a54d71a2eb04ab8f2a3dbc",
            "cdfba980bf864027ba62fc97a8bacf5f",
            "7dc8d3b3a6544c2094730f51fa856eac",
            "51f44ab1cc594e2d869ebc81f4880693",
            "46127034cca44cb1bfd4b3e93be5f7c3",
            "b4d430698a9c405d9d5f560d10100364"
          ]
        },
        "id": "nbsxVdZvrLux",
        "outputId": "b92fa149-93db-4eaf-b479-f28dbebd1c34"
      },
      "outputs": [
        {
          "output_type": "stream",
          "name": "stderr",
          "text": [
            "/content/qa_model_save is already a clone of https://huggingface.co/Andaf/chatbot-trvlk-finetuned-squad. Make sure you pull the latest changes with `repo.git_pull()`.\n"
          ]
        },
        {
          "output_type": "stream",
          "name": "stdout",
          "text": [
            "Epoch 1/2\n",
            "7222/7222 [==============================] - 6080s 840ms/step - loss: 2.1851 - val_loss: 6.1907\n",
            "Epoch 2/2\n",
            "7222/7222 [==============================] - 6058s 839ms/step - loss: 1.5335 - val_loss: 6.4566\n"
          ]
        },
        {
          "output_type": "stream",
          "name": "stderr",
          "text": [
            "Several commits (2) will be pushed upstream.\n",
            "The progress bars may be unreliable.\n"
          ]
        },
        {
          "output_type": "display_data",
          "data": {
            "text/plain": [
              "Upload file tf_model.h5:   0%|          | 3.34k/420M [00:00<?, ?B/s]"
            ],
            "application/vnd.jupyter.widget-view+json": {
              "version_major": 2,
              "version_minor": 0,
              "model_id": "9f6fb44b255348efbe2c09759189a38c"
            }
          },
          "metadata": {}
        },
        {
          "output_type": "display_data",
          "data": {
            "text/plain": [
              "Upload file logs/validation/events.out.tfevents.1654148844.8b5c72b9c6a7.83.12.v2: 100%|##########| 350/350 [00…"
            ],
            "application/vnd.jupyter.widget-view+json": {
              "version_major": 2,
              "version_minor": 0,
              "model_id": "4c7ab920aea34fcda7732cd2fa03972d"
            }
          },
          "metadata": {}
        },
        {
          "output_type": "display_data",
          "data": {
            "text/plain": [
              "Upload file logs/train/events.out.tfevents.1654142985.8b5c72b9c6a7.83.11.v2:   0%|          | 3.34k/2.55M [00:…"
            ],
            "application/vnd.jupyter.widget-view+json": {
              "version_major": 2,
              "version_minor": 0,
              "model_id": "c357f5106bc44f8abf43292fdf9b473b"
            }
          },
          "metadata": {}
        },
        {
          "output_type": "stream",
          "name": "stderr",
          "text": [
            "remote: Enforcing permissions...        \n",
            "remote: Allowed refs: all        \n",
            "To https://huggingface.co/Andaf/chatbot-trvlk-finetuned-squad\n",
            "   2105b34..04c00a6  main -> main\n",
            "\n"
          ]
        },
        {
          "output_type": "execute_result",
          "data": {
            "text/plain": [
              "<keras.callbacks.History at 0x7f0f60dcccd0>"
            ]
          },
          "metadata": {},
          "execution_count": 309
        }
      ],
      "source": [
        "from transformers.keras_callbacks import PushToHubCallback\n",
        "from tensorflow.keras.callbacks import TensorBoard\n",
        "\n",
        "push_to_hub_callback = PushToHubCallback(\n",
        "    output_dir=\"./qa_model_save\",\n",
        "    tokenizer=tokenizer,\n",
        "    hub_model_id=push_to_hub_model_id,\n",
        ")\n",
        "\n",
        "tensorboard_callback = TensorBoard(log_dir=\"./qa_model_save/logs\")\n",
        "\n",
        "callbacks = [tensorboard_callback, push_to_hub_callback]\n",
        "\n",
        "model.fit(\n",
        "    train_set,\n",
        "    validation_data=validation_set,\n",
        "    epochs=num_train_epochs,\n",
        "    callbacks=callbacks,\n",
        ")"
      ]
    },
    {
      "cell_type": "code",
      "source": [
        "model.save_pretrained(\"/content/drive/MyDrive/Translated/Model and Weight/model_trvlk\")"
      ],
      "metadata": {
        "id": "GhXP8VbCt8pk"
      },
      "execution_count": null,
      "outputs": []
    },
    {
      "cell_type": "code",
      "source": [
        " !zip -r qa_model_save.zip qa_model_save/"
      ],
      "metadata": {
        "id": "tyODhML8ueJT",
        "outputId": "73d7172c-4d04-425d-cb7a-41d9a00bd7e0",
        "colab": {
          "base_uri": "https://localhost:8080/"
        }
      },
      "execution_count": null,
      "outputs": [
        {
          "output_type": "stream",
          "name": "stdout",
          "text": [
            "  adding: qa_model_save/ (stored 0%)\n",
            "  adding: qa_model_save/config.json (deflated 46%)\n",
            "  adding: qa_model_save/.gitattributes (deflated 86%)\n",
            "  adding: qa_model_save/tokenizer.json (deflated 71%)\n",
            "  adding: qa_model_save/tf_model.h5 (deflated 7%)\n",
            "  adding: qa_model_save/vocab.txt (deflated 51%)\n",
            "  adding: qa_model_save/.git/ (stored 0%)\n",
            "  adding: qa_model_save/.git/description (deflated 14%)\n",
            "  adding: qa_model_save/.git/objects/ (stored 0%)\n",
            "  adding: qa_model_save/.git/objects/ac/ (stored 0%)\n",
            "  adding: qa_model_save/.git/objects/ac/481c8eb05e4d2496fbe076a38a7b4835dd733d (stored 0%)\n",
            "  adding: qa_model_save/.git/objects/e5/ (stored 0%)\n",
            "  adding: qa_model_save/.git/objects/e5/43ec5dec53db3d45c58e0a9c432a4a00fcf018 (deflated 0%)\n",
            "  adding: qa_model_save/.git/objects/pack/ (stored 0%)\n",
            "  adding: qa_model_save/.git/objects/de/ (stored 0%)\n",
            "  adding: qa_model_save/.git/objects/de/a8e1506604081af60e5e623dd2f694034c07d1 (stored 0%)\n",
            "  adding: qa_model_save/.git/objects/d2/ (stored 0%)\n",
            "  adding: qa_model_save/.git/objects/d2/c9edbcdf28a79439cc4661354e3a036ab076b5 (stored 0%)\n",
            "  adding: qa_model_save/.git/objects/2d/ (stored 0%)\n",
            "  adding: qa_model_save/.git/objects/2d/40950399397fdcba9092a2fb84c9561e9d77b1 (stored 0%)\n",
            "  adding: qa_model_save/.git/objects/48/ (stored 0%)\n",
            "  adding: qa_model_save/.git/objects/48/ffef36e348f40651b6d396ca119cf42d09754c (stored 0%)\n",
            "  adding: qa_model_save/.git/objects/a6/ (stored 0%)\n",
            "  adding: qa_model_save/.git/objects/a6/bb2e15c2d42908985a9e6787c7244bf1aab81a (stored 0%)\n",
            "  adding: qa_model_save/.git/objects/f0/ (stored 0%)\n",
            "  adding: qa_model_save/.git/objects/f0/7423ec7ca6dd12ac6ab1b3337ac2f06bff22ec (stored 0%)\n",
            "  adding: qa_model_save/.git/objects/9a/ (stored 0%)\n",
            "  adding: qa_model_save/.git/objects/9a/753d8336eb91fa3903b6500253c40a120db6af (stored 0%)\n",
            "  adding: qa_model_save/.git/objects/d1/ (stored 0%)\n",
            "  adding: qa_model_save/.git/objects/d1/ae7ae336a78ee8c53e079378726b803d288c4c (stored 0%)\n",
            "  adding: qa_model_save/.git/objects/5c/ (stored 0%)\n",
            "  adding: qa_model_save/.git/objects/5c/be2578845d0d03e0c9114e0c5aaca199e07f0b (stored 0%)\n",
            "  adding: qa_model_save/.git/objects/21/ (stored 0%)\n",
            "  adding: qa_model_save/.git/objects/21/05b34178c405222ff5fdccff901ab18c6d3688 (stored 0%)\n",
            "  adding: qa_model_save/.git/objects/04/ (stored 0%)\n",
            "  adding: qa_model_save/.git/objects/04/c00a6e2eb2832e59cf66ca38e8559f1c7ed470 (stored 0%)\n",
            "  adding: qa_model_save/.git/objects/43/ (stored 0%)\n",
            "  adding: qa_model_save/.git/objects/43/dc667da42ce9570c9420568b4d08e1307c470c (stored 0%)\n",
            "  adding: qa_model_save/.git/objects/info/ (stored 0%)\n",
            "  adding: qa_model_save/.git/objects/5d/ (stored 0%)\n",
            "  adding: qa_model_save/.git/objects/5d/a750d1f58cfd4799cb8e06a13273c40fb2c7c3 (stored 0%)\n",
            "  adding: qa_model_save/.git/objects/09/ (stored 0%)\n",
            "  adding: qa_model_save/.git/objects/09/842c54fb2f53f10e1d44e7571b53e75dfa4fa9 (stored 0%)\n",
            "  adding: qa_model_save/.git/objects/38/ (stored 0%)\n",
            "  adding: qa_model_save/.git/objects/38/1cf36c97794369712a6ce3add56cd393f5cbf4 (stored 0%)\n",
            "  adding: qa_model_save/.git/objects/47/ (stored 0%)\n",
            "  adding: qa_model_save/.git/objects/47/c8a6c4ba55164c074af974346dade45c056cf8 (stored 0%)\n",
            "  adding: qa_model_save/.git/objects/2e/ (stored 0%)\n",
            "  adding: qa_model_save/.git/objects/2e/f3397d7016b543a2b82a25293d58669d237b36 (stored 0%)\n",
            "  adding: qa_model_save/.git/objects/f3/ (stored 0%)\n",
            "  adding: qa_model_save/.git/objects/f3/b633a230c00e953d9fb6840e84b199e6cf3e18 (stored 0%)\n",
            "  adding: qa_model_save/.git/objects/b6/ (stored 0%)\n",
            "  adding: qa_model_save/.git/objects/b6/23b07530cdb49a944794ec735e2a3089de1206 (stored 0%)\n",
            "  adding: qa_model_save/.git/objects/e7/ (stored 0%)\n",
            "  adding: qa_model_save/.git/objects/e7/b0375001f109a6b8873d756ad4f7bbb15fbaa5 (stored 0%)\n",
            "  adding: qa_model_save/.git/objects/63/ (stored 0%)\n",
            "  adding: qa_model_save/.git/objects/63/35ab230dde45d41ef84a5b70c6ad1bb1b53ea5 (deflated 0%)\n",
            "  adding: qa_model_save/.git/objects/b1/ (stored 0%)\n",
            "  adding: qa_model_save/.git/objects/b1/3abe2633ce0e06cc2aa73eadc2390dbbd420f2 (stored 0%)\n",
            "  adding: qa_model_save/.git/objects/65/ (stored 0%)\n",
            "  adding: qa_model_save/.git/objects/65/42f2ec5b68eb191ef20399a751a4d6f2f318ae (stored 0%)\n",
            "  adding: qa_model_save/.git/objects/29/ (stored 0%)\n",
            "  adding: qa_model_save/.git/objects/29/e498dbf8cd196ae96f541a65af7786072c6b41 (stored 0%)\n",
            "  adding: qa_model_save/.git/objects/e0/ (stored 0%)\n",
            "  adding: qa_model_save/.git/objects/e0/5683ce098a927aa3e63cbea4b4425943f7f146 (stored 0%)\n",
            "  adding: qa_model_save/.git/index (deflated 36%)\n",
            "  adding: qa_model_save/.git/hooks/ (stored 0%)\n",
            "  adding: qa_model_save/.git/hooks/post-merge (deflated 25%)\n",
            "  adding: qa_model_save/.git/hooks/pre-push (deflated 24%)\n",
            "  adding: qa_model_save/.git/hooks/update.sample (deflated 68%)\n",
            "  adding: qa_model_save/.git/hooks/post-commit (deflated 25%)\n",
            "  adding: qa_model_save/.git/hooks/pre-push.sample (deflated 50%)\n",
            "  adding: qa_model_save/.git/hooks/pre-commit.sample (deflated 43%)\n",
            "  adding: qa_model_save/.git/hooks/pre-receive.sample (deflated 40%)\n",
            "  adding: qa_model_save/.git/hooks/applypatch-msg.sample (deflated 42%)\n",
            "  adding: qa_model_save/.git/hooks/post-update.sample (deflated 27%)\n",
            "  adding: qa_model_save/.git/hooks/fsmonitor-watchman.sample (deflated 53%)\n",
            "  adding: qa_model_save/.git/hooks/pre-applypatch.sample (deflated 38%)\n",
            "  adding: qa_model_save/.git/hooks/prepare-commit-msg.sample (deflated 50%)\n",
            "  adding: qa_model_save/.git/hooks/post-checkout (deflated 26%)\n",
            "  adding: qa_model_save/.git/hooks/commit-msg.sample (deflated 44%)\n",
            "  adding: qa_model_save/.git/hooks/pre-rebase.sample (deflated 59%)\n",
            "  adding: qa_model_save/.git/packed-refs (deflated 9%)\n",
            "  adding: qa_model_save/.git/info/ (stored 0%)\n",
            "  adding: qa_model_save/.git/info/exclude (deflated 28%)\n",
            "  adding: qa_model_save/.git/lfs/ (stored 0%)\n",
            "  adding: qa_model_save/.git/lfs/objects/ (stored 0%)\n",
            "  adding: qa_model_save/.git/lfs/objects/8a/ (stored 0%)\n",
            "  adding: qa_model_save/.git/lfs/objects/8a/ca/ (stored 0%)\n",
            "  adding: qa_model_save/.git/lfs/objects/8a/ca/8aca4a38d4760ace3241557bb797e626633bcbc13755d7192b26b4dd57610e13 (deflated 94%)\n",
            "  adding: qa_model_save/.git/lfs/objects/26/ (stored 0%)\n",
            "  adding: qa_model_save/.git/lfs/objects/26/4c/ (stored 0%)\n",
            "  adding: qa_model_save/.git/lfs/objects/26/4c/264ca53dc9725c6802d5f9e98f25baf7260e8adeeef1ebb9651f1db7eb5b2516 (deflated 24%)\n",
            "  adding: qa_model_save/.git/lfs/objects/1a/ (stored 0%)\n",
            "  adding: qa_model_save/.git/lfs/objects/1a/dc/ (stored 0%)\n",
            "  adding: qa_model_save/.git/lfs/objects/1a/dc/1adc3c85363d40f15c1b6360570e421cc6aada4bc89e2b770ff86fe68ab9ed80 (deflated 94%)\n",
            "  adding: qa_model_save/.git/lfs/objects/logs/ (stored 0%)\n",
            "  adding: qa_model_save/.git/lfs/objects/df/ (stored 0%)\n",
            "  adding: qa_model_save/.git/lfs/objects/df/bd/ (stored 0%)\n",
            "  adding: qa_model_save/.git/lfs/objects/df/bd/dfbd9b8197547008be4b80f91a7825b340f94d71d82ddf84f3da531cc1c96897 (deflated 45%)\n",
            "  adding: qa_model_save/.git/lfs/objects/76/ (stored 0%)\n",
            "  adding: qa_model_save/.git/lfs/objects/76/5e/ (stored 0%)\n",
            "  adding: qa_model_save/.git/lfs/objects/76/5e/765e6cbdae283e3072e277c8bacb96743aa7d45e4d25e31183bf2fb1d9abacc2 (deflated 7%)\n",
            "  adding: qa_model_save/.git/lfs/objects/79/ (stored 0%)\n",
            "  adding: qa_model_save/.git/lfs/objects/79/e1/ (stored 0%)\n",
            "  adding: qa_model_save/.git/lfs/objects/79/e1/79e179db878094402dcb6360b8f22f04e3c93f0bcc25e3b1388a2450f0ac86b6 (deflated 7%)\n",
            "  adding: qa_model_save/.git/lfs/objects/1b/ (stored 0%)\n",
            "  adding: qa_model_save/.git/lfs/objects/1b/a7/ (stored 0%)\n",
            "  adding: qa_model_save/.git/lfs/objects/1b/a7/1ba71bc4ecb85dbb52a345ffcea5d18875264a006289c369c2e91d5fe6431ced (deflated 94%)\n",
            "  adding: qa_model_save/.git/lfs/tmp/ (stored 0%)\n",
            "  adding: qa_model_save/.git/lfs/tmp/objects/ (stored 0%)\n",
            "  adding: qa_model_save/.git/config (deflated 44%)\n",
            "  adding: qa_model_save/.git/COMMIT_EDITMSG (stored 0%)\n",
            "  adding: qa_model_save/.git/branches/ (stored 0%)\n",
            "  adding: qa_model_save/.git/logs/ (stored 0%)\n",
            "  adding: qa_model_save/.git/logs/HEAD (deflated 48%)\n",
            "  adding: qa_model_save/.git/logs/refs/ (stored 0%)\n",
            "  adding: qa_model_save/.git/logs/refs/heads/ (stored 0%)\n",
            "  adding: qa_model_save/.git/logs/refs/heads/main (deflated 48%)\n",
            "  adding: qa_model_save/.git/logs/refs/remotes/ (stored 0%)\n",
            "  adding: qa_model_save/.git/logs/refs/remotes/origin/ (stored 0%)\n",
            "  adding: qa_model_save/.git/logs/refs/remotes/origin/main (deflated 19%)\n",
            "  adding: qa_model_save/.git/logs/refs/remotes/origin/HEAD (deflated 23%)\n",
            "  adding: qa_model_save/.git/HEAD (stored 0%)\n",
            "  adding: qa_model_save/.git/refs/ (stored 0%)\n",
            "  adding: qa_model_save/.git/refs/tags/ (stored 0%)\n",
            "  adding: qa_model_save/.git/refs/heads/ (stored 0%)\n",
            "  adding: qa_model_save/.git/refs/heads/main (stored 0%)\n",
            "  adding: qa_model_save/.git/refs/remotes/ (stored 0%)\n",
            "  adding: qa_model_save/.git/refs/remotes/origin/ (stored 0%)\n",
            "  adding: qa_model_save/.git/refs/remotes/origin/main (stored 0%)\n",
            "  adding: qa_model_save/.git/refs/remotes/origin/HEAD (stored 0%)\n",
            "  adding: qa_model_save/special_tokens_map.json (deflated 40%)\n",
            "  adding: qa_model_save/.ipynb_checkpoints/ (stored 0%)\n",
            "  adding: qa_model_save/logs/ (stored 0%)\n",
            "  adding: qa_model_save/logs/validation/ (stored 0%)\n",
            "  adding: qa_model_save/logs/validation/events.out.tfevents.1654148844.8b5c72b9c6a7.83.12.v2 (deflated 45%)\n",
            "  adding: qa_model_save/logs/train/ (stored 0%)\n",
            "  adding: qa_model_save/logs/train/events.out.tfevents.1654142835.8b5c72b9c6a7.83.10.v2 (deflated 94%)\n",
            "  adding: qa_model_save/logs/train/.ipynb_checkpoints/ (stored 0%)\n",
            "  adding: qa_model_save/logs/train/events.out.tfevents.1654142985.8b5c72b9c6a7.83.11.v2 (deflated 94%)\n",
            "  adding: qa_model_save/tokenizer_config.json (deflated 44%)\n",
            "  adding: qa_model_save/README.md (deflated 49%)\n"
          ]
        }
      ]
    },
    {
      "cell_type": "code",
      "source": [
        "#dont use it\n",
        "model.save('/content/drive/MyDrive/Translated/new_model')\n",
        "# assign location\n",
        "path='/content/drive/MyDrive/Translated/weight_new/Weights'\n",
        " \n",
        "# saveweights\n",
        "model.save_weights(path)"
      ],
      "metadata": {
        "colab": {
          "base_uri": "https://localhost:8080/"
        },
        "id": "R2j7xI_mu9zO",
        "outputId": "dddf9cf3-e95f-4841-b73d-9707078aeb72"
      },
      "execution_count": null,
      "outputs": [
        {
          "output_type": "stream",
          "name": "stderr",
          "text": [
            "WARNING:absl:Found untraced functions such as embeddings_layer_call_fn, embeddings_layer_call_and_return_conditional_losses, encoder_layer_call_fn, encoder_layer_call_and_return_conditional_losses, LayerNorm_layer_call_fn while saving (showing 5 of 416). These functions will not be directly callable after loading.\n"
          ]
        },
        {
          "output_type": "stream",
          "name": "stdout",
          "text": [
            "INFO:tensorflow:Assets written to: /content/drive/MyDrive/Translated/Model_trainindo/assets\n"
          ]
        },
        {
          "output_type": "stream",
          "name": "stderr",
          "text": [
            "INFO:tensorflow:Assets written to: /content/drive/MyDrive/Translated/Model_trainindo/assets\n"
          ]
        }
      ]
    },
    {
      "cell_type": "code",
      "execution_count": null,
      "metadata": {
        "colab": {
          "base_uri": "https://localhost:8080/"
        },
        "id": "Rw23TXH3rLuy",
        "outputId": "42112a83-ffea-498e-c6ce-c14ffc85f1e4"
      },
      "outputs": [
        {
          "output_type": "execute_result",
          "data": {
            "text/plain": [
              "odict_keys(['loss', 'start_logits', 'end_logits'])"
            ]
          },
          "metadata": {},
          "execution_count": 311
        }
      ],
      "source": [
        "batch = next(iter(validation_set))\n",
        "output = model.predict_on_batch(batch)\n",
        "output.keys()"
      ]
    },
    {
      "cell_type": "code",
      "execution_count": null,
      "metadata": {
        "colab": {
          "base_uri": "https://localhost:8080/"
        },
        "id": "N_YX1Ou_rLuy",
        "outputId": "e703a256-51fe-4578-f02c-4a308fd349f0"
      },
      "outputs": [
        {
          "output_type": "execute_result",
          "data": {
            "text/plain": [
              "((16, 384), (16, 384))"
            ]
          },
          "metadata": {},
          "execution_count": 312
        }
      ],
      "source": [
        "output.start_logits.shape, output.end_logits.shape"
      ]
    },
    {
      "cell_type": "code",
      "execution_count": null,
      "metadata": {
        "colab": {
          "base_uri": "https://localhost:8080/"
        },
        "id": "ZfEl-4kZrLuy",
        "outputId": "d8011dc0-a631-406e-96e7-d0dac1f9c872"
      },
      "outputs": [
        {
          "output_type": "execute_result",
          "data": {
            "text/plain": [
              "(array([ 19,  33,  78,  87, 154,  20,   7,  11, 146, 181, 108,  38,  18,\n",
              "         30,  29, 109]),\n",
              " array([ 19,  40,  82,  88, 157,  20,   7,  11, 161, 162, 111,  46,  22,\n",
              "         30,  29, 110]))"
            ]
          },
          "metadata": {},
          "execution_count": 313
        }
      ],
      "source": [
        "import numpy as np\n",
        "\n",
        "np.argmax(output.start_logits, -1), np.argmax(output.end_logits, -1)"
      ]
    },
    {
      "cell_type": "code",
      "execution_count": null,
      "metadata": {
        "id": "LUb24CuFrLuy"
      },
      "outputs": [],
      "source": [
        "n_best_size = 20"
      ]
    },
    {
      "cell_type": "code",
      "execution_count": null,
      "metadata": {
        "id": "a2sL6Cp5rLuy"
      },
      "outputs": [],
      "source": [
        "import numpy as np\n",
        "\n",
        "start_logits = output.start_logits[0]\n",
        "end_logits = output.end_logits[0]\n",
        "# Gather the indices the best start/end logits:\n",
        "start_indexes = np.argsort(start_logits)[-1 : -n_best_size - 1 : -1].tolist()\n",
        "end_indexes = np.argsort(end_logits)[-1 : -n_best_size - 1 : -1].tolist()\n",
        "valid_answers = []\n",
        "for start_index in start_indexes:\n",
        "    for end_index in end_indexes:\n",
        "        if (\n",
        "            start_index <= end_index\n",
        "        ):  # We need to refine that test to check the answer is inside the context\n",
        "            valid_answers.append(\n",
        "                {\n",
        "                    \"score\": start_logits[start_index] + end_logits[end_index],\n",
        "                    \"text\": \"\",  # We need to find a way to get back the original substring corresponding to the answer in the context\n",
        "                }\n",
        "            )"
      ]
    },
    {
      "cell_type": "code",
      "execution_count": null,
      "metadata": {
        "id": "5YXmhfYirLuy"
      },
      "outputs": [],
      "source": [
        "def prepare_validation_features(examples):\n",
        "    # Tokenize our examples with truncation and maybe padding, but keep the overflows using a stride. This results\n",
        "    # in one example possible giving several features when a context is long, each of those features having a\n",
        "    # context that overlaps a bit the context of the previous feature.\n",
        "    tokenized_examples = tokenizer(\n",
        "        examples[\"question\" if pad_on_right else \"context\"],\n",
        "        examples[\"context\" if pad_on_right else \"question\"],\n",
        "        truncation=\"only_second\" if pad_on_right else \"only_first\",\n",
        "        max_length=max_length,\n",
        "        stride=doc_stride,\n",
        "        return_overflowing_tokens=True,\n",
        "        return_offsets_mapping=True,\n",
        "        padding=\"max_length\",\n",
        "    )\n",
        "\n",
        "    # Since one example might give us several features if it has a long context, we need a map from a feature to\n",
        "    # its corresponding example. This key gives us just that.\n",
        "    sample_mapping = tokenized_examples.pop(\"overflow_to_sample_mapping\")\n",
        "\n",
        "    # We keep the example_id that gave us this feature and we will store the offset mappings.\n",
        "    tokenized_examples[\"example_id\"] = []\n",
        "\n",
        "    for i in range(len(tokenized_examples[\"input_ids\"])):\n",
        "        # Grab the sequence corresponding to that example (to know what is the context and what is the question).\n",
        "        sequence_ids = tokenized_examples.sequence_ids(i)\n",
        "        context_index = 1 if pad_on_right else 0\n",
        "\n",
        "        # One example can give several spans, this is the index of the example containing this span of text.\n",
        "        sample_index = sample_mapping[i]\n",
        "        tokenized_examples[\"example_id\"].append(examples[\"id\"][sample_index])\n",
        "\n",
        "        # Set to None the offset_mapping that are not part of the context so it's easy to determine if a token\n",
        "        # position is part of the context or not.\n",
        "        tokenized_examples[\"offset_mapping\"][i] = [\n",
        "            (o if sequence_ids[k] == context_index else None)\n",
        "            for k, o in enumerate(tokenized_examples[\"offset_mapping\"][i])\n",
        "        ]\n",
        "\n",
        "    return tokenized_examples"
      ]
    },
    {
      "cell_type": "code",
      "execution_count": null,
      "metadata": {
        "colab": {
          "base_uri": "https://localhost:8080/",
          "height": 49,
          "referenced_widgets": [
            "ba4b17fb74784cdeac6145b34fa63a23",
            "a93e6ad2c69543799ed7e6c43c62c7ca",
            "c4c89ff1c8ce4f30aaa7f1634a8797f5",
            "39341fee8ea442148d4a038dc60b0826",
            "1b274892fb9a4d6a955870250724aaa9",
            "9919457e059c42bcbbd29f833819a8c0",
            "ee42c311e9ba4dd180ae6c7076ea98d4",
            "a421101801ca454798218d6fa1a63ed2",
            "6719e3ae3e9c4a4cbfb2472d7a83a49f",
            "d81cfa4e8ece4663ac86b09edb7a8005",
            "0acb41b518d94c05a93c95f0c864bfe8"
          ]
        },
        "id": "eV-pkVt4rLuz",
        "outputId": "8d8d49a3-43dc-4d2d-d198-abc95bc6efbe"
      },
      "outputs": [
        {
          "output_type": "display_data",
          "data": {
            "text/plain": [
              "  0%|          | 0/12 [00:00<?, ?ba/s]"
            ],
            "application/vnd.jupyter.widget-view+json": {
              "version_major": 2,
              "version_minor": 0,
              "model_id": "ba4b17fb74784cdeac6145b34fa63a23"
            }
          },
          "metadata": {}
        }
      ],
      "source": [
        "validation_features = datasets[\"validation\"].map(\n",
        "    prepare_validation_features,\n",
        "    batched=True,\n",
        "    remove_columns=datasets[\"validation\"].column_names,\n",
        ")"
      ]
    },
    {
      "cell_type": "code",
      "execution_count": null,
      "metadata": {
        "id": "WmMrVc5IrLuz"
      },
      "outputs": [],
      "source": [
        "validation_dataset = validation_features.to_tf_dataset(\n",
        "    columns=[\"attention_mask\", \"input_ids\"],\n",
        "    shuffle=False,\n",
        "    batch_size=batch_size,\n",
        "    collate_fn=data_collator,\n",
        ")"
      ]
    },
    {
      "cell_type": "code",
      "execution_count": null,
      "metadata": {
        "id": "pwsvtY0srLuz"
      },
      "outputs": [],
      "source": [
        "raw_predictions = model.predict(validation_dataset)"
      ]
    },
    {
      "cell_type": "code",
      "execution_count": null,
      "metadata": {
        "id": "RXP6cR-rrLuz"
      },
      "outputs": [],
      "source": [
        "max_answer_length = 30"
      ]
    },
    {
      "cell_type": "code",
      "execution_count": null,
      "metadata": {
        "colab": {
          "base_uri": "https://localhost:8080/"
        },
        "id": "8GIKuc3yrLuz",
        "outputId": "1cd7b057-0728-406c-8259-00008daab41c"
      },
      "outputs": [
        {
          "output_type": "execute_result",
          "data": {
            "text/plain": [
              "[{'score': 11.582796, 'text': 'Prancis'},\n",
              " {'score': 9.284663, 'text': 'Norman (Norman: Nourmands; Prancis'},\n",
              " {'score': 8.855457, 'text': 'Norman: Nourmands; Prancis'},\n",
              " {'score': 7.3117695, 'text': 'Prancis: Normandia'},\n",
              " {'score': 6.9868107, 'text': 'Norman'},\n",
              " {'score': 6.8033037, 'text': 'Bangsa Norman (Norman: Nourmands; Prancis'},\n",
              " {'score': 6.6759653, 'text': 'Norman (Norman'},\n",
              " {'score': 6.4182177, 'text': 'Prancis'},\n",
              " {'score': 6.2467585, 'text': 'Norman'},\n",
              " {'score': 5.6986036, 'text': 'Prancis: Normandia; Latin: Norman'},\n",
              " {'score': 5.4182086,\n",
              "  'text': 'Prancis: Normandia; Latin: Normanni) adalah orang-orang yang pada abad ke-10 dan ke-11 memberi nama kepada Normandia'},\n",
              " {'score': 5.0136366, 'text': 'Norman (Norman: Nourmands; Prancis: Normandia'},\n",
              " {'score': 4.822694,\n",
              "  'text': 'Normanni) adalah orang-orang yang pada abad ke-10 dan ke-11 memberi nama kepada Normandia, sebuah wilayah di Prancis'},\n",
              " {'score': 4.715297, 'text': 'Prancis.'},\n",
              " {'score': 4.58443, 'text': 'Norman: Nourmands; Prancis: Normandia'},\n",
              " {'score': 4.5508776, 'text': 'Prancis: Normandia; Latin: Normanni)'},\n",
              " {'score': 4.5054507, 'text': 'Bangsa Norman'},\n",
              " {'score': 4.3131976, 'text': 'Prancis: Normandia; Latin: Normanni'},\n",
              " {'score': 4.1961074,\n",
              "  'text': 'Normandia; Latin: Normanni) adalah orang-orang yang pada abad ke-10 dan ke-11 memberi nama kepada Normandia, sebuah wilayah di Prancis'},\n",
              " {'score': 4.1946054, 'text': 'Bangsa Norman (Norman'}]"
            ]
          },
          "metadata": {},
          "execution_count": 321
        }
      ],
      "source": [
        "start_logits = output.start_logits[0]\n",
        "end_logits = output.end_logits[0]\n",
        "offset_mapping = validation_features[0][\"offset_mapping\"]\n",
        "# The first feature comes from the first example. For the more general case, we will need to be match the example_id to\n",
        "# an example index\n",
        "context = datasets[\"validation\"][0][\"context\"]\n",
        "\n",
        "# Gather the indices the best start/end logits:\n",
        "start_indexes = np.argsort(start_logits)[-1 : -n_best_size - 1 : -1].tolist()\n",
        "end_indexes = np.argsort(end_logits)[-1 : -n_best_size - 1 : -1].tolist()\n",
        "valid_answers = []\n",
        "for start_index in start_indexes:\n",
        "    for end_index in end_indexes:\n",
        "        # Don't consider out-of-scope answers, either because the indices are out of bounds or correspond\n",
        "        # to part of the input_ids that are not in the context.\n",
        "        if (\n",
        "            start_index >= len(offset_mapping)\n",
        "            or end_index >= len(offset_mapping)\n",
        "            or offset_mapping[start_index] is None\n",
        "            or offset_mapping[end_index] is None\n",
        "        ):\n",
        "            continue\n",
        "        # Don't consider answers with a length that is either < 0 or > max_answer_length.\n",
        "        if end_index < start_index or end_index - start_index + 1 > max_answer_length:\n",
        "            continue\n",
        "        if (\n",
        "            start_index <= end_index\n",
        "        ):  # We need to refine that test to check the answer is inside the context\n",
        "            start_char = offset_mapping[start_index][0]\n",
        "            end_char = offset_mapping[end_index][1]\n",
        "            valid_answers.append(\n",
        "                {\n",
        "                    \"score\": start_logits[start_index] + end_logits[end_index],\n",
        "                    \"text\": context[start_char:end_char],\n",
        "                }\n",
        "            )\n",
        "\n",
        "valid_answers = sorted(valid_answers, key=lambda x: x[\"score\"], reverse=True)[\n",
        "    :n_best_size\n",
        "]\n",
        "valid_answers"
      ]
    },
    {
      "cell_type": "code",
      "execution_count": null,
      "metadata": {
        "colab": {
          "base_uri": "https://localhost:8080/"
        },
        "id": "H5xparrdrLu0",
        "outputId": "031e90e9-b788-4d7a-92d1-c3a4127dc670"
      },
      "outputs": [
        {
          "output_type": "execute_result",
          "data": {
            "text/plain": [
              "{'answer_start': [159, 159, 159, 159],\n",
              " 'text': ['Perancis', 'Perancis', 'Perancis', 'Perancis']}"
            ]
          },
          "metadata": {},
          "execution_count": 322
        }
      ],
      "source": [
        "datasets[\"validation\"][0][\"answers\"]"
      ]
    },
    {
      "cell_type": "code",
      "source": [
        "model.save('/content/drive/MyDrive/Translated/latest_model')\n",
        "\n",
        "# assign location\n",
        "path='/content/drive/MyDrive/Translated/Weight_latest/Weights'\n",
        " \n",
        "# saveweights\n",
        "model.save_weights(path)"
      ],
      "metadata": {
        "id": "VHGZu5TG_B38",
        "outputId": "cca06d65-dba2-4a75-c283-cc4b15196741",
        "colab": {
          "base_uri": "https://localhost:8080/"
        }
      },
      "execution_count": null,
      "outputs": [
        {
          "output_type": "stream",
          "name": "stderr",
          "text": [
            "WARNING:absl:Found untraced functions such as embeddings_layer_call_fn, embeddings_layer_call_and_return_conditional_losses, encoder_layer_call_fn, encoder_layer_call_and_return_conditional_losses, LayerNorm_layer_call_fn while saving (showing 5 of 416). These functions will not be directly callable after loading.\n"
          ]
        },
        {
          "output_type": "stream",
          "name": "stdout",
          "text": [
            "INFO:tensorflow:Assets written to: /content/drive/MyDrive/Translated/latest_model/assets\n"
          ]
        },
        {
          "output_type": "stream",
          "name": "stderr",
          "text": [
            "INFO:tensorflow:Assets written to: /content/drive/MyDrive/Translated/latest_model/assets\n"
          ]
        }
      ]
    },
    {
      "cell_type": "code",
      "source": [
        "tf.keras.models.load_model('')"
      ],
      "metadata": {
        "id": "d7x_zhz9p5Jx"
      },
      "execution_count": null,
      "outputs": []
    },
    {
      "cell_type": "code",
      "source": [
        "# python\n",
        "from transformers import TFAutoModel\n",
        "# bert = TFAutoModel.from_pretrained(\"bert-base-uncased\")\n",
        "bert = TFAutoModel.from_pretrained(\"/content/drive/MyDrive/Translated/Model and Weight/latest_model\")"
      ],
      "metadata": {
        "id": "1Of2pe89mKqz",
        "outputId": "59bfc8bd-e966-4460-d571-a6f65787d213",
        "colab": {
          "base_uri": "https://localhost:8080/",
          "height": 485
        }
      },
      "execution_count": null,
      "outputs": [
        {
          "output_type": "error",
          "ename": "OSError",
          "evalue": "ignored",
          "traceback": [
            "\u001b[0;31m---------------------------------------------------------------------------\u001b[0m",
            "\u001b[0;31mOSError\u001b[0m                                   Traceback (most recent call last)",
            "\u001b[0;32m/usr/local/lib/python3.7/dist-packages/transformers/configuration_utils.py\u001b[0m in \u001b[0;36m_get_config_dict\u001b[0;34m(cls, pretrained_model_name_or_path, **kwargs)\u001b[0m\n\u001b[1;32m    603\u001b[0m                 \u001b[0muse_auth_token\u001b[0m\u001b[0;34m=\u001b[0m\u001b[0muse_auth_token\u001b[0m\u001b[0;34m,\u001b[0m\u001b[0;34m\u001b[0m\u001b[0;34m\u001b[0m\u001b[0m\n\u001b[0;32m--> 604\u001b[0;31m                 \u001b[0muser_agent\u001b[0m\u001b[0;34m=\u001b[0m\u001b[0muser_agent\u001b[0m\u001b[0;34m,\u001b[0m\u001b[0;34m\u001b[0m\u001b[0;34m\u001b[0m\u001b[0m\n\u001b[0m\u001b[1;32m    605\u001b[0m             )\n",
            "\u001b[0;32m/usr/local/lib/python3.7/dist-packages/transformers/utils/hub.py\u001b[0m in \u001b[0;36mcached_path\u001b[0;34m(url_or_filename, cache_dir, force_download, proxies, resume_download, user_agent, extract_compressed_file, force_extract, use_auth_token, local_files_only)\u001b[0m\n\u001b[1;32m    296\u001b[0m         \u001b[0;31m# File, but it doesn't exist.\u001b[0m\u001b[0;34m\u001b[0m\u001b[0;34m\u001b[0m\u001b[0;34m\u001b[0m\u001b[0m\n\u001b[0;32m--> 297\u001b[0;31m         \u001b[0;32mraise\u001b[0m \u001b[0mEnvironmentError\u001b[0m\u001b[0;34m(\u001b[0m\u001b[0;34mf\"file {url_or_filename} not found\"\u001b[0m\u001b[0;34m)\u001b[0m\u001b[0;34m\u001b[0m\u001b[0;34m\u001b[0m\u001b[0m\n\u001b[0m\u001b[1;32m    298\u001b[0m     \u001b[0;32melse\u001b[0m\u001b[0;34m:\u001b[0m\u001b[0;34m\u001b[0m\u001b[0;34m\u001b[0m\u001b[0m\n",
            "\u001b[0;31mOSError\u001b[0m: file /content/drive/MyDrive/Translated/Model and Weight/latest_model/config.json not found",
            "\nDuring handling of the above exception, another exception occurred:\n",
            "\u001b[0;31mOSError\u001b[0m                                   Traceback (most recent call last)",
            "\u001b[0;32m<ipython-input-14-11dd66559b74>\u001b[0m in \u001b[0;36m<module>\u001b[0;34m()\u001b[0m\n\u001b[1;32m      2\u001b[0m \u001b[0;32mfrom\u001b[0m \u001b[0mtransformers\u001b[0m \u001b[0;32mimport\u001b[0m \u001b[0mTFAutoModel\u001b[0m\u001b[0;34m\u001b[0m\u001b[0;34m\u001b[0m\u001b[0m\n\u001b[1;32m      3\u001b[0m \u001b[0;31m# bert = TFAutoModel.from_pretrained(\"bert-base-uncased\")\u001b[0m\u001b[0;34m\u001b[0m\u001b[0;34m\u001b[0m\u001b[0;34m\u001b[0m\u001b[0m\n\u001b[0;32m----> 4\u001b[0;31m \u001b[0mbert\u001b[0m \u001b[0;34m=\u001b[0m \u001b[0mTFAutoModel\u001b[0m\u001b[0;34m.\u001b[0m\u001b[0mfrom_pretrained\u001b[0m\u001b[0;34m(\u001b[0m\u001b[0;34m\"/content/drive/MyDrive/Translated/Model and Weight/latest_model\"\u001b[0m\u001b[0;34m)\u001b[0m\u001b[0;34m\u001b[0m\u001b[0;34m\u001b[0m\u001b[0m\n\u001b[0m",
            "\u001b[0;32m/usr/local/lib/python3.7/dist-packages/transformers/models/auto/auto_factory.py\u001b[0m in \u001b[0;36mfrom_pretrained\u001b[0;34m(cls, pretrained_model_name_or_path, *model_args, **kwargs)\u001b[0m\n\u001b[1;32m    422\u001b[0m         \u001b[0;32mif\u001b[0m \u001b[0;32mnot\u001b[0m \u001b[0misinstance\u001b[0m\u001b[0;34m(\u001b[0m\u001b[0mconfig\u001b[0m\u001b[0;34m,\u001b[0m \u001b[0mPretrainedConfig\u001b[0m\u001b[0;34m)\u001b[0m\u001b[0;34m:\u001b[0m\u001b[0;34m\u001b[0m\u001b[0;34m\u001b[0m\u001b[0m\n\u001b[1;32m    423\u001b[0m             config, kwargs = AutoConfig.from_pretrained(\n\u001b[0;32m--> 424\u001b[0;31m                 \u001b[0mpretrained_model_name_or_path\u001b[0m\u001b[0;34m,\u001b[0m \u001b[0mreturn_unused_kwargs\u001b[0m\u001b[0;34m=\u001b[0m\u001b[0;32mTrue\u001b[0m\u001b[0;34m,\u001b[0m \u001b[0mtrust_remote_code\u001b[0m\u001b[0;34m=\u001b[0m\u001b[0mtrust_remote_code\u001b[0m\u001b[0;34m,\u001b[0m \u001b[0;34m**\u001b[0m\u001b[0mkwargs\u001b[0m\u001b[0;34m\u001b[0m\u001b[0;34m\u001b[0m\u001b[0m\n\u001b[0m\u001b[1;32m    425\u001b[0m             )\n\u001b[1;32m    426\u001b[0m         \u001b[0;32mif\u001b[0m \u001b[0mhasattr\u001b[0m\u001b[0;34m(\u001b[0m\u001b[0mconfig\u001b[0m\u001b[0;34m,\u001b[0m \u001b[0;34m\"auto_map\"\u001b[0m\u001b[0;34m)\u001b[0m \u001b[0;32mand\u001b[0m \u001b[0mcls\u001b[0m\u001b[0;34m.\u001b[0m\u001b[0m__name__\u001b[0m \u001b[0;32min\u001b[0m \u001b[0mconfig\u001b[0m\u001b[0;34m.\u001b[0m\u001b[0mauto_map\u001b[0m\u001b[0;34m:\u001b[0m\u001b[0;34m\u001b[0m\u001b[0;34m\u001b[0m\u001b[0m\n",
            "\u001b[0;32m/usr/local/lib/python3.7/dist-packages/transformers/models/auto/configuration_auto.py\u001b[0m in \u001b[0;36mfrom_pretrained\u001b[0;34m(cls, pretrained_model_name_or_path, **kwargs)\u001b[0m\n\u001b[1;32m    650\u001b[0m         \u001b[0mkwargs\u001b[0m\u001b[0;34m[\u001b[0m\u001b[0;34m\"name_or_path\"\u001b[0m\u001b[0;34m]\u001b[0m \u001b[0;34m=\u001b[0m \u001b[0mpretrained_model_name_or_path\u001b[0m\u001b[0;34m\u001b[0m\u001b[0;34m\u001b[0m\u001b[0m\n\u001b[1;32m    651\u001b[0m         \u001b[0mtrust_remote_code\u001b[0m \u001b[0;34m=\u001b[0m \u001b[0mkwargs\u001b[0m\u001b[0;34m.\u001b[0m\u001b[0mpop\u001b[0m\u001b[0;34m(\u001b[0m\u001b[0;34m\"trust_remote_code\"\u001b[0m\u001b[0;34m,\u001b[0m \u001b[0;32mFalse\u001b[0m\u001b[0;34m)\u001b[0m\u001b[0;34m\u001b[0m\u001b[0;34m\u001b[0m\u001b[0m\n\u001b[0;32m--> 652\u001b[0;31m         \u001b[0mconfig_dict\u001b[0m\u001b[0;34m,\u001b[0m \u001b[0m_\u001b[0m \u001b[0;34m=\u001b[0m \u001b[0mPretrainedConfig\u001b[0m\u001b[0;34m.\u001b[0m\u001b[0mget_config_dict\u001b[0m\u001b[0;34m(\u001b[0m\u001b[0mpretrained_model_name_or_path\u001b[0m\u001b[0;34m,\u001b[0m \u001b[0;34m**\u001b[0m\u001b[0mkwargs\u001b[0m\u001b[0;34m)\u001b[0m\u001b[0;34m\u001b[0m\u001b[0;34m\u001b[0m\u001b[0m\n\u001b[0m\u001b[1;32m    653\u001b[0m         \u001b[0;32mif\u001b[0m \u001b[0;34m\"auto_map\"\u001b[0m \u001b[0;32min\u001b[0m \u001b[0mconfig_dict\u001b[0m \u001b[0;32mand\u001b[0m \u001b[0;34m\"AutoConfig\"\u001b[0m \u001b[0;32min\u001b[0m \u001b[0mconfig_dict\u001b[0m\u001b[0;34m[\u001b[0m\u001b[0;34m\"auto_map\"\u001b[0m\u001b[0;34m]\u001b[0m\u001b[0;34m:\u001b[0m\u001b[0;34m\u001b[0m\u001b[0;34m\u001b[0m\u001b[0m\n\u001b[1;32m    654\u001b[0m             \u001b[0;32mif\u001b[0m \u001b[0;32mnot\u001b[0m \u001b[0mtrust_remote_code\u001b[0m\u001b[0;34m:\u001b[0m\u001b[0;34m\u001b[0m\u001b[0;34m\u001b[0m\u001b[0m\n",
            "\u001b[0;32m/usr/local/lib/python3.7/dist-packages/transformers/configuration_utils.py\u001b[0m in \u001b[0;36mget_config_dict\u001b[0;34m(cls, pretrained_model_name_or_path, **kwargs)\u001b[0m\n\u001b[1;32m    546\u001b[0m         \u001b[0moriginal_kwargs\u001b[0m \u001b[0;34m=\u001b[0m \u001b[0mcopy\u001b[0m\u001b[0;34m.\u001b[0m\u001b[0mdeepcopy\u001b[0m\u001b[0;34m(\u001b[0m\u001b[0mkwargs\u001b[0m\u001b[0;34m)\u001b[0m\u001b[0;34m\u001b[0m\u001b[0;34m\u001b[0m\u001b[0m\n\u001b[1;32m    547\u001b[0m         \u001b[0;31m# Get config dict associated with the base config file\u001b[0m\u001b[0;34m\u001b[0m\u001b[0;34m\u001b[0m\u001b[0;34m\u001b[0m\u001b[0m\n\u001b[0;32m--> 548\u001b[0;31m         \u001b[0mconfig_dict\u001b[0m\u001b[0;34m,\u001b[0m \u001b[0mkwargs\u001b[0m \u001b[0;34m=\u001b[0m \u001b[0mcls\u001b[0m\u001b[0;34m.\u001b[0m\u001b[0m_get_config_dict\u001b[0m\u001b[0;34m(\u001b[0m\u001b[0mpretrained_model_name_or_path\u001b[0m\u001b[0;34m,\u001b[0m \u001b[0;34m**\u001b[0m\u001b[0mkwargs\u001b[0m\u001b[0;34m)\u001b[0m\u001b[0;34m\u001b[0m\u001b[0;34m\u001b[0m\u001b[0m\n\u001b[0m\u001b[1;32m    549\u001b[0m \u001b[0;34m\u001b[0m\u001b[0m\n\u001b[1;32m    550\u001b[0m         \u001b[0;31m# That config file may point us toward another config file to use.\u001b[0m\u001b[0;34m\u001b[0m\u001b[0;34m\u001b[0m\u001b[0;34m\u001b[0m\u001b[0m\n",
            "\u001b[0;32m/usr/local/lib/python3.7/dist-packages/transformers/configuration_utils.py\u001b[0m in \u001b[0;36m_get_config_dict\u001b[0;34m(cls, pretrained_model_name_or_path, **kwargs)\u001b[0m\n\u001b[1;32m    635\u001b[0m         \u001b[0;32mexcept\u001b[0m \u001b[0mEnvironmentError\u001b[0m\u001b[0;34m:\u001b[0m\u001b[0;34m\u001b[0m\u001b[0;34m\u001b[0m\u001b[0m\n\u001b[1;32m    636\u001b[0m             raise EnvironmentError(\n\u001b[0;32m--> 637\u001b[0;31m                 \u001b[0;34mf\"Can't load config for '{pretrained_model_name_or_path}'. If you were trying to load it from \"\u001b[0m\u001b[0;34m\u001b[0m\u001b[0;34m\u001b[0m\u001b[0m\n\u001b[0m\u001b[1;32m    638\u001b[0m                 \u001b[0;34m\"'https://huggingface.co/models', make sure you don't have a local directory with the same name. \"\u001b[0m\u001b[0;34m\u001b[0m\u001b[0;34m\u001b[0m\u001b[0m\n\u001b[1;32m    639\u001b[0m                 \u001b[0;34mf\"Otherwise, make sure '{pretrained_model_name_or_path}' is the correct path to a directory \"\u001b[0m\u001b[0;34m\u001b[0m\u001b[0;34m\u001b[0m\u001b[0m\n",
            "\u001b[0;31mOSError\u001b[0m: Can't load config for '/content/drive/MyDrive/Translated/Model and Weight/latest_model'. If you were trying to load it from 'https://huggingface.co/models', make sure you don't have a local directory with the same name. Otherwise, make sure '/content/drive/MyDrive/Translated/Model and Weight/latest_model' is the correct path to a directory containing a config.json file"
          ]
        }
      ]
    },
    {
      "cell_type": "code",
      "execution_count": null,
      "metadata": {
        "id": "km_wAiRrrLu0"
      },
      "outputs": [],
      "source": [
        "# After this Code and below dont know if it necessary or not\n",
        "import collections\n",
        "\n",
        "examples = datasets[\"validation\"]\n",
        "features = validation_features\n",
        "\n",
        "example_id_to_index = {k: i for i, k in enumerate(examples[\"id\"])}\n",
        "features_per_example = collections.defaultdict(list)\n",
        "for i, feature in enumerate(features):\n",
        "    features_per_example[example_id_to_index[feature[\"example_id\"]]].append(i)"
      ]
    },
    {
      "cell_type": "code",
      "source": [
        "from tqdm.auto import tqdm\n",
        "\n",
        "\n",
        "def postprocess_qa_predictions(\n",
        "    examples,\n",
        "    features,\n",
        "    all_start_logits,\n",
        "    all_end_logits,\n",
        "    n_best_size=20,\n",
        "    max_answer_length=30,\n",
        "):\n",
        "    # Build a map example to its corresponding features.\n",
        "    example_id_to_index = {k: i for i, k in enumerate(examples[\"id\"])}\n",
        "    features_per_example = collections.defaultdict(list)\n",
        "    for i, feature in enumerate(features):\n",
        "        features_per_example[example_id_to_index[feature[\"example_id\"]]].append(i)\n",
        "\n",
        "    # The dictionaries we have to fill.\n",
        "    predictions = collections.OrderedDict()\n",
        "\n",
        "    # Logging.\n",
        "    print(\n",
        "        f\"Post-processing {len(examples)} example predictions split into {len(features)} features.\"\n",
        "    )\n",
        "\n",
        "    # Let's loop over all the examples!\n",
        "    for example_index, example in enumerate(tqdm(examples)):\n",
        "        # Those are the indices of the features associated to the current example.\n",
        "        feature_indices = features_per_example[example_index]\n",
        "\n",
        "        min_null_score = None  # Only used if squad_v2 is True.\n",
        "        valid_answers = []\n",
        "\n",
        "        context = example[\"context\"]\n",
        "        # Looping through all the features associated to the current example.\n",
        "        for feature_index in feature_indices:\n",
        "            # We grab the predictions of the model for this feature.\n",
        "            start_logits = all_start_logits[feature_index]\n",
        "            end_logits = all_end_logits[feature_index]\n",
        "            # This is what will allow us to map some the positions in our logits to span of texts in the original\n",
        "            # context.\n",
        "            offset_mapping = features[feature_index][\"offset_mapping\"]\n",
        "\n",
        "            # Update minimum null prediction.\n",
        "            cls_index = features[feature_index][\"input_ids\"].index(\n",
        "                tokenizer.cls_token_id\n",
        "            )\n",
        "            feature_null_score = start_logits[cls_index] + end_logits[cls_index]\n",
        "            if min_null_score is None or min_null_score < feature_null_score:\n",
        "                min_null_score = feature_null_score\n",
        "\n",
        "            # Go through all possibilities for the `n_best_size` greater start and end logits.\n",
        "            start_indexes = np.argsort(start_logits)[\n",
        "                -1 : -n_best_size - 1 : -1\n",
        "            ].tolist()\n",
        "            end_indexes = np.argsort(end_logits)[-1 : -n_best_size - 1 : -1].tolist()\n",
        "            for start_index in start_indexes:\n",
        "                for end_index in end_indexes:\n",
        "                    # Don't consider out-of-scope answers, either because the indices are out of bounds or correspond\n",
        "                    # to part of the input_ids that are not in the context.\n",
        "                    if (\n",
        "                        start_index >= len(offset_mapping)\n",
        "                        or end_index >= len(offset_mapping)\n",
        "                        or offset_mapping[start_index] is None\n",
        "                        or offset_mapping[end_index] is None\n",
        "                    ):\n",
        "                        continue\n",
        "                    # Don't consider answers with a length that is either < 0 or > max_answer_length.\n",
        "                    if (\n",
        "                        end_index < start_index\n",
        "                        or end_index - start_index + 1 > max_answer_length\n",
        "                    ):\n",
        "                        continue\n",
        "\n",
        "                    start_char = offset_mapping[start_index][0]\n",
        "                    end_char = offset_mapping[end_index][1]\n",
        "                    valid_answers.append(\n",
        "                        {\n",
        "                            \"score\": start_logits[start_index] + end_logits[end_index],\n",
        "                            \"text\": context[start_char:end_char],\n",
        "                        }\n",
        "                    )\n",
        "\n",
        "        if len(valid_answers) > 0:\n",
        "            best_answer = sorted(valid_answers, key=lambda x: x[\"score\"], reverse=True)[\n",
        "                0\n",
        "            ]\n",
        "        else:\n",
        "            # In the very rare edge case we have not a single non-null prediction, we create a fake prediction to avoid\n",
        "            # failure.\n",
        "            best_answer = {\"text\": \"\", \"score\": 0.0}\n",
        "\n",
        "        # Let's pick our final answer: the best one or the null answer (only for squad_v2)\n",
        "        if not squad_v2:\n",
        "            predictions[example[\"id\"]] = best_answer[\"text\"]\n",
        "        else:\n",
        "            answer = (\n",
        "                best_answer[\"text\"] if best_answer[\"score\"] > min_null_score else \"\"\n",
        "            )\n",
        "            predictions[example[\"id\"]] = answer\n",
        "\n",
        "    return predictions"
      ],
      "metadata": {
        "id": "AlieR77F-bOo"
      },
      "execution_count": null,
      "outputs": []
    },
    {
      "cell_type": "code",
      "source": [
        "final_predictions = postprocess_qa_predictions(\n",
        "    datasets[\"validation\"],\n",
        "    validation_features,\n",
        "    raw_predictions[\"start_logits\"],\n",
        "    raw_predictions[\"end_logits\"],\n",
        ")"
      ],
      "metadata": {
        "id": "E-brw6Au-eoY"
      },
      "execution_count": null,
      "outputs": []
    }
  ],
  "metadata": {
    "interpreter": {
      "hash": "49ab837104032442cb3286ae94c136228588f7f161e08994a65f33f02a880070"
    },
    "kernelspec": {
      "display_name": "Python 3.9.12 ('tf-gpu')",
      "language": "python",
      "name": "python3"
    },
    "language_info": {
      "codemirror_mode": {
        "name": "ipython",
        "version": 3
      },
      "file_extension": ".py",
      "mimetype": "text/x-python",
      "name": "python",
      "nbconvert_exporter": "python",
      "pygments_lexer": "ipython3",
      "version": "3.9.12"
    },
    "orig_nbformat": 4,
    "colab": {
      "name": "bert_squad-id_transfer_learn.ipynb",
      "provenance": [],
      "machine_shape": "hm",
      "include_colab_link": true
    },
    "accelerator": "GPU",
    "widgets": {
      "application/vnd.jupyter.widget-state+json": {
        "4bfd5cd9587a4de98e0557a565964d16": {
          "model_module": "@jupyter-widgets/controls",
          "model_name": "HBoxModel",
          "model_module_version": "1.5.0",
          "state": {
            "_dom_classes": [],
            "_model_module": "@jupyter-widgets/controls",
            "_model_module_version": "1.5.0",
            "_model_name": "HBoxModel",
            "_view_count": null,
            "_view_module": "@jupyter-widgets/controls",
            "_view_module_version": "1.5.0",
            "_view_name": "HBoxView",
            "box_style": "",
            "children": [
              "IPY_MODEL_d3e772e6801e489da53c82a1f8d4aeb3",
              "IPY_MODEL_3cf2065e4e094226abdc7dbb7803c5f0",
              "IPY_MODEL_2a58a75be85447fab5ada44baf662119"
            ],
            "layout": "IPY_MODEL_b57806275ca04c51b92edb5109ea957d"
          }
        },
        "d3e772e6801e489da53c82a1f8d4aeb3": {
          "model_module": "@jupyter-widgets/controls",
          "model_name": "HTMLModel",
          "model_module_version": "1.5.0",
          "state": {
            "_dom_classes": [],
            "_model_module": "@jupyter-widgets/controls",
            "_model_module_version": "1.5.0",
            "_model_name": "HTMLModel",
            "_view_count": null,
            "_view_module": "@jupyter-widgets/controls",
            "_view_module_version": "1.5.0",
            "_view_name": "HTMLView",
            "description": "",
            "description_tooltip": null,
            "layout": "IPY_MODEL_670bcb4577da4c7f8b052fa5fcc0779c",
            "placeholder": "​",
            "style": "IPY_MODEL_13d2762f4f134e959d35b1f167955bd9",
            "value": "100%"
          }
        },
        "3cf2065e4e094226abdc7dbb7803c5f0": {
          "model_module": "@jupyter-widgets/controls",
          "model_name": "FloatProgressModel",
          "model_module_version": "1.5.0",
          "state": {
            "_dom_classes": [],
            "_model_module": "@jupyter-widgets/controls",
            "_model_module_version": "1.5.0",
            "_model_name": "FloatProgressModel",
            "_view_count": null,
            "_view_module": "@jupyter-widgets/controls",
            "_view_module_version": "1.5.0",
            "_view_name": "ProgressView",
            "bar_style": "success",
            "description": "",
            "description_tooltip": null,
            "layout": "IPY_MODEL_3585c4222a03495aaa3a78634ea82892",
            "max": 2,
            "min": 0,
            "orientation": "horizontal",
            "style": "IPY_MODEL_c8c1580031a849f2ba1b2389cd459646",
            "value": 2
          }
        },
        "2a58a75be85447fab5ada44baf662119": {
          "model_module": "@jupyter-widgets/controls",
          "model_name": "HTMLModel",
          "model_module_version": "1.5.0",
          "state": {
            "_dom_classes": [],
            "_model_module": "@jupyter-widgets/controls",
            "_model_module_version": "1.5.0",
            "_model_name": "HTMLModel",
            "_view_count": null,
            "_view_module": "@jupyter-widgets/controls",
            "_view_module_version": "1.5.0",
            "_view_name": "HTMLView",
            "description": "",
            "description_tooltip": null,
            "layout": "IPY_MODEL_c5db5bee5c5a4fe38d586e53789ef251",
            "placeholder": "​",
            "style": "IPY_MODEL_475910d3342c4069b15fbf6df9d12f70",
            "value": " 2/2 [00:00&lt;00:00, 64.45it/s]"
          }
        },
        "b57806275ca04c51b92edb5109ea957d": {
          "model_module": "@jupyter-widgets/base",
          "model_name": "LayoutModel",
          "model_module_version": "1.2.0",
          "state": {
            "_model_module": "@jupyter-widgets/base",
            "_model_module_version": "1.2.0",
            "_model_name": "LayoutModel",
            "_view_count": null,
            "_view_module": "@jupyter-widgets/base",
            "_view_module_version": "1.2.0",
            "_view_name": "LayoutView",
            "align_content": null,
            "align_items": null,
            "align_self": null,
            "border": null,
            "bottom": null,
            "display": null,
            "flex": null,
            "flex_flow": null,
            "grid_area": null,
            "grid_auto_columns": null,
            "grid_auto_flow": null,
            "grid_auto_rows": null,
            "grid_column": null,
            "grid_gap": null,
            "grid_row": null,
            "grid_template_areas": null,
            "grid_template_columns": null,
            "grid_template_rows": null,
            "height": null,
            "justify_content": null,
            "justify_items": null,
            "left": null,
            "margin": null,
            "max_height": null,
            "max_width": null,
            "min_height": null,
            "min_width": null,
            "object_fit": null,
            "object_position": null,
            "order": null,
            "overflow": null,
            "overflow_x": null,
            "overflow_y": null,
            "padding": null,
            "right": null,
            "top": null,
            "visibility": null,
            "width": null
          }
        },
        "670bcb4577da4c7f8b052fa5fcc0779c": {
          "model_module": "@jupyter-widgets/base",
          "model_name": "LayoutModel",
          "model_module_version": "1.2.0",
          "state": {
            "_model_module": "@jupyter-widgets/base",
            "_model_module_version": "1.2.0",
            "_model_name": "LayoutModel",
            "_view_count": null,
            "_view_module": "@jupyter-widgets/base",
            "_view_module_version": "1.2.0",
            "_view_name": "LayoutView",
            "align_content": null,
            "align_items": null,
            "align_self": null,
            "border": null,
            "bottom": null,
            "display": null,
            "flex": null,
            "flex_flow": null,
            "grid_area": null,
            "grid_auto_columns": null,
            "grid_auto_flow": null,
            "grid_auto_rows": null,
            "grid_column": null,
            "grid_gap": null,
            "grid_row": null,
            "grid_template_areas": null,
            "grid_template_columns": null,
            "grid_template_rows": null,
            "height": null,
            "justify_content": null,
            "justify_items": null,
            "left": null,
            "margin": null,
            "max_height": null,
            "max_width": null,
            "min_height": null,
            "min_width": null,
            "object_fit": null,
            "object_position": null,
            "order": null,
            "overflow": null,
            "overflow_x": null,
            "overflow_y": null,
            "padding": null,
            "right": null,
            "top": null,
            "visibility": null,
            "width": null
          }
        },
        "13d2762f4f134e959d35b1f167955bd9": {
          "model_module": "@jupyter-widgets/controls",
          "model_name": "DescriptionStyleModel",
          "model_module_version": "1.5.0",
          "state": {
            "_model_module": "@jupyter-widgets/controls",
            "_model_module_version": "1.5.0",
            "_model_name": "DescriptionStyleModel",
            "_view_count": null,
            "_view_module": "@jupyter-widgets/base",
            "_view_module_version": "1.2.0",
            "_view_name": "StyleView",
            "description_width": ""
          }
        },
        "3585c4222a03495aaa3a78634ea82892": {
          "model_module": "@jupyter-widgets/base",
          "model_name": "LayoutModel",
          "model_module_version": "1.2.0",
          "state": {
            "_model_module": "@jupyter-widgets/base",
            "_model_module_version": "1.2.0",
            "_model_name": "LayoutModel",
            "_view_count": null,
            "_view_module": "@jupyter-widgets/base",
            "_view_module_version": "1.2.0",
            "_view_name": "LayoutView",
            "align_content": null,
            "align_items": null,
            "align_self": null,
            "border": null,
            "bottom": null,
            "display": null,
            "flex": null,
            "flex_flow": null,
            "grid_area": null,
            "grid_auto_columns": null,
            "grid_auto_flow": null,
            "grid_auto_rows": null,
            "grid_column": null,
            "grid_gap": null,
            "grid_row": null,
            "grid_template_areas": null,
            "grid_template_columns": null,
            "grid_template_rows": null,
            "height": null,
            "justify_content": null,
            "justify_items": null,
            "left": null,
            "margin": null,
            "max_height": null,
            "max_width": null,
            "min_height": null,
            "min_width": null,
            "object_fit": null,
            "object_position": null,
            "order": null,
            "overflow": null,
            "overflow_x": null,
            "overflow_y": null,
            "padding": null,
            "right": null,
            "top": null,
            "visibility": null,
            "width": null
          }
        },
        "c8c1580031a849f2ba1b2389cd459646": {
          "model_module": "@jupyter-widgets/controls",
          "model_name": "ProgressStyleModel",
          "model_module_version": "1.5.0",
          "state": {
            "_model_module": "@jupyter-widgets/controls",
            "_model_module_version": "1.5.0",
            "_model_name": "ProgressStyleModel",
            "_view_count": null,
            "_view_module": "@jupyter-widgets/base",
            "_view_module_version": "1.2.0",
            "_view_name": "StyleView",
            "bar_color": null,
            "description_width": ""
          }
        },
        "c5db5bee5c5a4fe38d586e53789ef251": {
          "model_module": "@jupyter-widgets/base",
          "model_name": "LayoutModel",
          "model_module_version": "1.2.0",
          "state": {
            "_model_module": "@jupyter-widgets/base",
            "_model_module_version": "1.2.0",
            "_model_name": "LayoutModel",
            "_view_count": null,
            "_view_module": "@jupyter-widgets/base",
            "_view_module_version": "1.2.0",
            "_view_name": "LayoutView",
            "align_content": null,
            "align_items": null,
            "align_self": null,
            "border": null,
            "bottom": null,
            "display": null,
            "flex": null,
            "flex_flow": null,
            "grid_area": null,
            "grid_auto_columns": null,
            "grid_auto_flow": null,
            "grid_auto_rows": null,
            "grid_column": null,
            "grid_gap": null,
            "grid_row": null,
            "grid_template_areas": null,
            "grid_template_columns": null,
            "grid_template_rows": null,
            "height": null,
            "justify_content": null,
            "justify_items": null,
            "left": null,
            "margin": null,
            "max_height": null,
            "max_width": null,
            "min_height": null,
            "min_width": null,
            "object_fit": null,
            "object_position": null,
            "order": null,
            "overflow": null,
            "overflow_x": null,
            "overflow_y": null,
            "padding": null,
            "right": null,
            "top": null,
            "visibility": null,
            "width": null
          }
        },
        "475910d3342c4069b15fbf6df9d12f70": {
          "model_module": "@jupyter-widgets/controls",
          "model_name": "DescriptionStyleModel",
          "model_module_version": "1.5.0",
          "state": {
            "_model_module": "@jupyter-widgets/controls",
            "_model_module_version": "1.5.0",
            "_model_name": "DescriptionStyleModel",
            "_view_count": null,
            "_view_module": "@jupyter-widgets/base",
            "_view_module_version": "1.2.0",
            "_view_name": "StyleView",
            "description_width": ""
          }
        },
        "c981eefd241e4b63a16827a101a50e47": {
          "model_module": "@jupyter-widgets/controls",
          "model_name": "HBoxModel",
          "model_module_version": "1.5.0",
          "state": {
            "_dom_classes": [],
            "_model_module": "@jupyter-widgets/controls",
            "_model_module_version": "1.5.0",
            "_model_name": "HBoxModel",
            "_view_count": null,
            "_view_module": "@jupyter-widgets/controls",
            "_view_module_version": "1.5.0",
            "_view_name": "HBoxView",
            "box_style": "",
            "children": [
              "IPY_MODEL_c991c47be9c646828d4ba8d122d33ac3",
              "IPY_MODEL_b070b4bf498b42e7a977cfe6711398c7",
              "IPY_MODEL_9e0d5362b91e4e2791f6db8ee869747e"
            ],
            "layout": "IPY_MODEL_c6959cd9ad4b4e6ea9f954f955f8dafa"
          }
        },
        "c991c47be9c646828d4ba8d122d33ac3": {
          "model_module": "@jupyter-widgets/controls",
          "model_name": "HTMLModel",
          "model_module_version": "1.5.0",
          "state": {
            "_dom_classes": [],
            "_model_module": "@jupyter-widgets/controls",
            "_model_module_version": "1.5.0",
            "_model_name": "HTMLModel",
            "_view_count": null,
            "_view_module": "@jupyter-widgets/controls",
            "_view_module_version": "1.5.0",
            "_view_name": "HTMLView",
            "description": "",
            "description_tooltip": null,
            "layout": "IPY_MODEL_4a066471223d466688e07779aee29c2e",
            "placeholder": "​",
            "style": "IPY_MODEL_f35dcbf4eba5487594ee01fda89dd5dd",
            "value": "100%"
          }
        },
        "b070b4bf498b42e7a977cfe6711398c7": {
          "model_module": "@jupyter-widgets/controls",
          "model_name": "FloatProgressModel",
          "model_module_version": "1.5.0",
          "state": {
            "_dom_classes": [],
            "_model_module": "@jupyter-widgets/controls",
            "_model_module_version": "1.5.0",
            "_model_name": "FloatProgressModel",
            "_view_count": null,
            "_view_module": "@jupyter-widgets/controls",
            "_view_module_version": "1.5.0",
            "_view_name": "ProgressView",
            "bar_style": "success",
            "description": "",
            "description_tooltip": null,
            "layout": "IPY_MODEL_96a436ed46f44de6b6902bb043516e75",
            "max": 115,
            "min": 0,
            "orientation": "horizontal",
            "style": "IPY_MODEL_e303cb9810c64c378caf14526dd353a1",
            "value": 115
          }
        },
        "9e0d5362b91e4e2791f6db8ee869747e": {
          "model_module": "@jupyter-widgets/controls",
          "model_name": "HTMLModel",
          "model_module_version": "1.5.0",
          "state": {
            "_dom_classes": [],
            "_model_module": "@jupyter-widgets/controls",
            "_model_module_version": "1.5.0",
            "_model_name": "HTMLModel",
            "_view_count": null,
            "_view_module": "@jupyter-widgets/controls",
            "_view_module_version": "1.5.0",
            "_view_name": "HTMLView",
            "description": "",
            "description_tooltip": null,
            "layout": "IPY_MODEL_02da8b52d00a4186b3a8ed896f1ea58d",
            "placeholder": "​",
            "style": "IPY_MODEL_096417f0c90546bd93e154e9ffbe9d8c",
            "value": " 115/115 [00:53&lt;00:00,  2.16ba/s]"
          }
        },
        "c6959cd9ad4b4e6ea9f954f955f8dafa": {
          "model_module": "@jupyter-widgets/base",
          "model_name": "LayoutModel",
          "model_module_version": "1.2.0",
          "state": {
            "_model_module": "@jupyter-widgets/base",
            "_model_module_version": "1.2.0",
            "_model_name": "LayoutModel",
            "_view_count": null,
            "_view_module": "@jupyter-widgets/base",
            "_view_module_version": "1.2.0",
            "_view_name": "LayoutView",
            "align_content": null,
            "align_items": null,
            "align_self": null,
            "border": null,
            "bottom": null,
            "display": null,
            "flex": null,
            "flex_flow": null,
            "grid_area": null,
            "grid_auto_columns": null,
            "grid_auto_flow": null,
            "grid_auto_rows": null,
            "grid_column": null,
            "grid_gap": null,
            "grid_row": null,
            "grid_template_areas": null,
            "grid_template_columns": null,
            "grid_template_rows": null,
            "height": null,
            "justify_content": null,
            "justify_items": null,
            "left": null,
            "margin": null,
            "max_height": null,
            "max_width": null,
            "min_height": null,
            "min_width": null,
            "object_fit": null,
            "object_position": null,
            "order": null,
            "overflow": null,
            "overflow_x": null,
            "overflow_y": null,
            "padding": null,
            "right": null,
            "top": null,
            "visibility": null,
            "width": null
          }
        },
        "4a066471223d466688e07779aee29c2e": {
          "model_module": "@jupyter-widgets/base",
          "model_name": "LayoutModel",
          "model_module_version": "1.2.0",
          "state": {
            "_model_module": "@jupyter-widgets/base",
            "_model_module_version": "1.2.0",
            "_model_name": "LayoutModel",
            "_view_count": null,
            "_view_module": "@jupyter-widgets/base",
            "_view_module_version": "1.2.0",
            "_view_name": "LayoutView",
            "align_content": null,
            "align_items": null,
            "align_self": null,
            "border": null,
            "bottom": null,
            "display": null,
            "flex": null,
            "flex_flow": null,
            "grid_area": null,
            "grid_auto_columns": null,
            "grid_auto_flow": null,
            "grid_auto_rows": null,
            "grid_column": null,
            "grid_gap": null,
            "grid_row": null,
            "grid_template_areas": null,
            "grid_template_columns": null,
            "grid_template_rows": null,
            "height": null,
            "justify_content": null,
            "justify_items": null,
            "left": null,
            "margin": null,
            "max_height": null,
            "max_width": null,
            "min_height": null,
            "min_width": null,
            "object_fit": null,
            "object_position": null,
            "order": null,
            "overflow": null,
            "overflow_x": null,
            "overflow_y": null,
            "padding": null,
            "right": null,
            "top": null,
            "visibility": null,
            "width": null
          }
        },
        "f35dcbf4eba5487594ee01fda89dd5dd": {
          "model_module": "@jupyter-widgets/controls",
          "model_name": "DescriptionStyleModel",
          "model_module_version": "1.5.0",
          "state": {
            "_model_module": "@jupyter-widgets/controls",
            "_model_module_version": "1.5.0",
            "_model_name": "DescriptionStyleModel",
            "_view_count": null,
            "_view_module": "@jupyter-widgets/base",
            "_view_module_version": "1.2.0",
            "_view_name": "StyleView",
            "description_width": ""
          }
        },
        "96a436ed46f44de6b6902bb043516e75": {
          "model_module": "@jupyter-widgets/base",
          "model_name": "LayoutModel",
          "model_module_version": "1.2.0",
          "state": {
            "_model_module": "@jupyter-widgets/base",
            "_model_module_version": "1.2.0",
            "_model_name": "LayoutModel",
            "_view_count": null,
            "_view_module": "@jupyter-widgets/base",
            "_view_module_version": "1.2.0",
            "_view_name": "LayoutView",
            "align_content": null,
            "align_items": null,
            "align_self": null,
            "border": null,
            "bottom": null,
            "display": null,
            "flex": null,
            "flex_flow": null,
            "grid_area": null,
            "grid_auto_columns": null,
            "grid_auto_flow": null,
            "grid_auto_rows": null,
            "grid_column": null,
            "grid_gap": null,
            "grid_row": null,
            "grid_template_areas": null,
            "grid_template_columns": null,
            "grid_template_rows": null,
            "height": null,
            "justify_content": null,
            "justify_items": null,
            "left": null,
            "margin": null,
            "max_height": null,
            "max_width": null,
            "min_height": null,
            "min_width": null,
            "object_fit": null,
            "object_position": null,
            "order": null,
            "overflow": null,
            "overflow_x": null,
            "overflow_y": null,
            "padding": null,
            "right": null,
            "top": null,
            "visibility": null,
            "width": null
          }
        },
        "e303cb9810c64c378caf14526dd353a1": {
          "model_module": "@jupyter-widgets/controls",
          "model_name": "ProgressStyleModel",
          "model_module_version": "1.5.0",
          "state": {
            "_model_module": "@jupyter-widgets/controls",
            "_model_module_version": "1.5.0",
            "_model_name": "ProgressStyleModel",
            "_view_count": null,
            "_view_module": "@jupyter-widgets/base",
            "_view_module_version": "1.2.0",
            "_view_name": "StyleView",
            "bar_color": null,
            "description_width": ""
          }
        },
        "02da8b52d00a4186b3a8ed896f1ea58d": {
          "model_module": "@jupyter-widgets/base",
          "model_name": "LayoutModel",
          "model_module_version": "1.2.0",
          "state": {
            "_model_module": "@jupyter-widgets/base",
            "_model_module_version": "1.2.0",
            "_model_name": "LayoutModel",
            "_view_count": null,
            "_view_module": "@jupyter-widgets/base",
            "_view_module_version": "1.2.0",
            "_view_name": "LayoutView",
            "align_content": null,
            "align_items": null,
            "align_self": null,
            "border": null,
            "bottom": null,
            "display": null,
            "flex": null,
            "flex_flow": null,
            "grid_area": null,
            "grid_auto_columns": null,
            "grid_auto_flow": null,
            "grid_auto_rows": null,
            "grid_column": null,
            "grid_gap": null,
            "grid_row": null,
            "grid_template_areas": null,
            "grid_template_columns": null,
            "grid_template_rows": null,
            "height": null,
            "justify_content": null,
            "justify_items": null,
            "left": null,
            "margin": null,
            "max_height": null,
            "max_width": null,
            "min_height": null,
            "min_width": null,
            "object_fit": null,
            "object_position": null,
            "order": null,
            "overflow": null,
            "overflow_x": null,
            "overflow_y": null,
            "padding": null,
            "right": null,
            "top": null,
            "visibility": null,
            "width": null
          }
        },
        "096417f0c90546bd93e154e9ffbe9d8c": {
          "model_module": "@jupyter-widgets/controls",
          "model_name": "DescriptionStyleModel",
          "model_module_version": "1.5.0",
          "state": {
            "_model_module": "@jupyter-widgets/controls",
            "_model_module_version": "1.5.0",
            "_model_name": "DescriptionStyleModel",
            "_view_count": null,
            "_view_module": "@jupyter-widgets/base",
            "_view_module_version": "1.2.0",
            "_view_name": "StyleView",
            "description_width": ""
          }
        },
        "223dca5588654ab2afba04cc221d55a4": {
          "model_module": "@jupyter-widgets/controls",
          "model_name": "HBoxModel",
          "model_module_version": "1.5.0",
          "state": {
            "_dom_classes": [],
            "_model_module": "@jupyter-widgets/controls",
            "_model_module_version": "1.5.0",
            "_model_name": "HBoxModel",
            "_view_count": null,
            "_view_module": "@jupyter-widgets/controls",
            "_view_module_version": "1.5.0",
            "_view_name": "HBoxView",
            "box_style": "",
            "children": [
              "IPY_MODEL_254c4202fac44abda38d788d40e8a701",
              "IPY_MODEL_d47cf3fb811a480c911288d17c210fa3",
              "IPY_MODEL_fec0a135041a4c9b915eac54941754bb"
            ],
            "layout": "IPY_MODEL_bd27827d574346869a87eb865f68e660"
          }
        },
        "254c4202fac44abda38d788d40e8a701": {
          "model_module": "@jupyter-widgets/controls",
          "model_name": "HTMLModel",
          "model_module_version": "1.5.0",
          "state": {
            "_dom_classes": [],
            "_model_module": "@jupyter-widgets/controls",
            "_model_module_version": "1.5.0",
            "_model_name": "HTMLModel",
            "_view_count": null,
            "_view_module": "@jupyter-widgets/controls",
            "_view_module_version": "1.5.0",
            "_view_name": "HTMLView",
            "description": "",
            "description_tooltip": null,
            "layout": "IPY_MODEL_98f73d84cbd54b80beb1b23b44cd0795",
            "placeholder": "​",
            "style": "IPY_MODEL_4cd46b3bfa3d447b86dc91e0a0eac7c3",
            "value": "100%"
          }
        },
        "d47cf3fb811a480c911288d17c210fa3": {
          "model_module": "@jupyter-widgets/controls",
          "model_name": "FloatProgressModel",
          "model_module_version": "1.5.0",
          "state": {
            "_dom_classes": [],
            "_model_module": "@jupyter-widgets/controls",
            "_model_module_version": "1.5.0",
            "_model_name": "FloatProgressModel",
            "_view_count": null,
            "_view_module": "@jupyter-widgets/controls",
            "_view_module_version": "1.5.0",
            "_view_name": "ProgressView",
            "bar_style": "success",
            "description": "",
            "description_tooltip": null,
            "layout": "IPY_MODEL_0a1b2cd21afa4e95818f7e144cf8476f",
            "max": 12,
            "min": 0,
            "orientation": "horizontal",
            "style": "IPY_MODEL_9afe4d7a743e42aeaeaff11ee02d486d",
            "value": 12
          }
        },
        "fec0a135041a4c9b915eac54941754bb": {
          "model_module": "@jupyter-widgets/controls",
          "model_name": "HTMLModel",
          "model_module_version": "1.5.0",
          "state": {
            "_dom_classes": [],
            "_model_module": "@jupyter-widgets/controls",
            "_model_module_version": "1.5.0",
            "_model_name": "HTMLModel",
            "_view_count": null,
            "_view_module": "@jupyter-widgets/controls",
            "_view_module_version": "1.5.0",
            "_view_name": "HTMLView",
            "description": "",
            "description_tooltip": null,
            "layout": "IPY_MODEL_3ceab55ddd9b483bafd8a3af05625247",
            "placeholder": "​",
            "style": "IPY_MODEL_3d67ad2a841e4a039c90b4b2a1177d23",
            "value": " 12/12 [00:05&lt;00:00,  2.09ba/s]"
          }
        },
        "bd27827d574346869a87eb865f68e660": {
          "model_module": "@jupyter-widgets/base",
          "model_name": "LayoutModel",
          "model_module_version": "1.2.0",
          "state": {
            "_model_module": "@jupyter-widgets/base",
            "_model_module_version": "1.2.0",
            "_model_name": "LayoutModel",
            "_view_count": null,
            "_view_module": "@jupyter-widgets/base",
            "_view_module_version": "1.2.0",
            "_view_name": "LayoutView",
            "align_content": null,
            "align_items": null,
            "align_self": null,
            "border": null,
            "bottom": null,
            "display": null,
            "flex": null,
            "flex_flow": null,
            "grid_area": null,
            "grid_auto_columns": null,
            "grid_auto_flow": null,
            "grid_auto_rows": null,
            "grid_column": null,
            "grid_gap": null,
            "grid_row": null,
            "grid_template_areas": null,
            "grid_template_columns": null,
            "grid_template_rows": null,
            "height": null,
            "justify_content": null,
            "justify_items": null,
            "left": null,
            "margin": null,
            "max_height": null,
            "max_width": null,
            "min_height": null,
            "min_width": null,
            "object_fit": null,
            "object_position": null,
            "order": null,
            "overflow": null,
            "overflow_x": null,
            "overflow_y": null,
            "padding": null,
            "right": null,
            "top": null,
            "visibility": null,
            "width": null
          }
        },
        "98f73d84cbd54b80beb1b23b44cd0795": {
          "model_module": "@jupyter-widgets/base",
          "model_name": "LayoutModel",
          "model_module_version": "1.2.0",
          "state": {
            "_model_module": "@jupyter-widgets/base",
            "_model_module_version": "1.2.0",
            "_model_name": "LayoutModel",
            "_view_count": null,
            "_view_module": "@jupyter-widgets/base",
            "_view_module_version": "1.2.0",
            "_view_name": "LayoutView",
            "align_content": null,
            "align_items": null,
            "align_self": null,
            "border": null,
            "bottom": null,
            "display": null,
            "flex": null,
            "flex_flow": null,
            "grid_area": null,
            "grid_auto_columns": null,
            "grid_auto_flow": null,
            "grid_auto_rows": null,
            "grid_column": null,
            "grid_gap": null,
            "grid_row": null,
            "grid_template_areas": null,
            "grid_template_columns": null,
            "grid_template_rows": null,
            "height": null,
            "justify_content": null,
            "justify_items": null,
            "left": null,
            "margin": null,
            "max_height": null,
            "max_width": null,
            "min_height": null,
            "min_width": null,
            "object_fit": null,
            "object_position": null,
            "order": null,
            "overflow": null,
            "overflow_x": null,
            "overflow_y": null,
            "padding": null,
            "right": null,
            "top": null,
            "visibility": null,
            "width": null
          }
        },
        "4cd46b3bfa3d447b86dc91e0a0eac7c3": {
          "model_module": "@jupyter-widgets/controls",
          "model_name": "DescriptionStyleModel",
          "model_module_version": "1.5.0",
          "state": {
            "_model_module": "@jupyter-widgets/controls",
            "_model_module_version": "1.5.0",
            "_model_name": "DescriptionStyleModel",
            "_view_count": null,
            "_view_module": "@jupyter-widgets/base",
            "_view_module_version": "1.2.0",
            "_view_name": "StyleView",
            "description_width": ""
          }
        },
        "0a1b2cd21afa4e95818f7e144cf8476f": {
          "model_module": "@jupyter-widgets/base",
          "model_name": "LayoutModel",
          "model_module_version": "1.2.0",
          "state": {
            "_model_module": "@jupyter-widgets/base",
            "_model_module_version": "1.2.0",
            "_model_name": "LayoutModel",
            "_view_count": null,
            "_view_module": "@jupyter-widgets/base",
            "_view_module_version": "1.2.0",
            "_view_name": "LayoutView",
            "align_content": null,
            "align_items": null,
            "align_self": null,
            "border": null,
            "bottom": null,
            "display": null,
            "flex": null,
            "flex_flow": null,
            "grid_area": null,
            "grid_auto_columns": null,
            "grid_auto_flow": null,
            "grid_auto_rows": null,
            "grid_column": null,
            "grid_gap": null,
            "grid_row": null,
            "grid_template_areas": null,
            "grid_template_columns": null,
            "grid_template_rows": null,
            "height": null,
            "justify_content": null,
            "justify_items": null,
            "left": null,
            "margin": null,
            "max_height": null,
            "max_width": null,
            "min_height": null,
            "min_width": null,
            "object_fit": null,
            "object_position": null,
            "order": null,
            "overflow": null,
            "overflow_x": null,
            "overflow_y": null,
            "padding": null,
            "right": null,
            "top": null,
            "visibility": null,
            "width": null
          }
        },
        "9afe4d7a743e42aeaeaff11ee02d486d": {
          "model_module": "@jupyter-widgets/controls",
          "model_name": "ProgressStyleModel",
          "model_module_version": "1.5.0",
          "state": {
            "_model_module": "@jupyter-widgets/controls",
            "_model_module_version": "1.5.0",
            "_model_name": "ProgressStyleModel",
            "_view_count": null,
            "_view_module": "@jupyter-widgets/base",
            "_view_module_version": "1.2.0",
            "_view_name": "StyleView",
            "bar_color": null,
            "description_width": ""
          }
        },
        "3ceab55ddd9b483bafd8a3af05625247": {
          "model_module": "@jupyter-widgets/base",
          "model_name": "LayoutModel",
          "model_module_version": "1.2.0",
          "state": {
            "_model_module": "@jupyter-widgets/base",
            "_model_module_version": "1.2.0",
            "_model_name": "LayoutModel",
            "_view_count": null,
            "_view_module": "@jupyter-widgets/base",
            "_view_module_version": "1.2.0",
            "_view_name": "LayoutView",
            "align_content": null,
            "align_items": null,
            "align_self": null,
            "border": null,
            "bottom": null,
            "display": null,
            "flex": null,
            "flex_flow": null,
            "grid_area": null,
            "grid_auto_columns": null,
            "grid_auto_flow": null,
            "grid_auto_rows": null,
            "grid_column": null,
            "grid_gap": null,
            "grid_row": null,
            "grid_template_areas": null,
            "grid_template_columns": null,
            "grid_template_rows": null,
            "height": null,
            "justify_content": null,
            "justify_items": null,
            "left": null,
            "margin": null,
            "max_height": null,
            "max_width": null,
            "min_height": null,
            "min_width": null,
            "object_fit": null,
            "object_position": null,
            "order": null,
            "overflow": null,
            "overflow_x": null,
            "overflow_y": null,
            "padding": null,
            "right": null,
            "top": null,
            "visibility": null,
            "width": null
          }
        },
        "3d67ad2a841e4a039c90b4b2a1177d23": {
          "model_module": "@jupyter-widgets/controls",
          "model_name": "DescriptionStyleModel",
          "model_module_version": "1.5.0",
          "state": {
            "_model_module": "@jupyter-widgets/controls",
            "_model_module_version": "1.5.0",
            "_model_name": "DescriptionStyleModel",
            "_view_count": null,
            "_view_module": "@jupyter-widgets/base",
            "_view_module_version": "1.2.0",
            "_view_name": "StyleView",
            "description_width": ""
          }
        },
        "4cb66c318b554739afa2f7745081892a": {
          "model_module": "@jupyter-widgets/controls",
          "model_name": "VBoxModel",
          "model_module_version": "1.5.0",
          "state": {
            "_dom_classes": [],
            "_model_module": "@jupyter-widgets/controls",
            "_model_module_version": "1.5.0",
            "_model_name": "VBoxModel",
            "_view_count": null,
            "_view_module": "@jupyter-widgets/controls",
            "_view_module_version": "1.5.0",
            "_view_name": "VBoxView",
            "box_style": "",
            "children": [
              "IPY_MODEL_53c952d7d3af4757b8a6815f09ab2496",
              "IPY_MODEL_75df4674d403487b83cefde2d7921b8b",
              "IPY_MODEL_63558075fa154067976104a99041887c",
              "IPY_MODEL_2b9ac832d0bd4e87b090e0ada154cb29",
              "IPY_MODEL_cbfd283a96754823b7c4f24f2fe80b49"
            ],
            "layout": "IPY_MODEL_1ba774a5c319414abb79eeb56a38fa61"
          }
        },
        "53c952d7d3af4757b8a6815f09ab2496": {
          "model_module": "@jupyter-widgets/controls",
          "model_name": "HTMLModel",
          "model_module_version": "1.5.0",
          "state": {
            "_dom_classes": [],
            "_model_module": "@jupyter-widgets/controls",
            "_model_module_version": "1.5.0",
            "_model_name": "HTMLModel",
            "_view_count": null,
            "_view_module": "@jupyter-widgets/controls",
            "_view_module_version": "1.5.0",
            "_view_name": "HTMLView",
            "description": "",
            "description_tooltip": null,
            "layout": "IPY_MODEL_ece1ffe8d4ac4c2daba92e3a771a98b8",
            "placeholder": "​",
            "style": "IPY_MODEL_7c4e9fc8e7144bdf803c711e9cd95b71",
            "value": "<center> <img\nsrc=https://huggingface.co/front/assets/huggingface_logo-noborder.svg\nalt='Hugging Face'> <br> Copy a token from <a\nhref=\"https://huggingface.co/settings/tokens\" target=\"_blank\">your Hugging Face\ntokens page</a> and paste it below. <br> Immediately click login after copying\nyour token or it might be stored in plain text in this notebook file. </center>"
          }
        },
        "75df4674d403487b83cefde2d7921b8b": {
          "model_module": "@jupyter-widgets/controls",
          "model_name": "PasswordModel",
          "model_module_version": "1.5.0",
          "state": {
            "_dom_classes": [],
            "_model_module": "@jupyter-widgets/controls",
            "_model_module_version": "1.5.0",
            "_model_name": "PasswordModel",
            "_view_count": null,
            "_view_module": "@jupyter-widgets/controls",
            "_view_module_version": "1.5.0",
            "_view_name": "PasswordView",
            "continuous_update": true,
            "description": "Token:",
            "description_tooltip": null,
            "disabled": false,
            "layout": "IPY_MODEL_2af0502cae7a4b5d9d2f2e60ea49a359",
            "placeholder": "​",
            "style": "IPY_MODEL_bcf0eefad1a34f85aad729e33de9ff7b",
            "value": ""
          }
        },
        "63558075fa154067976104a99041887c": {
          "model_module": "@jupyter-widgets/controls",
          "model_name": "ButtonModel",
          "model_module_version": "1.5.0",
          "state": {
            "_dom_classes": [],
            "_model_module": "@jupyter-widgets/controls",
            "_model_module_version": "1.5.0",
            "_model_name": "ButtonModel",
            "_view_count": null,
            "_view_module": "@jupyter-widgets/controls",
            "_view_module_version": "1.5.0",
            "_view_name": "ButtonView",
            "button_style": "",
            "description": "Login",
            "disabled": false,
            "icon": "",
            "layout": "IPY_MODEL_e6dff615c21c4e589984498277efe02f",
            "style": "IPY_MODEL_6242b8a1704a437b9d75ec35418a5500",
            "tooltip": ""
          }
        },
        "2b9ac832d0bd4e87b090e0ada154cb29": {
          "model_module": "@jupyter-widgets/controls",
          "model_name": "HTMLModel",
          "model_module_version": "1.5.0",
          "state": {
            "_dom_classes": [],
            "_model_module": "@jupyter-widgets/controls",
            "_model_module_version": "1.5.0",
            "_model_name": "HTMLModel",
            "_view_count": null,
            "_view_module": "@jupyter-widgets/controls",
            "_view_module_version": "1.5.0",
            "_view_name": "HTMLView",
            "description": "",
            "description_tooltip": null,
            "layout": "IPY_MODEL_162d2b1d30b14d4bba42c10ac319d9fc",
            "placeholder": "​",
            "style": "IPY_MODEL_b6659998a91e433bb30e85932f046b6a",
            "value": "\n<b>Pro Tip:</b> If you don't already have one, you can create a dedicated\n'notebooks' token with 'write' access, that you can then easily reuse for all\nnotebooks. <br> <i>Logging in with your username and password is deprecated and\nwon't be possible anymore in the near future. You can still use them for now by\nclicking below.</i> </center>"
          }
        },
        "cbfd283a96754823b7c4f24f2fe80b49": {
          "model_module": "@jupyter-widgets/controls",
          "model_name": "ButtonModel",
          "model_module_version": "1.5.0",
          "state": {
            "_dom_classes": [],
            "_model_module": "@jupyter-widgets/controls",
            "_model_module_version": "1.5.0",
            "_model_name": "ButtonModel",
            "_view_count": null,
            "_view_module": "@jupyter-widgets/controls",
            "_view_module_version": "1.5.0",
            "_view_name": "ButtonView",
            "button_style": "",
            "description": "Use password",
            "disabled": false,
            "icon": "",
            "layout": "IPY_MODEL_d463dafeb54e4fe285596781f8c3115c",
            "style": "IPY_MODEL_f5c3562dbffb443c9bd94d7200342870",
            "tooltip": ""
          }
        },
        "1ba774a5c319414abb79eeb56a38fa61": {
          "model_module": "@jupyter-widgets/base",
          "model_name": "LayoutModel",
          "model_module_version": "1.2.0",
          "state": {
            "_model_module": "@jupyter-widgets/base",
            "_model_module_version": "1.2.0",
            "_model_name": "LayoutModel",
            "_view_count": null,
            "_view_module": "@jupyter-widgets/base",
            "_view_module_version": "1.2.0",
            "_view_name": "LayoutView",
            "align_content": null,
            "align_items": "center",
            "align_self": null,
            "border": null,
            "bottom": null,
            "display": "flex",
            "flex": null,
            "flex_flow": "column",
            "grid_area": null,
            "grid_auto_columns": null,
            "grid_auto_flow": null,
            "grid_auto_rows": null,
            "grid_column": null,
            "grid_gap": null,
            "grid_row": null,
            "grid_template_areas": null,
            "grid_template_columns": null,
            "grid_template_rows": null,
            "height": null,
            "justify_content": null,
            "justify_items": null,
            "left": null,
            "margin": null,
            "max_height": null,
            "max_width": null,
            "min_height": null,
            "min_width": null,
            "object_fit": null,
            "object_position": null,
            "order": null,
            "overflow": null,
            "overflow_x": null,
            "overflow_y": null,
            "padding": null,
            "right": null,
            "top": null,
            "visibility": null,
            "width": "50%"
          }
        },
        "ece1ffe8d4ac4c2daba92e3a771a98b8": {
          "model_module": "@jupyter-widgets/base",
          "model_name": "LayoutModel",
          "model_module_version": "1.2.0",
          "state": {
            "_model_module": "@jupyter-widgets/base",
            "_model_module_version": "1.2.0",
            "_model_name": "LayoutModel",
            "_view_count": null,
            "_view_module": "@jupyter-widgets/base",
            "_view_module_version": "1.2.0",
            "_view_name": "LayoutView",
            "align_content": null,
            "align_items": null,
            "align_self": null,
            "border": null,
            "bottom": null,
            "display": null,
            "flex": null,
            "flex_flow": null,
            "grid_area": null,
            "grid_auto_columns": null,
            "grid_auto_flow": null,
            "grid_auto_rows": null,
            "grid_column": null,
            "grid_gap": null,
            "grid_row": null,
            "grid_template_areas": null,
            "grid_template_columns": null,
            "grid_template_rows": null,
            "height": null,
            "justify_content": null,
            "justify_items": null,
            "left": null,
            "margin": null,
            "max_height": null,
            "max_width": null,
            "min_height": null,
            "min_width": null,
            "object_fit": null,
            "object_position": null,
            "order": null,
            "overflow": null,
            "overflow_x": null,
            "overflow_y": null,
            "padding": null,
            "right": null,
            "top": null,
            "visibility": null,
            "width": null
          }
        },
        "7c4e9fc8e7144bdf803c711e9cd95b71": {
          "model_module": "@jupyter-widgets/controls",
          "model_name": "DescriptionStyleModel",
          "model_module_version": "1.5.0",
          "state": {
            "_model_module": "@jupyter-widgets/controls",
            "_model_module_version": "1.5.0",
            "_model_name": "DescriptionStyleModel",
            "_view_count": null,
            "_view_module": "@jupyter-widgets/base",
            "_view_module_version": "1.2.0",
            "_view_name": "StyleView",
            "description_width": ""
          }
        },
        "2af0502cae7a4b5d9d2f2e60ea49a359": {
          "model_module": "@jupyter-widgets/base",
          "model_name": "LayoutModel",
          "model_module_version": "1.2.0",
          "state": {
            "_model_module": "@jupyter-widgets/base",
            "_model_module_version": "1.2.0",
            "_model_name": "LayoutModel",
            "_view_count": null,
            "_view_module": "@jupyter-widgets/base",
            "_view_module_version": "1.2.0",
            "_view_name": "LayoutView",
            "align_content": null,
            "align_items": null,
            "align_self": null,
            "border": null,
            "bottom": null,
            "display": null,
            "flex": null,
            "flex_flow": null,
            "grid_area": null,
            "grid_auto_columns": null,
            "grid_auto_flow": null,
            "grid_auto_rows": null,
            "grid_column": null,
            "grid_gap": null,
            "grid_row": null,
            "grid_template_areas": null,
            "grid_template_columns": null,
            "grid_template_rows": null,
            "height": null,
            "justify_content": null,
            "justify_items": null,
            "left": null,
            "margin": null,
            "max_height": null,
            "max_width": null,
            "min_height": null,
            "min_width": null,
            "object_fit": null,
            "object_position": null,
            "order": null,
            "overflow": null,
            "overflow_x": null,
            "overflow_y": null,
            "padding": null,
            "right": null,
            "top": null,
            "visibility": null,
            "width": null
          }
        },
        "bcf0eefad1a34f85aad729e33de9ff7b": {
          "model_module": "@jupyter-widgets/controls",
          "model_name": "DescriptionStyleModel",
          "model_module_version": "1.5.0",
          "state": {
            "_model_module": "@jupyter-widgets/controls",
            "_model_module_version": "1.5.0",
            "_model_name": "DescriptionStyleModel",
            "_view_count": null,
            "_view_module": "@jupyter-widgets/base",
            "_view_module_version": "1.2.0",
            "_view_name": "StyleView",
            "description_width": ""
          }
        },
        "e6dff615c21c4e589984498277efe02f": {
          "model_module": "@jupyter-widgets/base",
          "model_name": "LayoutModel",
          "model_module_version": "1.2.0",
          "state": {
            "_model_module": "@jupyter-widgets/base",
            "_model_module_version": "1.2.0",
            "_model_name": "LayoutModel",
            "_view_count": null,
            "_view_module": "@jupyter-widgets/base",
            "_view_module_version": "1.2.0",
            "_view_name": "LayoutView",
            "align_content": null,
            "align_items": null,
            "align_self": null,
            "border": null,
            "bottom": null,
            "display": null,
            "flex": null,
            "flex_flow": null,
            "grid_area": null,
            "grid_auto_columns": null,
            "grid_auto_flow": null,
            "grid_auto_rows": null,
            "grid_column": null,
            "grid_gap": null,
            "grid_row": null,
            "grid_template_areas": null,
            "grid_template_columns": null,
            "grid_template_rows": null,
            "height": null,
            "justify_content": null,
            "justify_items": null,
            "left": null,
            "margin": null,
            "max_height": null,
            "max_width": null,
            "min_height": null,
            "min_width": null,
            "object_fit": null,
            "object_position": null,
            "order": null,
            "overflow": null,
            "overflow_x": null,
            "overflow_y": null,
            "padding": null,
            "right": null,
            "top": null,
            "visibility": null,
            "width": null
          }
        },
        "6242b8a1704a437b9d75ec35418a5500": {
          "model_module": "@jupyter-widgets/controls",
          "model_name": "ButtonStyleModel",
          "model_module_version": "1.5.0",
          "state": {
            "_model_module": "@jupyter-widgets/controls",
            "_model_module_version": "1.5.0",
            "_model_name": "ButtonStyleModel",
            "_view_count": null,
            "_view_module": "@jupyter-widgets/base",
            "_view_module_version": "1.2.0",
            "_view_name": "StyleView",
            "button_color": null,
            "font_weight": ""
          }
        },
        "162d2b1d30b14d4bba42c10ac319d9fc": {
          "model_module": "@jupyter-widgets/base",
          "model_name": "LayoutModel",
          "model_module_version": "1.2.0",
          "state": {
            "_model_module": "@jupyter-widgets/base",
            "_model_module_version": "1.2.0",
            "_model_name": "LayoutModel",
            "_view_count": null,
            "_view_module": "@jupyter-widgets/base",
            "_view_module_version": "1.2.0",
            "_view_name": "LayoutView",
            "align_content": null,
            "align_items": null,
            "align_self": null,
            "border": null,
            "bottom": null,
            "display": null,
            "flex": null,
            "flex_flow": null,
            "grid_area": null,
            "grid_auto_columns": null,
            "grid_auto_flow": null,
            "grid_auto_rows": null,
            "grid_column": null,
            "grid_gap": null,
            "grid_row": null,
            "grid_template_areas": null,
            "grid_template_columns": null,
            "grid_template_rows": null,
            "height": null,
            "justify_content": null,
            "justify_items": null,
            "left": null,
            "margin": null,
            "max_height": null,
            "max_width": null,
            "min_height": null,
            "min_width": null,
            "object_fit": null,
            "object_position": null,
            "order": null,
            "overflow": null,
            "overflow_x": null,
            "overflow_y": null,
            "padding": null,
            "right": null,
            "top": null,
            "visibility": null,
            "width": null
          }
        },
        "b6659998a91e433bb30e85932f046b6a": {
          "model_module": "@jupyter-widgets/controls",
          "model_name": "DescriptionStyleModel",
          "model_module_version": "1.5.0",
          "state": {
            "_model_module": "@jupyter-widgets/controls",
            "_model_module_version": "1.5.0",
            "_model_name": "DescriptionStyleModel",
            "_view_count": null,
            "_view_module": "@jupyter-widgets/base",
            "_view_module_version": "1.2.0",
            "_view_name": "StyleView",
            "description_width": ""
          }
        },
        "d463dafeb54e4fe285596781f8c3115c": {
          "model_module": "@jupyter-widgets/base",
          "model_name": "LayoutModel",
          "model_module_version": "1.2.0",
          "state": {
            "_model_module": "@jupyter-widgets/base",
            "_model_module_version": "1.2.0",
            "_model_name": "LayoutModel",
            "_view_count": null,
            "_view_module": "@jupyter-widgets/base",
            "_view_module_version": "1.2.0",
            "_view_name": "LayoutView",
            "align_content": null,
            "align_items": null,
            "align_self": null,
            "border": null,
            "bottom": null,
            "display": null,
            "flex": null,
            "flex_flow": null,
            "grid_area": null,
            "grid_auto_columns": null,
            "grid_auto_flow": null,
            "grid_auto_rows": null,
            "grid_column": null,
            "grid_gap": null,
            "grid_row": null,
            "grid_template_areas": null,
            "grid_template_columns": null,
            "grid_template_rows": null,
            "height": null,
            "justify_content": null,
            "justify_items": null,
            "left": null,
            "margin": null,
            "max_height": null,
            "max_width": null,
            "min_height": null,
            "min_width": null,
            "object_fit": null,
            "object_position": null,
            "order": null,
            "overflow": null,
            "overflow_x": null,
            "overflow_y": null,
            "padding": null,
            "right": null,
            "top": null,
            "visibility": null,
            "width": null
          }
        },
        "f5c3562dbffb443c9bd94d7200342870": {
          "model_module": "@jupyter-widgets/controls",
          "model_name": "ButtonStyleModel",
          "model_module_version": "1.5.0",
          "state": {
            "_model_module": "@jupyter-widgets/controls",
            "_model_module_version": "1.5.0",
            "_model_name": "ButtonStyleModel",
            "_view_count": null,
            "_view_module": "@jupyter-widgets/base",
            "_view_module_version": "1.2.0",
            "_view_name": "StyleView",
            "button_color": null,
            "font_weight": ""
          }
        },
        "9f6fb44b255348efbe2c09759189a38c": {
          "model_module": "@jupyter-widgets/controls",
          "model_name": "HBoxModel",
          "model_module_version": "1.5.0",
          "state": {
            "_dom_classes": [],
            "_model_module": "@jupyter-widgets/controls",
            "_model_module_version": "1.5.0",
            "_model_name": "HBoxModel",
            "_view_count": null,
            "_view_module": "@jupyter-widgets/controls",
            "_view_module_version": "1.5.0",
            "_view_name": "HBoxView",
            "box_style": "",
            "children": [
              "IPY_MODEL_1b0f7560d262488d8e1112c3b9c26db8",
              "IPY_MODEL_1537c6ba058c452d872541cd0815f9a6",
              "IPY_MODEL_d904a15a81f34e99b532dea0d034e7d6"
            ],
            "layout": "IPY_MODEL_2570c9d649b84e2c946b0502bae77a84"
          }
        },
        "1b0f7560d262488d8e1112c3b9c26db8": {
          "model_module": "@jupyter-widgets/controls",
          "model_name": "HTMLModel",
          "model_module_version": "1.5.0",
          "state": {
            "_dom_classes": [],
            "_model_module": "@jupyter-widgets/controls",
            "_model_module_version": "1.5.0",
            "_model_name": "HTMLModel",
            "_view_count": null,
            "_view_module": "@jupyter-widgets/controls",
            "_view_module_version": "1.5.0",
            "_view_name": "HTMLView",
            "description": "",
            "description_tooltip": null,
            "layout": "IPY_MODEL_c7dc984ec9624861b63710bd433efb89",
            "placeholder": "​",
            "style": "IPY_MODEL_28992d82ada44e988509a3817d8109fd",
            "value": "Upload file tf_model.h5: 100%"
          }
        },
        "1537c6ba058c452d872541cd0815f9a6": {
          "model_module": "@jupyter-widgets/controls",
          "model_name": "FloatProgressModel",
          "model_module_version": "1.5.0",
          "state": {
            "_dom_classes": [],
            "_model_module": "@jupyter-widgets/controls",
            "_model_module_version": "1.5.0",
            "_model_name": "FloatProgressModel",
            "_view_count": null,
            "_view_module": "@jupyter-widgets/controls",
            "_view_module_version": "1.5.0",
            "_view_name": "ProgressView",
            "bar_style": "success",
            "description": "",
            "description_tooltip": null,
            "layout": "IPY_MODEL_cdb59b0bafc9434d8ac45f5195358ab3",
            "max": 440398864,
            "min": 0,
            "orientation": "horizontal",
            "style": "IPY_MODEL_458d43d713fb446eb9b330e64b2dda2c",
            "value": 440398864
          }
        },
        "d904a15a81f34e99b532dea0d034e7d6": {
          "model_module": "@jupyter-widgets/controls",
          "model_name": "HTMLModel",
          "model_module_version": "1.5.0",
          "state": {
            "_dom_classes": [],
            "_model_module": "@jupyter-widgets/controls",
            "_model_module_version": "1.5.0",
            "_model_name": "HTMLModel",
            "_view_count": null,
            "_view_module": "@jupyter-widgets/controls",
            "_view_module_version": "1.5.0",
            "_view_name": "HTMLView",
            "description": "",
            "description_tooltip": null,
            "layout": "IPY_MODEL_ec1986377f174635934dfa50564725e6",
            "placeholder": "​",
            "style": "IPY_MODEL_3cebd4aec9624ba49301791c1d4de101",
            "value": " 420M/420M [06:29&lt;00:00, 700kB/s]"
          }
        },
        "2570c9d649b84e2c946b0502bae77a84": {
          "model_module": "@jupyter-widgets/base",
          "model_name": "LayoutModel",
          "model_module_version": "1.2.0",
          "state": {
            "_model_module": "@jupyter-widgets/base",
            "_model_module_version": "1.2.0",
            "_model_name": "LayoutModel",
            "_view_count": null,
            "_view_module": "@jupyter-widgets/base",
            "_view_module_version": "1.2.0",
            "_view_name": "LayoutView",
            "align_content": null,
            "align_items": null,
            "align_self": null,
            "border": null,
            "bottom": null,
            "display": null,
            "flex": null,
            "flex_flow": null,
            "grid_area": null,
            "grid_auto_columns": null,
            "grid_auto_flow": null,
            "grid_auto_rows": null,
            "grid_column": null,
            "grid_gap": null,
            "grid_row": null,
            "grid_template_areas": null,
            "grid_template_columns": null,
            "grid_template_rows": null,
            "height": null,
            "justify_content": null,
            "justify_items": null,
            "left": null,
            "margin": null,
            "max_height": null,
            "max_width": null,
            "min_height": null,
            "min_width": null,
            "object_fit": null,
            "object_position": null,
            "order": null,
            "overflow": null,
            "overflow_x": null,
            "overflow_y": null,
            "padding": null,
            "right": null,
            "top": null,
            "visibility": null,
            "width": null
          }
        },
        "c7dc984ec9624861b63710bd433efb89": {
          "model_module": "@jupyter-widgets/base",
          "model_name": "LayoutModel",
          "model_module_version": "1.2.0",
          "state": {
            "_model_module": "@jupyter-widgets/base",
            "_model_module_version": "1.2.0",
            "_model_name": "LayoutModel",
            "_view_count": null,
            "_view_module": "@jupyter-widgets/base",
            "_view_module_version": "1.2.0",
            "_view_name": "LayoutView",
            "align_content": null,
            "align_items": null,
            "align_self": null,
            "border": null,
            "bottom": null,
            "display": null,
            "flex": null,
            "flex_flow": null,
            "grid_area": null,
            "grid_auto_columns": null,
            "grid_auto_flow": null,
            "grid_auto_rows": null,
            "grid_column": null,
            "grid_gap": null,
            "grid_row": null,
            "grid_template_areas": null,
            "grid_template_columns": null,
            "grid_template_rows": null,
            "height": null,
            "justify_content": null,
            "justify_items": null,
            "left": null,
            "margin": null,
            "max_height": null,
            "max_width": null,
            "min_height": null,
            "min_width": null,
            "object_fit": null,
            "object_position": null,
            "order": null,
            "overflow": null,
            "overflow_x": null,
            "overflow_y": null,
            "padding": null,
            "right": null,
            "top": null,
            "visibility": null,
            "width": null
          }
        },
        "28992d82ada44e988509a3817d8109fd": {
          "model_module": "@jupyter-widgets/controls",
          "model_name": "DescriptionStyleModel",
          "model_module_version": "1.5.0",
          "state": {
            "_model_module": "@jupyter-widgets/controls",
            "_model_module_version": "1.5.0",
            "_model_name": "DescriptionStyleModel",
            "_view_count": null,
            "_view_module": "@jupyter-widgets/base",
            "_view_module_version": "1.2.0",
            "_view_name": "StyleView",
            "description_width": ""
          }
        },
        "cdb59b0bafc9434d8ac45f5195358ab3": {
          "model_module": "@jupyter-widgets/base",
          "model_name": "LayoutModel",
          "model_module_version": "1.2.0",
          "state": {
            "_model_module": "@jupyter-widgets/base",
            "_model_module_version": "1.2.0",
            "_model_name": "LayoutModel",
            "_view_count": null,
            "_view_module": "@jupyter-widgets/base",
            "_view_module_version": "1.2.0",
            "_view_name": "LayoutView",
            "align_content": null,
            "align_items": null,
            "align_self": null,
            "border": null,
            "bottom": null,
            "display": null,
            "flex": null,
            "flex_flow": null,
            "grid_area": null,
            "grid_auto_columns": null,
            "grid_auto_flow": null,
            "grid_auto_rows": null,
            "grid_column": null,
            "grid_gap": null,
            "grid_row": null,
            "grid_template_areas": null,
            "grid_template_columns": null,
            "grid_template_rows": null,
            "height": null,
            "justify_content": null,
            "justify_items": null,
            "left": null,
            "margin": null,
            "max_height": null,
            "max_width": null,
            "min_height": null,
            "min_width": null,
            "object_fit": null,
            "object_position": null,
            "order": null,
            "overflow": null,
            "overflow_x": null,
            "overflow_y": null,
            "padding": null,
            "right": null,
            "top": null,
            "visibility": null,
            "width": null
          }
        },
        "458d43d713fb446eb9b330e64b2dda2c": {
          "model_module": "@jupyter-widgets/controls",
          "model_name": "ProgressStyleModel",
          "model_module_version": "1.5.0",
          "state": {
            "_model_module": "@jupyter-widgets/controls",
            "_model_module_version": "1.5.0",
            "_model_name": "ProgressStyleModel",
            "_view_count": null,
            "_view_module": "@jupyter-widgets/base",
            "_view_module_version": "1.2.0",
            "_view_name": "StyleView",
            "bar_color": null,
            "description_width": ""
          }
        },
        "ec1986377f174635934dfa50564725e6": {
          "model_module": "@jupyter-widgets/base",
          "model_name": "LayoutModel",
          "model_module_version": "1.2.0",
          "state": {
            "_model_module": "@jupyter-widgets/base",
            "_model_module_version": "1.2.0",
            "_model_name": "LayoutModel",
            "_view_count": null,
            "_view_module": "@jupyter-widgets/base",
            "_view_module_version": "1.2.0",
            "_view_name": "LayoutView",
            "align_content": null,
            "align_items": null,
            "align_self": null,
            "border": null,
            "bottom": null,
            "display": null,
            "flex": null,
            "flex_flow": null,
            "grid_area": null,
            "grid_auto_columns": null,
            "grid_auto_flow": null,
            "grid_auto_rows": null,
            "grid_column": null,
            "grid_gap": null,
            "grid_row": null,
            "grid_template_areas": null,
            "grid_template_columns": null,
            "grid_template_rows": null,
            "height": null,
            "justify_content": null,
            "justify_items": null,
            "left": null,
            "margin": null,
            "max_height": null,
            "max_width": null,
            "min_height": null,
            "min_width": null,
            "object_fit": null,
            "object_position": null,
            "order": null,
            "overflow": null,
            "overflow_x": null,
            "overflow_y": null,
            "padding": null,
            "right": null,
            "top": null,
            "visibility": null,
            "width": null
          }
        },
        "3cebd4aec9624ba49301791c1d4de101": {
          "model_module": "@jupyter-widgets/controls",
          "model_name": "DescriptionStyleModel",
          "model_module_version": "1.5.0",
          "state": {
            "_model_module": "@jupyter-widgets/controls",
            "_model_module_version": "1.5.0",
            "_model_name": "DescriptionStyleModel",
            "_view_count": null,
            "_view_module": "@jupyter-widgets/base",
            "_view_module_version": "1.2.0",
            "_view_name": "StyleView",
            "description_width": ""
          }
        },
        "4c7ab920aea34fcda7732cd2fa03972d": {
          "model_module": "@jupyter-widgets/controls",
          "model_name": "HBoxModel",
          "model_module_version": "1.5.0",
          "state": {
            "_dom_classes": [],
            "_model_module": "@jupyter-widgets/controls",
            "_model_module_version": "1.5.0",
            "_model_name": "HBoxModel",
            "_view_count": null,
            "_view_module": "@jupyter-widgets/controls",
            "_view_module_version": "1.5.0",
            "_view_name": "HBoxView",
            "box_style": "",
            "children": [
              "IPY_MODEL_716f270954f24e5e88bef091915d5d50",
              "IPY_MODEL_608b780faa524420a0091e5b4eae77f6",
              "IPY_MODEL_d5449be7ab184fee9619af0fe288518f"
            ],
            "layout": "IPY_MODEL_414a481efda543efb8fee2651da94d3e"
          }
        },
        "716f270954f24e5e88bef091915d5d50": {
          "model_module": "@jupyter-widgets/controls",
          "model_name": "HTMLModel",
          "model_module_version": "1.5.0",
          "state": {
            "_dom_classes": [],
            "_model_module": "@jupyter-widgets/controls",
            "_model_module_version": "1.5.0",
            "_model_name": "HTMLModel",
            "_view_count": null,
            "_view_module": "@jupyter-widgets/controls",
            "_view_module_version": "1.5.0",
            "_view_name": "HTMLView",
            "description": "",
            "description_tooltip": null,
            "layout": "IPY_MODEL_a283bb19e71b48e2ad02ee8d6843a561",
            "placeholder": "​",
            "style": "IPY_MODEL_2af465b5c59e48cf84918d5363a85dcd",
            "value": "Upload file logs/validation/events.out.tfevents.1654148844.8b5c72b9c6a7.83.12.v2: 100%"
          }
        },
        "608b780faa524420a0091e5b4eae77f6": {
          "model_module": "@jupyter-widgets/controls",
          "model_name": "FloatProgressModel",
          "model_module_version": "1.5.0",
          "state": {
            "_dom_classes": [],
            "_model_module": "@jupyter-widgets/controls",
            "_model_module_version": "1.5.0",
            "_model_name": "FloatProgressModel",
            "_view_count": null,
            "_view_module": "@jupyter-widgets/controls",
            "_view_module_version": "1.5.0",
            "_view_name": "ProgressView",
            "bar_style": "success",
            "description": "",
            "description_tooltip": null,
            "layout": "IPY_MODEL_0d672b7e7127453b83548ba9db8cf913",
            "max": 350,
            "min": 0,
            "orientation": "horizontal",
            "style": "IPY_MODEL_c08ff1b30aa649199a1525a9ecb3482b",
            "value": 350
          }
        },
        "d5449be7ab184fee9619af0fe288518f": {
          "model_module": "@jupyter-widgets/controls",
          "model_name": "HTMLModel",
          "model_module_version": "1.5.0",
          "state": {
            "_dom_classes": [],
            "_model_module": "@jupyter-widgets/controls",
            "_model_module_version": "1.5.0",
            "_model_name": "HTMLModel",
            "_view_count": null,
            "_view_module": "@jupyter-widgets/controls",
            "_view_module_version": "1.5.0",
            "_view_name": "HTMLView",
            "description": "",
            "description_tooltip": null,
            "layout": "IPY_MODEL_a5de15c750e14ebeb4bca50a7e0d42dc",
            "placeholder": "​",
            "style": "IPY_MODEL_3ac5643381c641c48556aa119a759c62",
            "value": " 350/350 [06:29&lt;?, ?B/s]"
          }
        },
        "414a481efda543efb8fee2651da94d3e": {
          "model_module": "@jupyter-widgets/base",
          "model_name": "LayoutModel",
          "model_module_version": "1.2.0",
          "state": {
            "_model_module": "@jupyter-widgets/base",
            "_model_module_version": "1.2.0",
            "_model_name": "LayoutModel",
            "_view_count": null,
            "_view_module": "@jupyter-widgets/base",
            "_view_module_version": "1.2.0",
            "_view_name": "LayoutView",
            "align_content": null,
            "align_items": null,
            "align_self": null,
            "border": null,
            "bottom": null,
            "display": null,
            "flex": null,
            "flex_flow": null,
            "grid_area": null,
            "grid_auto_columns": null,
            "grid_auto_flow": null,
            "grid_auto_rows": null,
            "grid_column": null,
            "grid_gap": null,
            "grid_row": null,
            "grid_template_areas": null,
            "grid_template_columns": null,
            "grid_template_rows": null,
            "height": null,
            "justify_content": null,
            "justify_items": null,
            "left": null,
            "margin": null,
            "max_height": null,
            "max_width": null,
            "min_height": null,
            "min_width": null,
            "object_fit": null,
            "object_position": null,
            "order": null,
            "overflow": null,
            "overflow_x": null,
            "overflow_y": null,
            "padding": null,
            "right": null,
            "top": null,
            "visibility": null,
            "width": null
          }
        },
        "a283bb19e71b48e2ad02ee8d6843a561": {
          "model_module": "@jupyter-widgets/base",
          "model_name": "LayoutModel",
          "model_module_version": "1.2.0",
          "state": {
            "_model_module": "@jupyter-widgets/base",
            "_model_module_version": "1.2.0",
            "_model_name": "LayoutModel",
            "_view_count": null,
            "_view_module": "@jupyter-widgets/base",
            "_view_module_version": "1.2.0",
            "_view_name": "LayoutView",
            "align_content": null,
            "align_items": null,
            "align_self": null,
            "border": null,
            "bottom": null,
            "display": null,
            "flex": null,
            "flex_flow": null,
            "grid_area": null,
            "grid_auto_columns": null,
            "grid_auto_flow": null,
            "grid_auto_rows": null,
            "grid_column": null,
            "grid_gap": null,
            "grid_row": null,
            "grid_template_areas": null,
            "grid_template_columns": null,
            "grid_template_rows": null,
            "height": null,
            "justify_content": null,
            "justify_items": null,
            "left": null,
            "margin": null,
            "max_height": null,
            "max_width": null,
            "min_height": null,
            "min_width": null,
            "object_fit": null,
            "object_position": null,
            "order": null,
            "overflow": null,
            "overflow_x": null,
            "overflow_y": null,
            "padding": null,
            "right": null,
            "top": null,
            "visibility": null,
            "width": null
          }
        },
        "2af465b5c59e48cf84918d5363a85dcd": {
          "model_module": "@jupyter-widgets/controls",
          "model_name": "DescriptionStyleModel",
          "model_module_version": "1.5.0",
          "state": {
            "_model_module": "@jupyter-widgets/controls",
            "_model_module_version": "1.5.0",
            "_model_name": "DescriptionStyleModel",
            "_view_count": null,
            "_view_module": "@jupyter-widgets/base",
            "_view_module_version": "1.2.0",
            "_view_name": "StyleView",
            "description_width": ""
          }
        },
        "0d672b7e7127453b83548ba9db8cf913": {
          "model_module": "@jupyter-widgets/base",
          "model_name": "LayoutModel",
          "model_module_version": "1.2.0",
          "state": {
            "_model_module": "@jupyter-widgets/base",
            "_model_module_version": "1.2.0",
            "_model_name": "LayoutModel",
            "_view_count": null,
            "_view_module": "@jupyter-widgets/base",
            "_view_module_version": "1.2.0",
            "_view_name": "LayoutView",
            "align_content": null,
            "align_items": null,
            "align_self": null,
            "border": null,
            "bottom": null,
            "display": null,
            "flex": null,
            "flex_flow": null,
            "grid_area": null,
            "grid_auto_columns": null,
            "grid_auto_flow": null,
            "grid_auto_rows": null,
            "grid_column": null,
            "grid_gap": null,
            "grid_row": null,
            "grid_template_areas": null,
            "grid_template_columns": null,
            "grid_template_rows": null,
            "height": null,
            "justify_content": null,
            "justify_items": null,
            "left": null,
            "margin": null,
            "max_height": null,
            "max_width": null,
            "min_height": null,
            "min_width": null,
            "object_fit": null,
            "object_position": null,
            "order": null,
            "overflow": null,
            "overflow_x": null,
            "overflow_y": null,
            "padding": null,
            "right": null,
            "top": null,
            "visibility": null,
            "width": null
          }
        },
        "c08ff1b30aa649199a1525a9ecb3482b": {
          "model_module": "@jupyter-widgets/controls",
          "model_name": "ProgressStyleModel",
          "model_module_version": "1.5.0",
          "state": {
            "_model_module": "@jupyter-widgets/controls",
            "_model_module_version": "1.5.0",
            "_model_name": "ProgressStyleModel",
            "_view_count": null,
            "_view_module": "@jupyter-widgets/base",
            "_view_module_version": "1.2.0",
            "_view_name": "StyleView",
            "bar_color": null,
            "description_width": ""
          }
        },
        "a5de15c750e14ebeb4bca50a7e0d42dc": {
          "model_module": "@jupyter-widgets/base",
          "model_name": "LayoutModel",
          "model_module_version": "1.2.0",
          "state": {
            "_model_module": "@jupyter-widgets/base",
            "_model_module_version": "1.2.0",
            "_model_name": "LayoutModel",
            "_view_count": null,
            "_view_module": "@jupyter-widgets/base",
            "_view_module_version": "1.2.0",
            "_view_name": "LayoutView",
            "align_content": null,
            "align_items": null,
            "align_self": null,
            "border": null,
            "bottom": null,
            "display": null,
            "flex": null,
            "flex_flow": null,
            "grid_area": null,
            "grid_auto_columns": null,
            "grid_auto_flow": null,
            "grid_auto_rows": null,
            "grid_column": null,
            "grid_gap": null,
            "grid_row": null,
            "grid_template_areas": null,
            "grid_template_columns": null,
            "grid_template_rows": null,
            "height": null,
            "justify_content": null,
            "justify_items": null,
            "left": null,
            "margin": null,
            "max_height": null,
            "max_width": null,
            "min_height": null,
            "min_width": null,
            "object_fit": null,
            "object_position": null,
            "order": null,
            "overflow": null,
            "overflow_x": null,
            "overflow_y": null,
            "padding": null,
            "right": null,
            "top": null,
            "visibility": null,
            "width": null
          }
        },
        "3ac5643381c641c48556aa119a759c62": {
          "model_module": "@jupyter-widgets/controls",
          "model_name": "DescriptionStyleModel",
          "model_module_version": "1.5.0",
          "state": {
            "_model_module": "@jupyter-widgets/controls",
            "_model_module_version": "1.5.0",
            "_model_name": "DescriptionStyleModel",
            "_view_count": null,
            "_view_module": "@jupyter-widgets/base",
            "_view_module_version": "1.2.0",
            "_view_name": "StyleView",
            "description_width": ""
          }
        },
        "c357f5106bc44f8abf43292fdf9b473b": {
          "model_module": "@jupyter-widgets/controls",
          "model_name": "HBoxModel",
          "model_module_version": "1.5.0",
          "state": {
            "_dom_classes": [],
            "_model_module": "@jupyter-widgets/controls",
            "_model_module_version": "1.5.0",
            "_model_name": "HBoxModel",
            "_view_count": null,
            "_view_module": "@jupyter-widgets/controls",
            "_view_module_version": "1.5.0",
            "_view_name": "HBoxView",
            "box_style": "",
            "children": [
              "IPY_MODEL_f2eb4c96e5c2489f9a3652a8598410b4",
              "IPY_MODEL_aa9a3ca743614c2586bb5abb21990ae3",
              "IPY_MODEL_d686c21a0bf647a8b7886ffaf8076443"
            ],
            "layout": "IPY_MODEL_f534b659874c464a8d857e16aadff918"
          }
        },
        "f2eb4c96e5c2489f9a3652a8598410b4": {
          "model_module": "@jupyter-widgets/controls",
          "model_name": "HTMLModel",
          "model_module_version": "1.5.0",
          "state": {
            "_dom_classes": [],
            "_model_module": "@jupyter-widgets/controls",
            "_model_module_version": "1.5.0",
            "_model_name": "HTMLModel",
            "_view_count": null,
            "_view_module": "@jupyter-widgets/controls",
            "_view_module_version": "1.5.0",
            "_view_name": "HTMLView",
            "description": "",
            "description_tooltip": null,
            "layout": "IPY_MODEL_54a86b15c6a54d71a2eb04ab8f2a3dbc",
            "placeholder": "​",
            "style": "IPY_MODEL_cdfba980bf864027ba62fc97a8bacf5f",
            "value": "Upload file logs/train/events.out.tfevents.1654142985.8b5c72b9c6a7.83.11.v2: 100%"
          }
        },
        "aa9a3ca743614c2586bb5abb21990ae3": {
          "model_module": "@jupyter-widgets/controls",
          "model_name": "FloatProgressModel",
          "model_module_version": "1.5.0",
          "state": {
            "_dom_classes": [],
            "_model_module": "@jupyter-widgets/controls",
            "_model_module_version": "1.5.0",
            "_model_name": "FloatProgressModel",
            "_view_count": null,
            "_view_module": "@jupyter-widgets/controls",
            "_view_module_version": "1.5.0",
            "_view_name": "ProgressView",
            "bar_style": "success",
            "description": "",
            "description_tooltip": null,
            "layout": "IPY_MODEL_7dc8d3b3a6544c2094730f51fa856eac",
            "max": 2677209,
            "min": 0,
            "orientation": "horizontal",
            "style": "IPY_MODEL_51f44ab1cc594e2d869ebc81f4880693",
            "value": 2677209
          }
        },
        "d686c21a0bf647a8b7886ffaf8076443": {
          "model_module": "@jupyter-widgets/controls",
          "model_name": "HTMLModel",
          "model_module_version": "1.5.0",
          "state": {
            "_dom_classes": [],
            "_model_module": "@jupyter-widgets/controls",
            "_model_module_version": "1.5.0",
            "_model_name": "HTMLModel",
            "_view_count": null,
            "_view_module": "@jupyter-widgets/controls",
            "_view_module_version": "1.5.0",
            "_view_name": "HTMLView",
            "description": "",
            "description_tooltip": null,
            "layout": "IPY_MODEL_46127034cca44cb1bfd4b3e93be5f7c3",
            "placeholder": "​",
            "style": "IPY_MODEL_b4d430698a9c405d9d5f560d10100364",
            "value": " 2.55M/2.55M [06:29&lt;00:00, 3.78kB/s]"
          }
        },
        "f534b659874c464a8d857e16aadff918": {
          "model_module": "@jupyter-widgets/base",
          "model_name": "LayoutModel",
          "model_module_version": "1.2.0",
          "state": {
            "_model_module": "@jupyter-widgets/base",
            "_model_module_version": "1.2.0",
            "_model_name": "LayoutModel",
            "_view_count": null,
            "_view_module": "@jupyter-widgets/base",
            "_view_module_version": "1.2.0",
            "_view_name": "LayoutView",
            "align_content": null,
            "align_items": null,
            "align_self": null,
            "border": null,
            "bottom": null,
            "display": null,
            "flex": null,
            "flex_flow": null,
            "grid_area": null,
            "grid_auto_columns": null,
            "grid_auto_flow": null,
            "grid_auto_rows": null,
            "grid_column": null,
            "grid_gap": null,
            "grid_row": null,
            "grid_template_areas": null,
            "grid_template_columns": null,
            "grid_template_rows": null,
            "height": null,
            "justify_content": null,
            "justify_items": null,
            "left": null,
            "margin": null,
            "max_height": null,
            "max_width": null,
            "min_height": null,
            "min_width": null,
            "object_fit": null,
            "object_position": null,
            "order": null,
            "overflow": null,
            "overflow_x": null,
            "overflow_y": null,
            "padding": null,
            "right": null,
            "top": null,
            "visibility": null,
            "width": null
          }
        },
        "54a86b15c6a54d71a2eb04ab8f2a3dbc": {
          "model_module": "@jupyter-widgets/base",
          "model_name": "LayoutModel",
          "model_module_version": "1.2.0",
          "state": {
            "_model_module": "@jupyter-widgets/base",
            "_model_module_version": "1.2.0",
            "_model_name": "LayoutModel",
            "_view_count": null,
            "_view_module": "@jupyter-widgets/base",
            "_view_module_version": "1.2.0",
            "_view_name": "LayoutView",
            "align_content": null,
            "align_items": null,
            "align_self": null,
            "border": null,
            "bottom": null,
            "display": null,
            "flex": null,
            "flex_flow": null,
            "grid_area": null,
            "grid_auto_columns": null,
            "grid_auto_flow": null,
            "grid_auto_rows": null,
            "grid_column": null,
            "grid_gap": null,
            "grid_row": null,
            "grid_template_areas": null,
            "grid_template_columns": null,
            "grid_template_rows": null,
            "height": null,
            "justify_content": null,
            "justify_items": null,
            "left": null,
            "margin": null,
            "max_height": null,
            "max_width": null,
            "min_height": null,
            "min_width": null,
            "object_fit": null,
            "object_position": null,
            "order": null,
            "overflow": null,
            "overflow_x": null,
            "overflow_y": null,
            "padding": null,
            "right": null,
            "top": null,
            "visibility": null,
            "width": null
          }
        },
        "cdfba980bf864027ba62fc97a8bacf5f": {
          "model_module": "@jupyter-widgets/controls",
          "model_name": "DescriptionStyleModel",
          "model_module_version": "1.5.0",
          "state": {
            "_model_module": "@jupyter-widgets/controls",
            "_model_module_version": "1.5.0",
            "_model_name": "DescriptionStyleModel",
            "_view_count": null,
            "_view_module": "@jupyter-widgets/base",
            "_view_module_version": "1.2.0",
            "_view_name": "StyleView",
            "description_width": ""
          }
        },
        "7dc8d3b3a6544c2094730f51fa856eac": {
          "model_module": "@jupyter-widgets/base",
          "model_name": "LayoutModel",
          "model_module_version": "1.2.0",
          "state": {
            "_model_module": "@jupyter-widgets/base",
            "_model_module_version": "1.2.0",
            "_model_name": "LayoutModel",
            "_view_count": null,
            "_view_module": "@jupyter-widgets/base",
            "_view_module_version": "1.2.0",
            "_view_name": "LayoutView",
            "align_content": null,
            "align_items": null,
            "align_self": null,
            "border": null,
            "bottom": null,
            "display": null,
            "flex": null,
            "flex_flow": null,
            "grid_area": null,
            "grid_auto_columns": null,
            "grid_auto_flow": null,
            "grid_auto_rows": null,
            "grid_column": null,
            "grid_gap": null,
            "grid_row": null,
            "grid_template_areas": null,
            "grid_template_columns": null,
            "grid_template_rows": null,
            "height": null,
            "justify_content": null,
            "justify_items": null,
            "left": null,
            "margin": null,
            "max_height": null,
            "max_width": null,
            "min_height": null,
            "min_width": null,
            "object_fit": null,
            "object_position": null,
            "order": null,
            "overflow": null,
            "overflow_x": null,
            "overflow_y": null,
            "padding": null,
            "right": null,
            "top": null,
            "visibility": null,
            "width": null
          }
        },
        "51f44ab1cc594e2d869ebc81f4880693": {
          "model_module": "@jupyter-widgets/controls",
          "model_name": "ProgressStyleModel",
          "model_module_version": "1.5.0",
          "state": {
            "_model_module": "@jupyter-widgets/controls",
            "_model_module_version": "1.5.0",
            "_model_name": "ProgressStyleModel",
            "_view_count": null,
            "_view_module": "@jupyter-widgets/base",
            "_view_module_version": "1.2.0",
            "_view_name": "StyleView",
            "bar_color": null,
            "description_width": ""
          }
        },
        "46127034cca44cb1bfd4b3e93be5f7c3": {
          "model_module": "@jupyter-widgets/base",
          "model_name": "LayoutModel",
          "model_module_version": "1.2.0",
          "state": {
            "_model_module": "@jupyter-widgets/base",
            "_model_module_version": "1.2.0",
            "_model_name": "LayoutModel",
            "_view_count": null,
            "_view_module": "@jupyter-widgets/base",
            "_view_module_version": "1.2.0",
            "_view_name": "LayoutView",
            "align_content": null,
            "align_items": null,
            "align_self": null,
            "border": null,
            "bottom": null,
            "display": null,
            "flex": null,
            "flex_flow": null,
            "grid_area": null,
            "grid_auto_columns": null,
            "grid_auto_flow": null,
            "grid_auto_rows": null,
            "grid_column": null,
            "grid_gap": null,
            "grid_row": null,
            "grid_template_areas": null,
            "grid_template_columns": null,
            "grid_template_rows": null,
            "height": null,
            "justify_content": null,
            "justify_items": null,
            "left": null,
            "margin": null,
            "max_height": null,
            "max_width": null,
            "min_height": null,
            "min_width": null,
            "object_fit": null,
            "object_position": null,
            "order": null,
            "overflow": null,
            "overflow_x": null,
            "overflow_y": null,
            "padding": null,
            "right": null,
            "top": null,
            "visibility": null,
            "width": null
          }
        },
        "b4d430698a9c405d9d5f560d10100364": {
          "model_module": "@jupyter-widgets/controls",
          "model_name": "DescriptionStyleModel",
          "model_module_version": "1.5.0",
          "state": {
            "_model_module": "@jupyter-widgets/controls",
            "_model_module_version": "1.5.0",
            "_model_name": "DescriptionStyleModel",
            "_view_count": null,
            "_view_module": "@jupyter-widgets/base",
            "_view_module_version": "1.2.0",
            "_view_name": "StyleView",
            "description_width": ""
          }
        },
        "ba4b17fb74784cdeac6145b34fa63a23": {
          "model_module": "@jupyter-widgets/controls",
          "model_name": "HBoxModel",
          "model_module_version": "1.5.0",
          "state": {
            "_dom_classes": [],
            "_model_module": "@jupyter-widgets/controls",
            "_model_module_version": "1.5.0",
            "_model_name": "HBoxModel",
            "_view_count": null,
            "_view_module": "@jupyter-widgets/controls",
            "_view_module_version": "1.5.0",
            "_view_name": "HBoxView",
            "box_style": "",
            "children": [
              "IPY_MODEL_a93e6ad2c69543799ed7e6c43c62c7ca",
              "IPY_MODEL_c4c89ff1c8ce4f30aaa7f1634a8797f5",
              "IPY_MODEL_39341fee8ea442148d4a038dc60b0826"
            ],
            "layout": "IPY_MODEL_1b274892fb9a4d6a955870250724aaa9"
          }
        },
        "a93e6ad2c69543799ed7e6c43c62c7ca": {
          "model_module": "@jupyter-widgets/controls",
          "model_name": "HTMLModel",
          "model_module_version": "1.5.0",
          "state": {
            "_dom_classes": [],
            "_model_module": "@jupyter-widgets/controls",
            "_model_module_version": "1.5.0",
            "_model_name": "HTMLModel",
            "_view_count": null,
            "_view_module": "@jupyter-widgets/controls",
            "_view_module_version": "1.5.0",
            "_view_name": "HTMLView",
            "description": "",
            "description_tooltip": null,
            "layout": "IPY_MODEL_9919457e059c42bcbbd29f833819a8c0",
            "placeholder": "​",
            "style": "IPY_MODEL_ee42c311e9ba4dd180ae6c7076ea98d4",
            "value": "100%"
          }
        },
        "c4c89ff1c8ce4f30aaa7f1634a8797f5": {
          "model_module": "@jupyter-widgets/controls",
          "model_name": "FloatProgressModel",
          "model_module_version": "1.5.0",
          "state": {
            "_dom_classes": [],
            "_model_module": "@jupyter-widgets/controls",
            "_model_module_version": "1.5.0",
            "_model_name": "FloatProgressModel",
            "_view_count": null,
            "_view_module": "@jupyter-widgets/controls",
            "_view_module_version": "1.5.0",
            "_view_name": "ProgressView",
            "bar_style": "success",
            "description": "",
            "description_tooltip": null,
            "layout": "IPY_MODEL_a421101801ca454798218d6fa1a63ed2",
            "max": 12,
            "min": 0,
            "orientation": "horizontal",
            "style": "IPY_MODEL_6719e3ae3e9c4a4cbfb2472d7a83a49f",
            "value": 12
          }
        },
        "39341fee8ea442148d4a038dc60b0826": {
          "model_module": "@jupyter-widgets/controls",
          "model_name": "HTMLModel",
          "model_module_version": "1.5.0",
          "state": {
            "_dom_classes": [],
            "_model_module": "@jupyter-widgets/controls",
            "_model_module_version": "1.5.0",
            "_model_name": "HTMLModel",
            "_view_count": null,
            "_view_module": "@jupyter-widgets/controls",
            "_view_module_version": "1.5.0",
            "_view_name": "HTMLView",
            "description": "",
            "description_tooltip": null,
            "layout": "IPY_MODEL_d81cfa4e8ece4663ac86b09edb7a8005",
            "placeholder": "​",
            "style": "IPY_MODEL_0acb41b518d94c05a93c95f0c864bfe8",
            "value": " 12/12 [01:07&lt;00:00,  5.32s/ba]"
          }
        },
        "1b274892fb9a4d6a955870250724aaa9": {
          "model_module": "@jupyter-widgets/base",
          "model_name": "LayoutModel",
          "model_module_version": "1.2.0",
          "state": {
            "_model_module": "@jupyter-widgets/base",
            "_model_module_version": "1.2.0",
            "_model_name": "LayoutModel",
            "_view_count": null,
            "_view_module": "@jupyter-widgets/base",
            "_view_module_version": "1.2.0",
            "_view_name": "LayoutView",
            "align_content": null,
            "align_items": null,
            "align_self": null,
            "border": null,
            "bottom": null,
            "display": null,
            "flex": null,
            "flex_flow": null,
            "grid_area": null,
            "grid_auto_columns": null,
            "grid_auto_flow": null,
            "grid_auto_rows": null,
            "grid_column": null,
            "grid_gap": null,
            "grid_row": null,
            "grid_template_areas": null,
            "grid_template_columns": null,
            "grid_template_rows": null,
            "height": null,
            "justify_content": null,
            "justify_items": null,
            "left": null,
            "margin": null,
            "max_height": null,
            "max_width": null,
            "min_height": null,
            "min_width": null,
            "object_fit": null,
            "object_position": null,
            "order": null,
            "overflow": null,
            "overflow_x": null,
            "overflow_y": null,
            "padding": null,
            "right": null,
            "top": null,
            "visibility": null,
            "width": null
          }
        },
        "9919457e059c42bcbbd29f833819a8c0": {
          "model_module": "@jupyter-widgets/base",
          "model_name": "LayoutModel",
          "model_module_version": "1.2.0",
          "state": {
            "_model_module": "@jupyter-widgets/base",
            "_model_module_version": "1.2.0",
            "_model_name": "LayoutModel",
            "_view_count": null,
            "_view_module": "@jupyter-widgets/base",
            "_view_module_version": "1.2.0",
            "_view_name": "LayoutView",
            "align_content": null,
            "align_items": null,
            "align_self": null,
            "border": null,
            "bottom": null,
            "display": null,
            "flex": null,
            "flex_flow": null,
            "grid_area": null,
            "grid_auto_columns": null,
            "grid_auto_flow": null,
            "grid_auto_rows": null,
            "grid_column": null,
            "grid_gap": null,
            "grid_row": null,
            "grid_template_areas": null,
            "grid_template_columns": null,
            "grid_template_rows": null,
            "height": null,
            "justify_content": null,
            "justify_items": null,
            "left": null,
            "margin": null,
            "max_height": null,
            "max_width": null,
            "min_height": null,
            "min_width": null,
            "object_fit": null,
            "object_position": null,
            "order": null,
            "overflow": null,
            "overflow_x": null,
            "overflow_y": null,
            "padding": null,
            "right": null,
            "top": null,
            "visibility": null,
            "width": null
          }
        },
        "ee42c311e9ba4dd180ae6c7076ea98d4": {
          "model_module": "@jupyter-widgets/controls",
          "model_name": "DescriptionStyleModel",
          "model_module_version": "1.5.0",
          "state": {
            "_model_module": "@jupyter-widgets/controls",
            "_model_module_version": "1.5.0",
            "_model_name": "DescriptionStyleModel",
            "_view_count": null,
            "_view_module": "@jupyter-widgets/base",
            "_view_module_version": "1.2.0",
            "_view_name": "StyleView",
            "description_width": ""
          }
        },
        "a421101801ca454798218d6fa1a63ed2": {
          "model_module": "@jupyter-widgets/base",
          "model_name": "LayoutModel",
          "model_module_version": "1.2.0",
          "state": {
            "_model_module": "@jupyter-widgets/base",
            "_model_module_version": "1.2.0",
            "_model_name": "LayoutModel",
            "_view_count": null,
            "_view_module": "@jupyter-widgets/base",
            "_view_module_version": "1.2.0",
            "_view_name": "LayoutView",
            "align_content": null,
            "align_items": null,
            "align_self": null,
            "border": null,
            "bottom": null,
            "display": null,
            "flex": null,
            "flex_flow": null,
            "grid_area": null,
            "grid_auto_columns": null,
            "grid_auto_flow": null,
            "grid_auto_rows": null,
            "grid_column": null,
            "grid_gap": null,
            "grid_row": null,
            "grid_template_areas": null,
            "grid_template_columns": null,
            "grid_template_rows": null,
            "height": null,
            "justify_content": null,
            "justify_items": null,
            "left": null,
            "margin": null,
            "max_height": null,
            "max_width": null,
            "min_height": null,
            "min_width": null,
            "object_fit": null,
            "object_position": null,
            "order": null,
            "overflow": null,
            "overflow_x": null,
            "overflow_y": null,
            "padding": null,
            "right": null,
            "top": null,
            "visibility": null,
            "width": null
          }
        },
        "6719e3ae3e9c4a4cbfb2472d7a83a49f": {
          "model_module": "@jupyter-widgets/controls",
          "model_name": "ProgressStyleModel",
          "model_module_version": "1.5.0",
          "state": {
            "_model_module": "@jupyter-widgets/controls",
            "_model_module_version": "1.5.0",
            "_model_name": "ProgressStyleModel",
            "_view_count": null,
            "_view_module": "@jupyter-widgets/base",
            "_view_module_version": "1.2.0",
            "_view_name": "StyleView",
            "bar_color": null,
            "description_width": ""
          }
        },
        "d81cfa4e8ece4663ac86b09edb7a8005": {
          "model_module": "@jupyter-widgets/base",
          "model_name": "LayoutModel",
          "model_module_version": "1.2.0",
          "state": {
            "_model_module": "@jupyter-widgets/base",
            "_model_module_version": "1.2.0",
            "_model_name": "LayoutModel",
            "_view_count": null,
            "_view_module": "@jupyter-widgets/base",
            "_view_module_version": "1.2.0",
            "_view_name": "LayoutView",
            "align_content": null,
            "align_items": null,
            "align_self": null,
            "border": null,
            "bottom": null,
            "display": null,
            "flex": null,
            "flex_flow": null,
            "grid_area": null,
            "grid_auto_columns": null,
            "grid_auto_flow": null,
            "grid_auto_rows": null,
            "grid_column": null,
            "grid_gap": null,
            "grid_row": null,
            "grid_template_areas": null,
            "grid_template_columns": null,
            "grid_template_rows": null,
            "height": null,
            "justify_content": null,
            "justify_items": null,
            "left": null,
            "margin": null,
            "max_height": null,
            "max_width": null,
            "min_height": null,
            "min_width": null,
            "object_fit": null,
            "object_position": null,
            "order": null,
            "overflow": null,
            "overflow_x": null,
            "overflow_y": null,
            "padding": null,
            "right": null,
            "top": null,
            "visibility": null,
            "width": null
          }
        },
        "0acb41b518d94c05a93c95f0c864bfe8": {
          "model_module": "@jupyter-widgets/controls",
          "model_name": "DescriptionStyleModel",
          "model_module_version": "1.5.0",
          "state": {
            "_model_module": "@jupyter-widgets/controls",
            "_model_module_version": "1.5.0",
            "_model_name": "DescriptionStyleModel",
            "_view_count": null,
            "_view_module": "@jupyter-widgets/base",
            "_view_module_version": "1.2.0",
            "_view_name": "StyleView",
            "description_width": ""
          }
        }
      }
    }
  },
  "nbformat": 4,
  "nbformat_minor": 0
}